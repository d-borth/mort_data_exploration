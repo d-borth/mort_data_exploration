{
 "cells": [
  {
   "cell_type": "markdown",
   "metadata": {},
   "source": [
    "# 2018 Vital Statistics Mortality Data Exploration"
   ]
  },
  {
   "cell_type": "code",
   "execution_count": 1,
   "metadata": {},
   "outputs": [],
   "source": [
    "import turicreate as tc"
   ]
  },
  {
   "cell_type": "markdown",
   "metadata": {},
   "source": [
    "### Read-in csv coverted mortality data. Save or load SFrame"
   ]
  },
  {
   "cell_type": "code",
   "execution_count": 2,
   "metadata": {},
   "outputs": [],
   "source": [
    "sf = tc.SFrame.read_csv('/home/durk/Desktop/Projects/mort2018us/mort2018us.csv', delimiter=',')"
   ]
  },
  {
   "cell_type": "code",
   "execution_count": 3,
   "metadata": {},
   "outputs": [],
   "source": [
    "sf.save('mort2018us_sframe')"
   ]
  },
  {
   "cell_type": "code",
   "execution_count": 4,
   "metadata": {},
   "outputs": [],
   "source": [
    "sf = tc.load_sframe('mort2018us_sframe')"
   ]
  },
  {
   "cell_type": "markdown",
   "metadata": {},
   "source": [
    "### Subset/clean data\n",
    "Here we are removing instances without a cause of death and the ICD10 codes which are specific identifiers for the cause of death, the very thing we are trying to predict as based on the case description and biographical infromation"
   ]
  },
  {
   "cell_type": "code",
   "execution_count": 5,
   "metadata": {},
   "outputs": [],
   "source": [
    "sf_s = sf[(sf['Manner_Of_Death']<=7)]"
   ]
  },
  {
   "cell_type": "code",
   "execution_count": 6,
   "metadata": {},
   "outputs": [],
   "source": [
    "data = sf_s.remove_column('ICD10')"
   ]
  },
  {
   "cell_type": "markdown",
   "metadata": {},
   "source": [
    "### View data summaries"
   ]
  },
  {
   "cell_type": "code",
   "execution_count": 7,
   "metadata": {
    "scrolled": true
   },
   "outputs": [
    {
     "data": {
      "text/html": [
       "<div style=\"max-height:1000px;max-width:1500px;overflow:auto;\"><table frame=\"box\" rules=\"cols\">\n",
       "    <tr>\n",
       "        <th style=\"padding-left: 1em; padding-right: 1em; text-align: center\">Resident_Status</th>\n",
       "        <th style=\"padding-left: 1em; padding-right: 1em; text-align: center\">Education_89_Rev</th>\n",
       "        <th style=\"padding-left: 1em; padding-right: 1em; text-align: center\">Education_03_Rev</th>\n",
       "        <th style=\"padding-left: 1em; padding-right: 1em; text-align: center\">Education_Rep_Flag</th>\n",
       "        <th style=\"padding-left: 1em; padding-right: 1em; text-align: center\">Month_Of_Death</th>\n",
       "        <th style=\"padding-left: 1em; padding-right: 1em; text-align: center\">Sex</th>\n",
       "        <th style=\"padding-left: 1em; padding-right: 1em; text-align: center\">Age_Key</th>\n",
       "        <th style=\"padding-left: 1em; padding-right: 1em; text-align: center\">Age_Value</th>\n",
       "    </tr>\n",
       "    <tr>\n",
       "        <td style=\"padding-left: 1em; padding-right: 1em; text-align: center; vertical-align: top\">3</td>\n",
       "        <td style=\"padding-left: 1em; padding-right: 1em; text-align: center; vertical-align: top\"></td>\n",
       "        <td style=\"padding-left: 1em; padding-right: 1em; text-align: center; vertical-align: top\">3</td>\n",
       "        <td style=\"padding-left: 1em; padding-right: 1em; text-align: center; vertical-align: top\">1</td>\n",
       "        <td style=\"padding-left: 1em; padding-right: 1em; text-align: center; vertical-align: top\">1</td>\n",
       "        <td style=\"padding-left: 1em; padding-right: 1em; text-align: center; vertical-align: top\">F</td>\n",
       "        <td style=\"padding-left: 1em; padding-right: 1em; text-align: center; vertical-align: top\">1</td>\n",
       "        <td style=\"padding-left: 1em; padding-right: 1em; text-align: center; vertical-align: top\">46</td>\n",
       "    </tr>\n",
       "    <tr>\n",
       "        <td style=\"padding-left: 1em; padding-right: 1em; text-align: center; vertical-align: top\">1</td>\n",
       "        <td style=\"padding-left: 1em; padding-right: 1em; text-align: center; vertical-align: top\"></td>\n",
       "        <td style=\"padding-left: 1em; padding-right: 1em; text-align: center; vertical-align: top\">3</td>\n",
       "        <td style=\"padding-left: 1em; padding-right: 1em; text-align: center; vertical-align: top\">1</td>\n",
       "        <td style=\"padding-left: 1em; padding-right: 1em; text-align: center; vertical-align: top\">1</td>\n",
       "        <td style=\"padding-left: 1em; padding-right: 1em; text-align: center; vertical-align: top\">M</td>\n",
       "        <td style=\"padding-left: 1em; padding-right: 1em; text-align: center; vertical-align: top\">1</td>\n",
       "        <td style=\"padding-left: 1em; padding-right: 1em; text-align: center; vertical-align: top\">28</td>\n",
       "    </tr>\n",
       "    <tr>\n",
       "        <td style=\"padding-left: 1em; padding-right: 1em; text-align: center; vertical-align: top\">1</td>\n",
       "        <td style=\"padding-left: 1em; padding-right: 1em; text-align: center; vertical-align: top\"></td>\n",
       "        <td style=\"padding-left: 1em; padding-right: 1em; text-align: center; vertical-align: top\">6</td>\n",
       "        <td style=\"padding-left: 1em; padding-right: 1em; text-align: center; vertical-align: top\">1</td>\n",
       "        <td style=\"padding-left: 1em; padding-right: 1em; text-align: center; vertical-align: top\">1</td>\n",
       "        <td style=\"padding-left: 1em; padding-right: 1em; text-align: center; vertical-align: top\">M</td>\n",
       "        <td style=\"padding-left: 1em; padding-right: 1em; text-align: center; vertical-align: top\">1</td>\n",
       "        <td style=\"padding-left: 1em; padding-right: 1em; text-align: center; vertical-align: top\">93</td>\n",
       "    </tr>\n",
       "    <tr>\n",
       "        <td style=\"padding-left: 1em; padding-right: 1em; text-align: center; vertical-align: top\">1</td>\n",
       "        <td style=\"padding-left: 1em; padding-right: 1em; text-align: center; vertical-align: top\"></td>\n",
       "        <td style=\"padding-left: 1em; padding-right: 1em; text-align: center; vertical-align: top\">2</td>\n",
       "        <td style=\"padding-left: 1em; padding-right: 1em; text-align: center; vertical-align: top\">1</td>\n",
       "        <td style=\"padding-left: 1em; padding-right: 1em; text-align: center; vertical-align: top\">1</td>\n",
       "        <td style=\"padding-left: 1em; padding-right: 1em; text-align: center; vertical-align: top\">M</td>\n",
       "        <td style=\"padding-left: 1em; padding-right: 1em; text-align: center; vertical-align: top\">1</td>\n",
       "        <td style=\"padding-left: 1em; padding-right: 1em; text-align: center; vertical-align: top\">90</td>\n",
       "    </tr>\n",
       "    <tr>\n",
       "        <td style=\"padding-left: 1em; padding-right: 1em; text-align: center; vertical-align: top\">2</td>\n",
       "        <td style=\"padding-left: 1em; padding-right: 1em; text-align: center; vertical-align: top\"></td>\n",
       "        <td style=\"padding-left: 1em; padding-right: 1em; text-align: center; vertical-align: top\">4</td>\n",
       "        <td style=\"padding-left: 1em; padding-right: 1em; text-align: center; vertical-align: top\">1</td>\n",
       "        <td style=\"padding-left: 1em; padding-right: 1em; text-align: center; vertical-align: top\">1</td>\n",
       "        <td style=\"padding-left: 1em; padding-right: 1em; text-align: center; vertical-align: top\">F</td>\n",
       "        <td style=\"padding-left: 1em; padding-right: 1em; text-align: center; vertical-align: top\">1</td>\n",
       "        <td style=\"padding-left: 1em; padding-right: 1em; text-align: center; vertical-align: top\">31</td>\n",
       "    </tr>\n",
       "    <tr>\n",
       "        <td style=\"padding-left: 1em; padding-right: 1em; text-align: center; vertical-align: top\">2</td>\n",
       "        <td style=\"padding-left: 1em; padding-right: 1em; text-align: center; vertical-align: top\"></td>\n",
       "        <td style=\"padding-left: 1em; padding-right: 1em; text-align: center; vertical-align: top\">6</td>\n",
       "        <td style=\"padding-left: 1em; padding-right: 1em; text-align: center; vertical-align: top\">1</td>\n",
       "        <td style=\"padding-left: 1em; padding-right: 1em; text-align: center; vertical-align: top\">1</td>\n",
       "        <td style=\"padding-left: 1em; padding-right: 1em; text-align: center; vertical-align: top\">F</td>\n",
       "        <td style=\"padding-left: 1em; padding-right: 1em; text-align: center; vertical-align: top\">1</td>\n",
       "        <td style=\"padding-left: 1em; padding-right: 1em; text-align: center; vertical-align: top\">30</td>\n",
       "    </tr>\n",
       "    <tr>\n",
       "        <td style=\"padding-left: 1em; padding-right: 1em; text-align: center; vertical-align: top\">1</td>\n",
       "        <td style=\"padding-left: 1em; padding-right: 1em; text-align: center; vertical-align: top\"></td>\n",
       "        <td style=\"padding-left: 1em; padding-right: 1em; text-align: center; vertical-align: top\">3</td>\n",
       "        <td style=\"padding-left: 1em; padding-right: 1em; text-align: center; vertical-align: top\">1</td>\n",
       "        <td style=\"padding-left: 1em; padding-right: 1em; text-align: center; vertical-align: top\">1</td>\n",
       "        <td style=\"padding-left: 1em; padding-right: 1em; text-align: center; vertical-align: top\">M</td>\n",
       "        <td style=\"padding-left: 1em; padding-right: 1em; text-align: center; vertical-align: top\">1</td>\n",
       "        <td style=\"padding-left: 1em; padding-right: 1em; text-align: center; vertical-align: top\">85</td>\n",
       "    </tr>\n",
       "    <tr>\n",
       "        <td style=\"padding-left: 1em; padding-right: 1em; text-align: center; vertical-align: top\">1</td>\n",
       "        <td style=\"padding-left: 1em; padding-right: 1em; text-align: center; vertical-align: top\"></td>\n",
       "        <td style=\"padding-left: 1em; padding-right: 1em; text-align: center; vertical-align: top\">3</td>\n",
       "        <td style=\"padding-left: 1em; padding-right: 1em; text-align: center; vertical-align: top\">1</td>\n",
       "        <td style=\"padding-left: 1em; padding-right: 1em; text-align: center; vertical-align: top\">1</td>\n",
       "        <td style=\"padding-left: 1em; padding-right: 1em; text-align: center; vertical-align: top\">M</td>\n",
       "        <td style=\"padding-left: 1em; padding-right: 1em; text-align: center; vertical-align: top\">1</td>\n",
       "        <td style=\"padding-left: 1em; padding-right: 1em; text-align: center; vertical-align: top\">89</td>\n",
       "    </tr>\n",
       "    <tr>\n",
       "        <td style=\"padding-left: 1em; padding-right: 1em; text-align: center; vertical-align: top\">1</td>\n",
       "        <td style=\"padding-left: 1em; padding-right: 1em; text-align: center; vertical-align: top\"></td>\n",
       "        <td style=\"padding-left: 1em; padding-right: 1em; text-align: center; vertical-align: top\">4</td>\n",
       "        <td style=\"padding-left: 1em; padding-right: 1em; text-align: center; vertical-align: top\">1</td>\n",
       "        <td style=\"padding-left: 1em; padding-right: 1em; text-align: center; vertical-align: top\">1</td>\n",
       "        <td style=\"padding-left: 1em; padding-right: 1em; text-align: center; vertical-align: top\">M</td>\n",
       "        <td style=\"padding-left: 1em; padding-right: 1em; text-align: center; vertical-align: top\">1</td>\n",
       "        <td style=\"padding-left: 1em; padding-right: 1em; text-align: center; vertical-align: top\">81</td>\n",
       "    </tr>\n",
       "    <tr>\n",
       "        <td style=\"padding-left: 1em; padding-right: 1em; text-align: center; vertical-align: top\">1</td>\n",
       "        <td style=\"padding-left: 1em; padding-right: 1em; text-align: center; vertical-align: top\"></td>\n",
       "        <td style=\"padding-left: 1em; padding-right: 1em; text-align: center; vertical-align: top\">4</td>\n",
       "        <td style=\"padding-left: 1em; padding-right: 1em; text-align: center; vertical-align: top\">1</td>\n",
       "        <td style=\"padding-left: 1em; padding-right: 1em; text-align: center; vertical-align: top\">1</td>\n",
       "        <td style=\"padding-left: 1em; padding-right: 1em; text-align: center; vertical-align: top\">F</td>\n",
       "        <td style=\"padding-left: 1em; padding-right: 1em; text-align: center; vertical-align: top\">1</td>\n",
       "        <td style=\"padding-left: 1em; padding-right: 1em; text-align: center; vertical-align: top\">89</td>\n",
       "    </tr>\n",
       "</table>\n",
       "<table frame=\"box\" rules=\"cols\">\n",
       "    <tr>\n",
       "        <th style=\"padding-left: 1em; padding-right: 1em; text-align: center\">Age_Sub_Flag</th>\n",
       "        <th style=\"padding-left: 1em; padding-right: 1em; text-align: center\">Age_Recode_52</th>\n",
       "        <th style=\"padding-left: 1em; padding-right: 1em; text-align: center\">Age_Recode_27</th>\n",
       "        <th style=\"padding-left: 1em; padding-right: 1em; text-align: center\">Age_Recode_12</th>\n",
       "        <th style=\"padding-left: 1em; padding-right: 1em; text-align: center\">Infant_Age_Recode_22</th>\n",
       "        <th style=\"padding-left: 1em; padding-right: 1em; text-align: center\">Place_Of_Death</th>\n",
       "        <th style=\"padding-left: 1em; padding-right: 1em; text-align: center\">Marital_Status</th>\n",
       "    </tr>\n",
       "    <tr>\n",
       "        <td style=\"padding-left: 1em; padding-right: 1em; text-align: center; vertical-align: top\"></td>\n",
       "        <td style=\"padding-left: 1em; padding-right: 1em; text-align: center; vertical-align: top\">35</td>\n",
       "        <td style=\"padding-left: 1em; padding-right: 1em; text-align: center; vertical-align: top\">15</td>\n",
       "        <td style=\"padding-left: 1em; padding-right: 1em; text-align: center; vertical-align: top\">7</td>\n",
       "        <td style=\"padding-left: 1em; padding-right: 1em; text-align: center; vertical-align: top\"></td>\n",
       "        <td style=\"padding-left: 1em; padding-right: 1em; text-align: center; vertical-align: top\">1</td>\n",
       "        <td style=\"padding-left: 1em; padding-right: 1em; text-align: center; vertical-align: top\">D</td>\n",
       "    </tr>\n",
       "    <tr>\n",
       "        <td style=\"padding-left: 1em; padding-right: 1em; text-align: center; vertical-align: top\"></td>\n",
       "        <td style=\"padding-left: 1em; padding-right: 1em; text-align: center; vertical-align: top\">31</td>\n",
       "        <td style=\"padding-left: 1em; padding-right: 1em; text-align: center; vertical-align: top\">11</td>\n",
       "        <td style=\"padding-left: 1em; padding-right: 1em; text-align: center; vertical-align: top\">5</td>\n",
       "        <td style=\"padding-left: 1em; padding-right: 1em; text-align: center; vertical-align: top\"></td>\n",
       "        <td style=\"padding-left: 1em; padding-right: 1em; text-align: center; vertical-align: top\">7</td>\n",
       "        <td style=\"padding-left: 1em; padding-right: 1em; text-align: center; vertical-align: top\">S</td>\n",
       "    </tr>\n",
       "    <tr>\n",
       "        <td style=\"padding-left: 1em; padding-right: 1em; text-align: center; vertical-align: top\"></td>\n",
       "        <td style=\"padding-left: 1em; padding-right: 1em; text-align: center; vertical-align: top\">44</td>\n",
       "        <td style=\"padding-left: 1em; padding-right: 1em; text-align: center; vertical-align: top\">24</td>\n",
       "        <td style=\"padding-left: 1em; padding-right: 1em; text-align: center; vertical-align: top\">11</td>\n",
       "        <td style=\"padding-left: 1em; padding-right: 1em; text-align: center; vertical-align: top\"></td>\n",
       "        <td style=\"padding-left: 1em; padding-right: 1em; text-align: center; vertical-align: top\">6</td>\n",
       "        <td style=\"padding-left: 1em; padding-right: 1em; text-align: center; vertical-align: top\">D</td>\n",
       "    </tr>\n",
       "    <tr>\n",
       "        <td style=\"padding-left: 1em; padding-right: 1em; text-align: center; vertical-align: top\"></td>\n",
       "        <td style=\"padding-left: 1em; padding-right: 1em; text-align: center; vertical-align: top\">44</td>\n",
       "        <td style=\"padding-left: 1em; padding-right: 1em; text-align: center; vertical-align: top\">24</td>\n",
       "        <td style=\"padding-left: 1em; padding-right: 1em; text-align: center; vertical-align: top\">11</td>\n",
       "        <td style=\"padding-left: 1em; padding-right: 1em; text-align: center; vertical-align: top\"></td>\n",
       "        <td style=\"padding-left: 1em; padding-right: 1em; text-align: center; vertical-align: top\">1</td>\n",
       "        <td style=\"padding-left: 1em; padding-right: 1em; text-align: center; vertical-align: top\">W</td>\n",
       "    </tr>\n",
       "    <tr>\n",
       "        <td style=\"padding-left: 1em; padding-right: 1em; text-align: center; vertical-align: top\"></td>\n",
       "        <td style=\"padding-left: 1em; padding-right: 1em; text-align: center; vertical-align: top\">32</td>\n",
       "        <td style=\"padding-left: 1em; padding-right: 1em; text-align: center; vertical-align: top\">12</td>\n",
       "        <td style=\"padding-left: 1em; padding-right: 1em; text-align: center; vertical-align: top\">5</td>\n",
       "        <td style=\"padding-left: 1em; padding-right: 1em; text-align: center; vertical-align: top\"></td>\n",
       "        <td style=\"padding-left: 1em; padding-right: 1em; text-align: center; vertical-align: top\">1</td>\n",
       "        <td style=\"padding-left: 1em; padding-right: 1em; text-align: center; vertical-align: top\">S</td>\n",
       "    </tr>\n",
       "    <tr>\n",
       "        <td style=\"padding-left: 1em; padding-right: 1em; text-align: center; vertical-align: top\"></td>\n",
       "        <td style=\"padding-left: 1em; padding-right: 1em; text-align: center; vertical-align: top\">32</td>\n",
       "        <td style=\"padding-left: 1em; padding-right: 1em; text-align: center; vertical-align: top\">12</td>\n",
       "        <td style=\"padding-left: 1em; padding-right: 1em; text-align: center; vertical-align: top\">5</td>\n",
       "        <td style=\"padding-left: 1em; padding-right: 1em; text-align: center; vertical-align: top\"></td>\n",
       "        <td style=\"padding-left: 1em; padding-right: 1em; text-align: center; vertical-align: top\">7</td>\n",
       "        <td style=\"padding-left: 1em; padding-right: 1em; text-align: center; vertical-align: top\">M</td>\n",
       "    </tr>\n",
       "    <tr>\n",
       "        <td style=\"padding-left: 1em; padding-right: 1em; text-align: center; vertical-align: top\"></td>\n",
       "        <td style=\"padding-left: 1em; padding-right: 1em; text-align: center; vertical-align: top\">43</td>\n",
       "        <td style=\"padding-left: 1em; padding-right: 1em; text-align: center; vertical-align: top\">23</td>\n",
       "        <td style=\"padding-left: 1em; padding-right: 1em; text-align: center; vertical-align: top\">11</td>\n",
       "        <td style=\"padding-left: 1em; padding-right: 1em; text-align: center; vertical-align: top\"></td>\n",
       "        <td style=\"padding-left: 1em; padding-right: 1em; text-align: center; vertical-align: top\">1</td>\n",
       "        <td style=\"padding-left: 1em; padding-right: 1em; text-align: center; vertical-align: top\">M</td>\n",
       "    </tr>\n",
       "    <tr>\n",
       "        <td style=\"padding-left: 1em; padding-right: 1em; text-align: center; vertical-align: top\"></td>\n",
       "        <td style=\"padding-left: 1em; padding-right: 1em; text-align: center; vertical-align: top\">43</td>\n",
       "        <td style=\"padding-left: 1em; padding-right: 1em; text-align: center; vertical-align: top\">23</td>\n",
       "        <td style=\"padding-left: 1em; padding-right: 1em; text-align: center; vertical-align: top\">11</td>\n",
       "        <td style=\"padding-left: 1em; padding-right: 1em; text-align: center; vertical-align: top\"></td>\n",
       "        <td style=\"padding-left: 1em; padding-right: 1em; text-align: center; vertical-align: top\">1</td>\n",
       "        <td style=\"padding-left: 1em; padding-right: 1em; text-align: center; vertical-align: top\">W</td>\n",
       "    </tr>\n",
       "    <tr>\n",
       "        <td style=\"padding-left: 1em; padding-right: 1em; text-align: center; vertical-align: top\"></td>\n",
       "        <td style=\"padding-left: 1em; padding-right: 1em; text-align: center; vertical-align: top\">42</td>\n",
       "        <td style=\"padding-left: 1em; padding-right: 1em; text-align: center; vertical-align: top\">22</td>\n",
       "        <td style=\"padding-left: 1em; padding-right: 1em; text-align: center; vertical-align: top\">10</td>\n",
       "        <td style=\"padding-left: 1em; padding-right: 1em; text-align: center; vertical-align: top\"></td>\n",
       "        <td style=\"padding-left: 1em; padding-right: 1em; text-align: center; vertical-align: top\">4</td>\n",
       "        <td style=\"padding-left: 1em; padding-right: 1em; text-align: center; vertical-align: top\">M</td>\n",
       "    </tr>\n",
       "    <tr>\n",
       "        <td style=\"padding-left: 1em; padding-right: 1em; text-align: center; vertical-align: top\"></td>\n",
       "        <td style=\"padding-left: 1em; padding-right: 1em; text-align: center; vertical-align: top\">43</td>\n",
       "        <td style=\"padding-left: 1em; padding-right: 1em; text-align: center; vertical-align: top\">23</td>\n",
       "        <td style=\"padding-left: 1em; padding-right: 1em; text-align: center; vertical-align: top\">11</td>\n",
       "        <td style=\"padding-left: 1em; padding-right: 1em; text-align: center; vertical-align: top\"></td>\n",
       "        <td style=\"padding-left: 1em; padding-right: 1em; text-align: center; vertical-align: top\">4</td>\n",
       "        <td style=\"padding-left: 1em; padding-right: 1em; text-align: center; vertical-align: top\">W</td>\n",
       "    </tr>\n",
       "</table>\n",
       "<table frame=\"box\" rules=\"cols\">\n",
       "    <tr>\n",
       "        <th style=\"padding-left: 1em; padding-right: 1em; text-align: center\">DOW_of_Death</th>\n",
       "        <th style=\"padding-left: 1em; padding-right: 1em; text-align: center\">Current_Data_Year</th>\n",
       "        <th style=\"padding-left: 1em; padding-right: 1em; text-align: center\">Injured_At_Work</th>\n",
       "        <th style=\"padding-left: 1em; padding-right: 1em; text-align: center\">Manner_Of_Death</th>\n",
       "        <th style=\"padding-left: 1em; padding-right: 1em; text-align: center\">Method_Of_Disposition</th>\n",
       "        <th style=\"padding-left: 1em; padding-right: 1em; text-align: center\">Autopsy</th>\n",
       "        <th style=\"padding-left: 1em; padding-right: 1em; text-align: center\">Activity_Code</th>\n",
       "    </tr>\n",
       "    <tr>\n",
       "        <td style=\"padding-left: 1em; padding-right: 1em; text-align: center; vertical-align: top\">2</td>\n",
       "        <td style=\"padding-left: 1em; padding-right: 1em; text-align: center; vertical-align: top\">2018</td>\n",
       "        <td style=\"padding-left: 1em; padding-right: 1em; text-align: center; vertical-align: top\">U</td>\n",
       "        <td style=\"padding-left: 1em; padding-right: 1em; text-align: center; vertical-align: top\">7</td>\n",
       "        <td style=\"padding-left: 1em; padding-right: 1em; text-align: center; vertical-align: top\">C</td>\n",
       "        <td style=\"padding-left: 1em; padding-right: 1em; text-align: center; vertical-align: top\">N</td>\n",
       "        <td style=\"padding-left: 1em; padding-right: 1em; text-align: center; vertical-align: top\">None</td>\n",
       "    </tr>\n",
       "    <tr>\n",
       "        <td style=\"padding-left: 1em; padding-right: 1em; text-align: center; vertical-align: top\">4</td>\n",
       "        <td style=\"padding-left: 1em; padding-right: 1em; text-align: center; vertical-align: top\">2018</td>\n",
       "        <td style=\"padding-left: 1em; padding-right: 1em; text-align: center; vertical-align: top\">N</td>\n",
       "        <td style=\"padding-left: 1em; padding-right: 1em; text-align: center; vertical-align: top\">1</td>\n",
       "        <td style=\"padding-left: 1em; padding-right: 1em; text-align: center; vertical-align: top\">B</td>\n",
       "        <td style=\"padding-left: 1em; padding-right: 1em; text-align: center; vertical-align: top\">N</td>\n",
       "        <td style=\"padding-left: 1em; padding-right: 1em; text-align: center; vertical-align: top\">9</td>\n",
       "    </tr>\n",
       "    <tr>\n",
       "        <td style=\"padding-left: 1em; padding-right: 1em; text-align: center; vertical-align: top\">3</td>\n",
       "        <td style=\"padding-left: 1em; padding-right: 1em; text-align: center; vertical-align: top\">2018</td>\n",
       "        <td style=\"padding-left: 1em; padding-right: 1em; text-align: center; vertical-align: top\">U</td>\n",
       "        <td style=\"padding-left: 1em; padding-right: 1em; text-align: center; vertical-align: top\">7</td>\n",
       "        <td style=\"padding-left: 1em; padding-right: 1em; text-align: center; vertical-align: top\">B</td>\n",
       "        <td style=\"padding-left: 1em; padding-right: 1em; text-align: center; vertical-align: top\">N</td>\n",
       "        <td style=\"padding-left: 1em; padding-right: 1em; text-align: center; vertical-align: top\">None</td>\n",
       "    </tr>\n",
       "    <tr>\n",
       "        <td style=\"padding-left: 1em; padding-right: 1em; text-align: center; vertical-align: top\">7</td>\n",
       "        <td style=\"padding-left: 1em; padding-right: 1em; text-align: center; vertical-align: top\">2018</td>\n",
       "        <td style=\"padding-left: 1em; padding-right: 1em; text-align: center; vertical-align: top\">U</td>\n",
       "        <td style=\"padding-left: 1em; padding-right: 1em; text-align: center; vertical-align: top\">7</td>\n",
       "        <td style=\"padding-left: 1em; padding-right: 1em; text-align: center; vertical-align: top\">C</td>\n",
       "        <td style=\"padding-left: 1em; padding-right: 1em; text-align: center; vertical-align: top\">N</td>\n",
       "        <td style=\"padding-left: 1em; padding-right: 1em; text-align: center; vertical-align: top\">None</td>\n",
       "    </tr>\n",
       "    <tr>\n",
       "        <td style=\"padding-left: 1em; padding-right: 1em; text-align: center; vertical-align: top\">2</td>\n",
       "        <td style=\"padding-left: 1em; padding-right: 1em; text-align: center; vertical-align: top\">2018</td>\n",
       "        <td style=\"padding-left: 1em; padding-right: 1em; text-align: center; vertical-align: top\">U</td>\n",
       "        <td style=\"padding-left: 1em; padding-right: 1em; text-align: center; vertical-align: top\">7</td>\n",
       "        <td style=\"padding-left: 1em; padding-right: 1em; text-align: center; vertical-align: top\">C</td>\n",
       "        <td style=\"padding-left: 1em; padding-right: 1em; text-align: center; vertical-align: top\">N</td>\n",
       "        <td style=\"padding-left: 1em; padding-right: 1em; text-align: center; vertical-align: top\">None</td>\n",
       "    </tr>\n",
       "    <tr>\n",
       "        <td style=\"padding-left: 1em; padding-right: 1em; text-align: center; vertical-align: top\">2</td>\n",
       "        <td style=\"padding-left: 1em; padding-right: 1em; text-align: center; vertical-align: top\">2018</td>\n",
       "        <td style=\"padding-left: 1em; padding-right: 1em; text-align: center; vertical-align: top\">N</td>\n",
       "        <td style=\"padding-left: 1em; padding-right: 1em; text-align: center; vertical-align: top\">1</td>\n",
       "        <td style=\"padding-left: 1em; padding-right: 1em; text-align: center; vertical-align: top\">C</td>\n",
       "        <td style=\"padding-left: 1em; padding-right: 1em; text-align: center; vertical-align: top\">Y</td>\n",
       "        <td style=\"padding-left: 1em; padding-right: 1em; text-align: center; vertical-align: top\">9</td>\n",
       "    </tr>\n",
       "    <tr>\n",
       "        <td style=\"padding-left: 1em; padding-right: 1em; text-align: center; vertical-align: top\">2</td>\n",
       "        <td style=\"padding-left: 1em; padding-right: 1em; text-align: center; vertical-align: top\">2018</td>\n",
       "        <td style=\"padding-left: 1em; padding-right: 1em; text-align: center; vertical-align: top\">U</td>\n",
       "        <td style=\"padding-left: 1em; padding-right: 1em; text-align: center; vertical-align: top\">7</td>\n",
       "        <td style=\"padding-left: 1em; padding-right: 1em; text-align: center; vertical-align: top\">C</td>\n",
       "        <td style=\"padding-left: 1em; padding-right: 1em; text-align: center; vertical-align: top\">N</td>\n",
       "        <td style=\"padding-left: 1em; padding-right: 1em; text-align: center; vertical-align: top\">None</td>\n",
       "    </tr>\n",
       "    <tr>\n",
       "        <td style=\"padding-left: 1em; padding-right: 1em; text-align: center; vertical-align: top\">3</td>\n",
       "        <td style=\"padding-left: 1em; padding-right: 1em; text-align: center; vertical-align: top\">2018</td>\n",
       "        <td style=\"padding-left: 1em; padding-right: 1em; text-align: center; vertical-align: top\">U</td>\n",
       "        <td style=\"padding-left: 1em; padding-right: 1em; text-align: center; vertical-align: top\">7</td>\n",
       "        <td style=\"padding-left: 1em; padding-right: 1em; text-align: center; vertical-align: top\">R</td>\n",
       "        <td style=\"padding-left: 1em; padding-right: 1em; text-align: center; vertical-align: top\">N</td>\n",
       "        <td style=\"padding-left: 1em; padding-right: 1em; text-align: center; vertical-align: top\">None</td>\n",
       "    </tr>\n",
       "    <tr>\n",
       "        <td style=\"padding-left: 1em; padding-right: 1em; text-align: center; vertical-align: top\">4</td>\n",
       "        <td style=\"padding-left: 1em; padding-right: 1em; text-align: center; vertical-align: top\">2018</td>\n",
       "        <td style=\"padding-left: 1em; padding-right: 1em; text-align: center; vertical-align: top\">U</td>\n",
       "        <td style=\"padding-left: 1em; padding-right: 1em; text-align: center; vertical-align: top\">7</td>\n",
       "        <td style=\"padding-left: 1em; padding-right: 1em; text-align: center; vertical-align: top\">C</td>\n",
       "        <td style=\"padding-left: 1em; padding-right: 1em; text-align: center; vertical-align: top\">N</td>\n",
       "        <td style=\"padding-left: 1em; padding-right: 1em; text-align: center; vertical-align: top\">None</td>\n",
       "    </tr>\n",
       "    <tr>\n",
       "        <td style=\"padding-left: 1em; padding-right: 1em; text-align: center; vertical-align: top\">2</td>\n",
       "        <td style=\"padding-left: 1em; padding-right: 1em; text-align: center; vertical-align: top\">2018</td>\n",
       "        <td style=\"padding-left: 1em; padding-right: 1em; text-align: center; vertical-align: top\">U</td>\n",
       "        <td style=\"padding-left: 1em; padding-right: 1em; text-align: center; vertical-align: top\">7</td>\n",
       "        <td style=\"padding-left: 1em; padding-right: 1em; text-align: center; vertical-align: top\">C</td>\n",
       "        <td style=\"padding-left: 1em; padding-right: 1em; text-align: center; vertical-align: top\">N</td>\n",
       "        <td style=\"padding-left: 1em; padding-right: 1em; text-align: center; vertical-align: top\">None</td>\n",
       "    </tr>\n",
       "</table>\n",
       "<table frame=\"box\" rules=\"cols\">\n",
       "    <tr>\n",
       "        <th style=\"padding-left: 1em; padding-right: 1em; text-align: center\">Place_Of_Causal_Injury</th>\n",
       "        <th style=\"padding-left: 1em; padding-right: 1em; text-align: center\">Cause_Recode_358</th>\n",
       "        <th style=\"padding-left: 1em; padding-right: 1em; text-align: center\">Cause_Recode_113</th>\n",
       "        <th style=\"padding-left: 1em; padding-right: 1em; text-align: center\">Infant_Cause_Recode_130</th>\n",
       "        <th style=\"padding-left: 1em; padding-right: 1em; text-align: center\">Cause_Recode_39</th>\n",
       "        <th style=\"padding-left: 1em; padding-right: 1em; text-align: center\">Entity_Axis_Conditions</th>\n",
       "    </tr>\n",
       "    <tr>\n",
       "        <td style=\"padding-left: 1em; padding-right: 1em; text-align: center; vertical-align: top\">None</td>\n",
       "        <td style=\"padding-left: 1em; padding-right: 1em; text-align: center; vertical-align: top\">23</td>\n",
       "        <td style=\"padding-left: 1em; padding-right: 1em; text-align: center; vertical-align: top\">10</td>\n",
       "        <td style=\"padding-left: 1em; padding-right: 1em; text-align: center; vertical-align: top\"></td>\n",
       "        <td style=\"padding-left: 1em; padding-right: 1em; text-align: center; vertical-align: top\">37</td>\n",
       "        <td style=\"padding-left: 1em; padding-right: 1em; text-align: center; vertical-align: top\">3</td>\n",
       "    </tr>\n",
       "    <tr>\n",
       "        <td style=\"padding-left: 1em; padding-right: 1em; text-align: center; vertical-align: top\">None</td>\n",
       "        <td style=\"padding-left: 1em; padding-right: 1em; text-align: center; vertical-align: top\">392</td>\n",
       "        <td style=\"padding-left: 1em; padding-right: 1em; text-align: center; vertical-align: top\">114</td>\n",
       "        <td style=\"padding-left: 1em; padding-right: 1em; text-align: center; vertical-align: top\"></td>\n",
       "        <td style=\"padding-left: 1em; padding-right: 1em; text-align: center; vertical-align: top\">38</td>\n",
       "        <td style=\"padding-left: 1em; padding-right: 1em; text-align: center; vertical-align: top\">5</td>\n",
       "    </tr>\n",
       "    <tr>\n",
       "        <td style=\"padding-left: 1em; padding-right: 1em; text-align: center; vertical-align: top\">None</td>\n",
       "        <td style=\"padding-left: 1em; padding-right: 1em; text-align: center; vertical-align: top\">113</td>\n",
       "        <td style=\"padding-left: 1em; padding-right: 1em; text-align: center; vertical-align: top\">33</td>\n",
       "        <td style=\"padding-left: 1em; padding-right: 1em; text-align: center; vertical-align: top\"></td>\n",
       "        <td style=\"padding-left: 1em; padding-right: 1em; text-align: center; vertical-align: top\">11</td>\n",
       "        <td style=\"padding-left: 1em; padding-right: 1em; text-align: center; vertical-align: top\">1</td>\n",
       "    </tr>\n",
       "    <tr>\n",
       "        <td style=\"padding-left: 1em; padding-right: 1em; text-align: center; vertical-align: top\">None</td>\n",
       "        <td style=\"padding-left: 1em; padding-right: 1em; text-align: center; vertical-align: top\">23</td>\n",
       "        <td style=\"padding-left: 1em; padding-right: 1em; text-align: center; vertical-align: top\">10</td>\n",
       "        <td style=\"padding-left: 1em; padding-right: 1em; text-align: center; vertical-align: top\"></td>\n",
       "        <td style=\"padding-left: 1em; padding-right: 1em; text-align: center; vertical-align: top\">37</td>\n",
       "        <td style=\"padding-left: 1em; padding-right: 1em; text-align: center; vertical-align: top\">3</td>\n",
       "    </tr>\n",
       "    <tr>\n",
       "        <td style=\"padding-left: 1em; padding-right: 1em; text-align: center; vertical-align: top\">None</td>\n",
       "        <td style=\"padding-left: 1em; padding-right: 1em; text-align: center; vertical-align: top\">298</td>\n",
       "        <td style=\"padding-left: 1em; padding-right: 1em; text-align: center; vertical-align: top\">94</td>\n",
       "        <td style=\"padding-left: 1em; padding-right: 1em; text-align: center; vertical-align: top\"></td>\n",
       "        <td style=\"padding-left: 1em; padding-right: 1em; text-align: center; vertical-align: top\">30</td>\n",
       "        <td style=\"padding-left: 1em; padding-right: 1em; text-align: center; vertical-align: top\">9</td>\n",
       "    </tr>\n",
       "    <tr>\n",
       "        <td style=\"padding-left: 1em; padding-right: 1em; text-align: center; vertical-align: top\">None</td>\n",
       "        <td style=\"padding-left: 1em; padding-right: 1em; text-align: center; vertical-align: top\">397</td>\n",
       "        <td style=\"padding-left: 1em; padding-right: 1em; text-align: center; vertical-align: top\">114</td>\n",
       "        <td style=\"padding-left: 1em; padding-right: 1em; text-align: center; vertical-align: top\"></td>\n",
       "        <td style=\"padding-left: 1em; padding-right: 1em; text-align: center; vertical-align: top\">38</td>\n",
       "        <td style=\"padding-left: 1em; padding-right: 1em; text-align: center; vertical-align: top\">4</td>\n",
       "    </tr>\n",
       "    <tr>\n",
       "        <td style=\"padding-left: 1em; padding-right: 1em; text-align: center; vertical-align: top\">None</td>\n",
       "        <td style=\"padding-left: 1em; padding-right: 1em; text-align: center; vertical-align: top\">23</td>\n",
       "        <td style=\"padding-left: 1em; padding-right: 1em; text-align: center; vertical-align: top\">10</td>\n",
       "        <td style=\"padding-left: 1em; padding-right: 1em; text-align: center; vertical-align: top\"></td>\n",
       "        <td style=\"padding-left: 1em; padding-right: 1em; text-align: center; vertical-align: top\">37</td>\n",
       "        <td style=\"padding-left: 1em; padding-right: 1em; text-align: center; vertical-align: top\">1</td>\n",
       "    </tr>\n",
       "    <tr>\n",
       "        <td style=\"padding-left: 1em; padding-right: 1em; text-align: center; vertical-align: top\">None</td>\n",
       "        <td style=\"padding-left: 1em; padding-right: 1em; text-align: center; vertical-align: top\">159</td>\n",
       "        <td style=\"padding-left: 1em; padding-right: 1em; text-align: center; vertical-align: top\">46</td>\n",
       "        <td style=\"padding-left: 1em; padding-right: 1em; text-align: center; vertical-align: top\"></td>\n",
       "        <td style=\"padding-left: 1em; padding-right: 1em; text-align: center; vertical-align: top\">16</td>\n",
       "        <td style=\"padding-left: 1em; padding-right: 1em; text-align: center; vertical-align: top\">2</td>\n",
       "    </tr>\n",
       "    <tr>\n",
       "        <td style=\"padding-left: 1em; padding-right: 1em; text-align: center; vertical-align: top\">None</td>\n",
       "        <td style=\"padding-left: 1em; padding-right: 1em; text-align: center; vertical-align: top\">230</td>\n",
       "        <td style=\"padding-left: 1em; padding-right: 1em; text-align: center; vertical-align: top\">67</td>\n",
       "        <td style=\"padding-left: 1em; padding-right: 1em; text-align: center; vertical-align: top\"></td>\n",
       "        <td style=\"padding-left: 1em; padding-right: 1em; text-align: center; vertical-align: top\">22</td>\n",
       "        <td style=\"padding-left: 1em; padding-right: 1em; text-align: center; vertical-align: top\">1</td>\n",
       "    </tr>\n",
       "    <tr>\n",
       "        <td style=\"padding-left: 1em; padding-right: 1em; text-align: center; vertical-align: top\">None</td>\n",
       "        <td style=\"padding-left: 1em; padding-right: 1em; text-align: center; vertical-align: top\">215</td>\n",
       "        <td style=\"padding-left: 1em; padding-right: 1em; text-align: center; vertical-align: top\">63</td>\n",
       "        <td style=\"padding-left: 1em; padding-right: 1em; text-align: center; vertical-align: top\"></td>\n",
       "        <td style=\"padding-left: 1em; padding-right: 1em; text-align: center; vertical-align: top\">21</td>\n",
       "        <td style=\"padding-left: 1em; padding-right: 1em; text-align: center; vertical-align: top\">2</td>\n",
       "    </tr>\n",
       "</table>\n",
       "<table frame=\"box\" rules=\"cols\">\n",
       "    <tr>\n",
       "        <th style=\"padding-left: 1em; padding-right: 1em; text-align: center\">EAC1</th>\n",
       "        <th style=\"padding-left: 1em; padding-right: 1em; text-align: center\">EAC2</th>\n",
       "        <th style=\"padding-left: 1em; padding-right: 1em; text-align: center\">EAC3</th>\n",
       "        <th style=\"padding-left: 1em; padding-right: 1em; text-align: center\">EAC4</th>\n",
       "        <th style=\"padding-left: 1em; padding-right: 1em; text-align: center\">EAC5</th>\n",
       "        <th style=\"padding-left: 1em; padding-right: 1em; text-align: center\">EAC6</th>\n",
       "        <th style=\"padding-left: 1em; padding-right: 1em; text-align: center\">EAC7</th>\n",
       "        <th style=\"padding-left: 1em; padding-right: 1em; text-align: center\">EAC8</th>\n",
       "        <th style=\"padding-left: 1em; padding-right: 1em; text-align: center\">EAC9</th>\n",
       "        <th style=\"padding-left: 1em; padding-right: 1em; text-align: center\">EAC10</th>\n",
       "        <th style=\"padding-left: 1em; padding-right: 1em; text-align: center\">EAC11</th>\n",
       "        <th style=\"padding-left: 1em; padding-right: 1em; text-align: center\">EAC12</th>\n",
       "        <th style=\"padding-left: 1em; padding-right: 1em; text-align: center\">...</th>\n",
       "    </tr>\n",
       "    <tr>\n",
       "        <td style=\"padding-left: 1em; padding-right: 1em; text-align: center; vertical-align: top\">11J189</td>\n",
       "        <td style=\"padding-left: 1em; padding-right: 1em; text-align: center; vertical-align: top\">21J869</td>\n",
       "        <td style=\"padding-left: 1em; padding-right: 1em; text-align: center; vertical-align: top\">31A419</td>\n",
       "        <td style=\"padding-left: 1em; padding-right: 1em; text-align: center; vertical-align: top\"></td>\n",
       "        <td style=\"padding-left: 1em; padding-right: 1em; text-align: center; vertical-align: top\"></td>\n",
       "        <td style=\"padding-left: 1em; padding-right: 1em; text-align: center; vertical-align: top\"></td>\n",
       "        <td style=\"padding-left: 1em; padding-right: 1em; text-align: center; vertical-align: top\"></td>\n",
       "        <td style=\"padding-left: 1em; padding-right: 1em; text-align: center; vertical-align: top\"></td>\n",
       "        <td style=\"padding-left: 1em; padding-right: 1em; text-align: center; vertical-align: top\"></td>\n",
       "        <td style=\"padding-left: 1em; padding-right: 1em; text-align: center; vertical-align: top\"></td>\n",
       "        <td style=\"padding-left: 1em; padding-right: 1em; text-align: center; vertical-align: top\"></td>\n",
       "        <td style=\"padding-left: 1em; padding-right: 1em; text-align: center; vertical-align: top\"></td>\n",
       "        <td style=\"padding-left: 1em; padding-right: 1em; text-align: center; vertical-align: top\">...</td>\n",
       "    </tr>\n",
       "    <tr>\n",
       "        <td style=\"padding-left: 1em; padding-right: 1em; text-align: center; vertical-align: top\">11S099</td>\n",
       "        <td style=\"padding-left: 1em; padding-right: 1em; text-align: center; vertical-align: top\">12V475</td>\n",
       "        <td style=\"padding-left: 1em; padding-right: 1em; text-align: center; vertical-align: top\">13T099</td>\n",
       "        <td style=\"padding-left: 1em; padding-right: 1em; text-align: center; vertical-align: top\">14T149</td>\n",
       "        <td style=\"padding-left: 1em; padding-right: 1em; text-align: center; vertical-align: top\">15S021</td>\n",
       "        <td style=\"padding-left: 1em; padding-right: 1em; text-align: center; vertical-align: top\"></td>\n",
       "        <td style=\"padding-left: 1em; padding-right: 1em; text-align: center; vertical-align: top\"></td>\n",
       "        <td style=\"padding-left: 1em; padding-right: 1em; text-align: center; vertical-align: top\"></td>\n",
       "        <td style=\"padding-left: 1em; padding-right: 1em; text-align: center; vertical-align: top\"></td>\n",
       "        <td style=\"padding-left: 1em; padding-right: 1em; text-align: center; vertical-align: top\"></td>\n",
       "        <td style=\"padding-left: 1em; padding-right: 1em; text-align: center; vertical-align: top\"></td>\n",
       "        <td style=\"padding-left: 1em; padding-right: 1em; text-align: center; vertical-align: top\"></td>\n",
       "        <td style=\"padding-left: 1em; padding-right: 1em; text-align: center; vertical-align: top\">...</td>\n",
       "    </tr>\n",
       "    <tr>\n",
       "        <td style=\"padding-left: 1em; padding-right: 1em; text-align: center; vertical-align: top\">11C61</td>\n",
       "        <td style=\"padding-left: 1em; padding-right: 1em; text-align: center; vertical-align: top\"></td>\n",
       "        <td style=\"padding-left: 1em; padding-right: 1em; text-align: center; vertical-align: top\"></td>\n",
       "        <td style=\"padding-left: 1em; padding-right: 1em; text-align: center; vertical-align: top\"></td>\n",
       "        <td style=\"padding-left: 1em; padding-right: 1em; text-align: center; vertical-align: top\"></td>\n",
       "        <td style=\"padding-left: 1em; padding-right: 1em; text-align: center; vertical-align: top\"></td>\n",
       "        <td style=\"padding-left: 1em; padding-right: 1em; text-align: center; vertical-align: top\"></td>\n",
       "        <td style=\"padding-left: 1em; padding-right: 1em; text-align: center; vertical-align: top\"></td>\n",
       "        <td style=\"padding-left: 1em; padding-right: 1em; text-align: center; vertical-align: top\"></td>\n",
       "        <td style=\"padding-left: 1em; padding-right: 1em; text-align: center; vertical-align: top\"></td>\n",
       "        <td style=\"padding-left: 1em; padding-right: 1em; text-align: center; vertical-align: top\"></td>\n",
       "        <td style=\"padding-left: 1em; padding-right: 1em; text-align: center; vertical-align: top\"></td>\n",
       "        <td style=\"padding-left: 1em; padding-right: 1em; text-align: center; vertical-align: top\">...</td>\n",
       "    </tr>\n",
       "    <tr>\n",
       "        <td style=\"padding-left: 1em; padding-right: 1em; text-align: center; vertical-align: top\">11R688</td>\n",
       "        <td style=\"padding-left: 1em; padding-right: 1em; text-align: center; vertical-align: top\">21A419</td>\n",
       "        <td style=\"padding-left: 1em; padding-right: 1em; text-align: center; vertical-align: top\">61I509</td>\n",
       "        <td style=\"padding-left: 1em; padding-right: 1em; text-align: center; vertical-align: top\"></td>\n",
       "        <td style=\"padding-left: 1em; padding-right: 1em; text-align: center; vertical-align: top\"></td>\n",
       "        <td style=\"padding-left: 1em; padding-right: 1em; text-align: center; vertical-align: top\"></td>\n",
       "        <td style=\"padding-left: 1em; padding-right: 1em; text-align: center; vertical-align: top\"></td>\n",
       "        <td style=\"padding-left: 1em; padding-right: 1em; text-align: center; vertical-align: top\"></td>\n",
       "        <td style=\"padding-left: 1em; padding-right: 1em; text-align: center; vertical-align: top\"></td>\n",
       "        <td style=\"padding-left: 1em; padding-right: 1em; text-align: center; vertical-align: top\"></td>\n",
       "        <td style=\"padding-left: 1em; padding-right: 1em; text-align: center; vertical-align: top\"></td>\n",
       "        <td style=\"padding-left: 1em; padding-right: 1em; text-align: center; vertical-align: top\"></td>\n",
       "        <td style=\"padding-left: 1em; padding-right: 1em; text-align: center; vertical-align: top\">...</td>\n",
       "    </tr>\n",
       "    <tr>\n",
       "        <td style=\"padding-left: 1em; padding-right: 1em; text-align: center; vertical-align: top\">11G934</td>\n",
       "        <td style=\"padding-left: 1em; padding-right: 1em; text-align: center; vertical-align: top\">21K701</td>\n",
       "        <td style=\"padding-left: 1em; padding-right: 1em; text-align: center; vertical-align: top\">22R579</td>\n",
       "        <td style=\"padding-left: 1em; padding-right: 1em; text-align: center; vertical-align: top\">31K769</td>\n",
       "        <td style=\"padding-left: 1em; padding-right: 1em; text-align: center; vertical-align: top\">32R688</td>\n",
       "        <td style=\"padding-left: 1em; padding-right: 1em; text-align: center; vertical-align: top\">41D689</td>\n",
       "        <td style=\"padding-left: 1em; padding-right: 1em; text-align: center; vertical-align: top\">61K703</td>\n",
       "        <td style=\"padding-left: 1em; padding-right: 1em; text-align: center; vertical-align: top\">62D649</td>\n",
       "        <td style=\"padding-left: 1em; padding-right: 1em; text-align: center; vertical-align: top\">63E880</td>\n",
       "        <td style=\"padding-left: 1em; padding-right: 1em; text-align: center; vertical-align: top\"></td>\n",
       "        <td style=\"padding-left: 1em; padding-right: 1em; text-align: center; vertical-align: top\"></td>\n",
       "        <td style=\"padding-left: 1em; padding-right: 1em; text-align: center; vertical-align: top\"></td>\n",
       "        <td style=\"padding-left: 1em; padding-right: 1em; text-align: center; vertical-align: top\">...</td>\n",
       "    </tr>\n",
       "    <tr>\n",
       "        <td style=\"padding-left: 1em; padding-right: 1em; text-align: center; vertical-align: top\">11S099</td>\n",
       "        <td style=\"padding-left: 1em; padding-right: 1em; text-align: center; vertical-align: top\">12V892</td>\n",
       "        <td style=\"padding-left: 1em; padding-right: 1em; text-align: center; vertical-align: top\">13S199</td>\n",
       "        <td style=\"padding-left: 1em; padding-right: 1em; text-align: center; vertical-align: top\">14T099</td>\n",
       "        <td style=\"padding-left: 1em; padding-right: 1em; text-align: center; vertical-align: top\"></td>\n",
       "        <td style=\"padding-left: 1em; padding-right: 1em; text-align: center; vertical-align: top\"></td>\n",
       "        <td style=\"padding-left: 1em; padding-right: 1em; text-align: center; vertical-align: top\"></td>\n",
       "        <td style=\"padding-left: 1em; padding-right: 1em; text-align: center; vertical-align: top\"></td>\n",
       "        <td style=\"padding-left: 1em; padding-right: 1em; text-align: center; vertical-align: top\"></td>\n",
       "        <td style=\"padding-left: 1em; padding-right: 1em; text-align: center; vertical-align: top\"></td>\n",
       "        <td style=\"padding-left: 1em; padding-right: 1em; text-align: center; vertical-align: top\"></td>\n",
       "        <td style=\"padding-left: 1em; padding-right: 1em; text-align: center; vertical-align: top\"></td>\n",
       "        <td style=\"padding-left: 1em; padding-right: 1em; text-align: center; vertical-align: top\">...</td>\n",
       "    </tr>\n",
       "    <tr>\n",
       "        <td style=\"padding-left: 1em; padding-right: 1em; text-align: center; vertical-align: top\">11A419</td>\n",
       "        <td style=\"padding-left: 1em; padding-right: 1em; text-align: center; vertical-align: top\"></td>\n",
       "        <td style=\"padding-left: 1em; padding-right: 1em; text-align: center; vertical-align: top\"></td>\n",
       "        <td style=\"padding-left: 1em; padding-right: 1em; text-align: center; vertical-align: top\"></td>\n",
       "        <td style=\"padding-left: 1em; padding-right: 1em; text-align: center; vertical-align: top\"></td>\n",
       "        <td style=\"padding-left: 1em; padding-right: 1em; text-align: center; vertical-align: top\"></td>\n",
       "        <td style=\"padding-left: 1em; padding-right: 1em; text-align: center; vertical-align: top\"></td>\n",
       "        <td style=\"padding-left: 1em; padding-right: 1em; text-align: center; vertical-align: top\"></td>\n",
       "        <td style=\"padding-left: 1em; padding-right: 1em; text-align: center; vertical-align: top\"></td>\n",
       "        <td style=\"padding-left: 1em; padding-right: 1em; text-align: center; vertical-align: top\"></td>\n",
       "        <td style=\"padding-left: 1em; padding-right: 1em; text-align: center; vertical-align: top\"></td>\n",
       "        <td style=\"padding-left: 1em; padding-right: 1em; text-align: center; vertical-align: top\"></td>\n",
       "        <td style=\"padding-left: 1em; padding-right: 1em; text-align: center; vertical-align: top\">...</td>\n",
       "    </tr>\n",
       "    <tr>\n",
       "        <td style=\"padding-left: 1em; padding-right: 1em; text-align: center; vertical-align: top\">11E140</td>\n",
       "        <td style=\"padding-left: 1em; padding-right: 1em; text-align: center; vertical-align: top\">21G309</td>\n",
       "        <td style=\"padding-left: 1em; padding-right: 1em; text-align: center; vertical-align: top\"></td>\n",
       "        <td style=\"padding-left: 1em; padding-right: 1em; text-align: center; vertical-align: top\"></td>\n",
       "        <td style=\"padding-left: 1em; padding-right: 1em; text-align: center; vertical-align: top\"></td>\n",
       "        <td style=\"padding-left: 1em; padding-right: 1em; text-align: center; vertical-align: top\"></td>\n",
       "        <td style=\"padding-left: 1em; padding-right: 1em; text-align: center; vertical-align: top\"></td>\n",
       "        <td style=\"padding-left: 1em; padding-right: 1em; text-align: center; vertical-align: top\"></td>\n",
       "        <td style=\"padding-left: 1em; padding-right: 1em; text-align: center; vertical-align: top\"></td>\n",
       "        <td style=\"padding-left: 1em; padding-right: 1em; text-align: center; vertical-align: top\"></td>\n",
       "        <td style=\"padding-left: 1em; padding-right: 1em; text-align: center; vertical-align: top\"></td>\n",
       "        <td style=\"padding-left: 1em; padding-right: 1em; text-align: center; vertical-align: top\"></td>\n",
       "        <td style=\"padding-left: 1em; padding-right: 1em; text-align: center; vertical-align: top\">...</td>\n",
       "    </tr>\n",
       "    <tr>\n",
       "        <td style=\"padding-left: 1em; padding-right: 1em; text-align: center; vertical-align: top\">11I500</td>\n",
       "        <td style=\"padding-left: 1em; padding-right: 1em; text-align: center; vertical-align: top\"></td>\n",
       "        <td style=\"padding-left: 1em; padding-right: 1em; text-align: center; vertical-align: top\"></td>\n",
       "        <td style=\"padding-left: 1em; padding-right: 1em; text-align: center; vertical-align: top\"></td>\n",
       "        <td style=\"padding-left: 1em; padding-right: 1em; text-align: center; vertical-align: top\"></td>\n",
       "        <td style=\"padding-left: 1em; padding-right: 1em; text-align: center; vertical-align: top\"></td>\n",
       "        <td style=\"padding-left: 1em; padding-right: 1em; text-align: center; vertical-align: top\"></td>\n",
       "        <td style=\"padding-left: 1em; padding-right: 1em; text-align: center; vertical-align: top\"></td>\n",
       "        <td style=\"padding-left: 1em; padding-right: 1em; text-align: center; vertical-align: top\"></td>\n",
       "        <td style=\"padding-left: 1em; padding-right: 1em; text-align: center; vertical-align: top\"></td>\n",
       "        <td style=\"padding-left: 1em; padding-right: 1em; text-align: center; vertical-align: top\"></td>\n",
       "        <td style=\"padding-left: 1em; padding-right: 1em; text-align: center; vertical-align: top\"></td>\n",
       "        <td style=\"padding-left: 1em; padding-right: 1em; text-align: center; vertical-align: top\">...</td>\n",
       "    </tr>\n",
       "    <tr>\n",
       "        <td style=\"padding-left: 1em; padding-right: 1em; text-align: center; vertical-align: top\">11I500</td>\n",
       "        <td style=\"padding-left: 1em; padding-right: 1em; text-align: center; vertical-align: top\">21I255</td>\n",
       "        <td style=\"padding-left: 1em; padding-right: 1em; text-align: center; vertical-align: top\"></td>\n",
       "        <td style=\"padding-left: 1em; padding-right: 1em; text-align: center; vertical-align: top\"></td>\n",
       "        <td style=\"padding-left: 1em; padding-right: 1em; text-align: center; vertical-align: top\"></td>\n",
       "        <td style=\"padding-left: 1em; padding-right: 1em; text-align: center; vertical-align: top\"></td>\n",
       "        <td style=\"padding-left: 1em; padding-right: 1em; text-align: center; vertical-align: top\"></td>\n",
       "        <td style=\"padding-left: 1em; padding-right: 1em; text-align: center; vertical-align: top\"></td>\n",
       "        <td style=\"padding-left: 1em; padding-right: 1em; text-align: center; vertical-align: top\"></td>\n",
       "        <td style=\"padding-left: 1em; padding-right: 1em; text-align: center; vertical-align: top\"></td>\n",
       "        <td style=\"padding-left: 1em; padding-right: 1em; text-align: center; vertical-align: top\"></td>\n",
       "        <td style=\"padding-left: 1em; padding-right: 1em; text-align: center; vertical-align: top\"></td>\n",
       "        <td style=\"padding-left: 1em; padding-right: 1em; text-align: center; vertical-align: top\">...</td>\n",
       "    </tr>\n",
       "</table>\n",
       "[? rows x 77 columns]<br/>Note: Only the head of the SFrame is printed. This SFrame is lazily evaluated.<br/>You can use sf.materialize() to force materialization.\n",
       "</div>"
      ],
      "text/plain": [
       "Columns:\n",
       "\tResident_Status\tint\n",
       "\tEducation_89_Rev\tstr\n",
       "\tEducation_03_Rev\tint\n",
       "\tEducation_Rep_Flag\tint\n",
       "\tMonth_Of_Death\tint\n",
       "\tSex\tstr\n",
       "\tAge_Key\tint\n",
       "\tAge_Value\tint\n",
       "\tAge_Sub_Flag\tstr\n",
       "\tAge_Recode_52\tint\n",
       "\tAge_Recode_27\tint\n",
       "\tAge_Recode_12\tint\n",
       "\tInfant_Age_Recode_22\tstr\n",
       "\tPlace_Of_Death\tint\n",
       "\tMarital_Status\tstr\n",
       "\tDOW_of_Death\tint\n",
       "\tCurrent_Data_Year\tint\n",
       "\tInjured_At_Work\tstr\n",
       "\tManner_Of_Death\tint\n",
       "\tMethod_Of_Disposition\tstr\n",
       "\tAutopsy\tstr\n",
       "\tActivity_Code\tint\n",
       "\tPlace_Of_Causal_Injury\tint\n",
       "\tCause_Recode_358\tint\n",
       "\tCause_Recode_113\tint\n",
       "\tInfant_Cause_Recode_130\tstr\n",
       "\tCause_Recode_39\tint\n",
       "\tEntity_Axis_Conditions\tint\n",
       "\tEAC1\tstr\n",
       "\tEAC2\tstr\n",
       "\tEAC3\tstr\n",
       "\tEAC4\tstr\n",
       "\tEAC5\tstr\n",
       "\tEAC6\tstr\n",
       "\tEAC7\tstr\n",
       "\tEAC8\tstr\n",
       "\tEAC9\tstr\n",
       "\tEAC10\tstr\n",
       "\tEAC11\tstr\n",
       "\tEAC12\tstr\n",
       "\tEAC13\tstr\n",
       "\tEAC14\tstr\n",
       "\tEAC15\tstr\n",
       "\tEAC16\tstr\n",
       "\tEAC17\tstr\n",
       "\tEAC18\tstr\n",
       "\tEAC19\tstr\n",
       "\tEAC20\tstr\n",
       "\tNum_Rec_Axis_Cond\tint\n",
       "\tRA1\tstr\n",
       "\tRA2\tstr\n",
       "\tRA3\tstr\n",
       "\tRA4\tstr\n",
       "\tRA5\tstr\n",
       "\tRA6\tstr\n",
       "\tRA7\tstr\n",
       "\tRA8\tstr\n",
       "\tRA9\tstr\n",
       "\tRA10\tstr\n",
       "\tRA11\tstr\n",
       "\tRA12\tstr\n",
       "\tRA13\tstr\n",
       "\tRA14\tstr\n",
       "\tRA15\tstr\n",
       "\tRA16\tstr\n",
       "\tRA17\tstr\n",
       "\tRA18\tstr\n",
       "\tRA19\tstr\n",
       "\tRA20\tstr\n",
       "\tBridged_Race\tint\n",
       "\tBridged_Race_Flag\tint\n",
       "\tRace_Imput_Flag\tstr\n",
       "\tRace_Recode_3\tint\n",
       "\tRace_Recode_5\tint\n",
       "\tHispanic_Origin\tint\n",
       "\tHispanic_Origin_Recode\tint\n",
       "\tRace_Recode_40\tint\n",
       "\n",
       "Rows: Unknown\n",
       "\n",
       "Data:\n",
       "+-----------------+------------------+------------------+--------------------+----------------+\n",
       "| Resident_Status | Education_89_Rev | Education_03_Rev | Education_Rep_Flag | Month_Of_Death |\n",
       "+-----------------+------------------+------------------+--------------------+----------------+\n",
       "|        3        |                  |        3         |         1          |       1        |\n",
       "|        1        |                  |        3         |         1          |       1        |\n",
       "|        1        |                  |        6         |         1          |       1        |\n",
       "|        1        |                  |        2         |         1          |       1        |\n",
       "|        2        |                  |        4         |         1          |       1        |\n",
       "|        2        |                  |        6         |         1          |       1        |\n",
       "|        1        |                  |        3         |         1          |       1        |\n",
       "|        1        |                  |        3         |         1          |       1        |\n",
       "|        1        |                  |        4         |         1          |       1        |\n",
       "|        1        |                  |        4         |         1          |       1        |\n",
       "+-----------------+------------------+------------------+--------------------+----------------+\n",
       "+-----+---------+-----------+--------------+---------------+---------------+---------------+\n",
       "| Sex | Age_Key | Age_Value | Age_Sub_Flag | Age_Recode_52 | Age_Recode_27 | Age_Recode_12 |\n",
       "+-----+---------+-----------+--------------+---------------+---------------+---------------+\n",
       "|  F  |    1    |     46    |              |       35      |       15      |       7       |\n",
       "|  M  |    1    |     28    |              |       31      |       11      |       5       |\n",
       "|  M  |    1    |     93    |              |       44      |       24      |       11      |\n",
       "|  M  |    1    |     90    |              |       44      |       24      |       11      |\n",
       "|  F  |    1    |     31    |              |       32      |       12      |       5       |\n",
       "|  F  |    1    |     30    |              |       32      |       12      |       5       |\n",
       "|  M  |    1    |     85    |              |       43      |       23      |       11      |\n",
       "|  M  |    1    |     89    |              |       43      |       23      |       11      |\n",
       "|  M  |    1    |     81    |              |       42      |       22      |       10      |\n",
       "|  F  |    1    |     89    |              |       43      |       23      |       11      |\n",
       "+-----+---------+-----------+--------------+---------------+---------------+---------------+\n",
       "+----------------------+----------------+----------------+--------------+-------------------+\n",
       "| Infant_Age_Recode_22 | Place_Of_Death | Marital_Status | DOW_of_Death | Current_Data_Year |\n",
       "+----------------------+----------------+----------------+--------------+-------------------+\n",
       "|                      |       1        |       D        |      2       |        2018       |\n",
       "|                      |       7        |       S        |      4       |        2018       |\n",
       "|                      |       6        |       D        |      3       |        2018       |\n",
       "|                      |       1        |       W        |      7       |        2018       |\n",
       "|                      |       1        |       S        |      2       |        2018       |\n",
       "|                      |       7        |       M        |      2       |        2018       |\n",
       "|                      |       1        |       M        |      2       |        2018       |\n",
       "|                      |       1        |       W        |      3       |        2018       |\n",
       "|                      |       4        |       M        |      4       |        2018       |\n",
       "|                      |       4        |       W        |      2       |        2018       |\n",
       "+----------------------+----------------+----------------+--------------+-------------------+\n",
       "+-----------------+-----------------+-----------------------+-----+\n",
       "| Injured_At_Work | Manner_Of_Death | Method_Of_Disposition | ... |\n",
       "+-----------------+-----------------+-----------------------+-----+\n",
       "|        U        |        7        |           C           | ... |\n",
       "|        N        |        1        |           B           | ... |\n",
       "|        U        |        7        |           B           | ... |\n",
       "|        U        |        7        |           C           | ... |\n",
       "|        U        |        7        |           C           | ... |\n",
       "|        N        |        1        |           C           | ... |\n",
       "|        U        |        7        |           C           | ... |\n",
       "|        U        |        7        |           R           | ... |\n",
       "|        U        |        7        |           C           | ... |\n",
       "|        U        |        7        |           C           | ... |\n",
       "+-----------------+-----------------+-----------------------+-----+\n",
       "[? rows x 77 columns]\n",
       "Note: Only the head of the SFrame is printed. This SFrame is lazily evaluated.\n",
       "You can use sf.materialize() to force materialization."
      ]
     },
     "execution_count": 7,
     "metadata": {},
     "output_type": "execute_result"
    }
   ],
   "source": [
    "data"
   ]
  },
  {
   "cell_type": "code",
   "execution_count": 8,
   "metadata": {},
   "outputs": [
    {
     "data": {
      "text/html": [
       "<pre>Materializing SFrame</pre>"
      ],
      "text/plain": [
       "Materializing SFrame"
      ]
     },
     "metadata": {},
     "output_type": "display_data"
    },
    {
     "data": {
      "text/html": [
       "<pre>Warning: Skipping column 'RA2' [string]. Unable to show more than 50 columns.</pre>"
      ],
      "text/plain": [
       "Warning: Skipping column 'RA2' [string]. Unable to show more than 50 columns."
      ]
     },
     "metadata": {},
     "output_type": "display_data"
    },
    {
     "data": {
      "text/html": [
       "<pre>Further warnings of more than 50 columns will be suppressed.</pre>"
      ],
      "text/plain": [
       "Further warnings of more than 50 columns will be suppressed."
      ]
     },
     "metadata": {},
     "output_type": "display_data"
    },
    {
     "data": {
      "text/html": [
       "<html>                 <body>                     <iframe style=\"border:0;margin:0\" width=\"1000\" height=\"23100\" srcdoc='<html lang=\"en\">                         <head>                             <script src=\"https://cdnjs.cloudflare.com/ajax/libs/vega/5.4.0/vega.js\"></script>                             <script src=\"https://cdnjs.cloudflare.com/ajax/libs/vega-embed/4.0.0/vega-embed.js\"></script>                             <script src=\"https://cdnjs.cloudflare.com/ajax/libs/vega-tooltip/0.5.1/vega-tooltip.min.js\"></script>                             <link rel=\"stylesheet\" type=\"text/css\" href=\"https://cdnjs.cloudflare.com/ajax/libs/vega-tooltip/0.5.1/vega-tooltip.min.css\">                             <style>                             .vega-actions > a{                                 color:white;                                 text-decoration: none;                                 font-family: \"Arial\";                                 cursor:pointer;                                 padding:5px;                                 background:#AAAAAA;                                 border-radius:4px;                                 padding-left:10px;                                 padding-right:10px;                                 margin-right:5px;                             }                             .vega-actions{                                 margin-top:20px;                                 text-align:center                             }                            .vega-actions > a{                                 background:#999999;                            }                             </style>                         </head>                         <body>                             <div id=\"vis\">                             </div>                             <script>                                 var vega_json = \"{\\\"$schema\\\": \\\"https://vega.github.io/schema/vega/v4.json\\\", \\\"metadata\\\": {\\\"bubbleOpts\\\": {\\\"showAllFields\\\": false, \\\"fields\\\": [{\\\"field\\\": \\\"left\\\"}, {\\\"field\\\": \\\"right\\\"}, {\\\"field\\\": \\\"count\\\"}, {\\\"field\\\": \\\"label\\\"}]}}, \\\"width\\\": 800, \\\"height\\\": 22880, \\\"padding\\\": 8, \\\"data\\\": [{\\\"name\\\": \\\"pts_store\\\"}, {\\\"name\\\": \\\"source_2\\\", \\\"values\\\": [{\\\"a\\\": 0, \\\"title\\\": \\\"Resident_Status\\\", \\\"num_row\\\": 2557779, \\\"type\\\": \\\"integer\\\", \\\"num_unique\\\": 4, \\\"num_missing\\\": 0, \\\"mean\\\": 1.242112, \\\"min\\\": 1.0, \\\"max\\\": 4.0, \\\"median\\\": 1.0, \\\"stdev\\\": 0.515078, \\\"numeric\\\": [{\\\"left\\\": -7, \\\"right\\\": -6, \\\"count\\\": 0}, {\\\"left\\\": -6, \\\"right\\\": -5, \\\"count\\\": 0}, {\\\"left\\\": -5, \\\"right\\\": -4, \\\"count\\\": 0}, {\\\"left\\\": -4, \\\"right\\\": -3, \\\"count\\\": 0}, {\\\"left\\\": -3, \\\"right\\\": -2, \\\"count\\\": 0}, {\\\"left\\\": -2, \\\"right\\\": -1, \\\"count\\\": 0}, {\\\"left\\\": -1, \\\"right\\\": 0, \\\"count\\\": 0}, {\\\"left\\\": 0, \\\"right\\\": 1, \\\"count\\\": 0}, {\\\"left\\\": 1, \\\"right\\\": 2, \\\"count\\\": 2036738}, {\\\"left\\\": 2, \\\"right\\\": 3, \\\"count\\\": 429215}, {\\\"left\\\": 3, \\\"right\\\": 4, \\\"count\\\": 85425}, {\\\"left\\\": 4, \\\"right\\\": 5, \\\"count\\\": 6401}, {\\\"left\\\": 5, \\\"right\\\": 6, \\\"count\\\": 0}, {\\\"left\\\": 6, \\\"right\\\": 7, \\\"count\\\": 0}, {\\\"left\\\": 7, \\\"right\\\": 8, \\\"count\\\": 0}, {\\\"left\\\": 8, \\\"right\\\": 9, \\\"count\\\": 0}, {\\\"left\\\": 9, \\\"right\\\": 10, \\\"count\\\": 0}, {\\\"left\\\": 10, \\\"right\\\": 11, \\\"count\\\": 0}, {\\\"left\\\": 11, \\\"right\\\": 12, \\\"count\\\": 0}, {\\\"left\\\": 12, \\\"right\\\": 13, \\\"count\\\": 0}, {\\\"start\\\": -7, \\\"stop\\\": 13, \\\"step\\\": 1}], \\\"categorical\\\": []}, {\\\"a\\\": 1, \\\"title\\\": \\\"Education_89_Rev\\\", \\\"num_row\\\": 2557779, \\\"type\\\": \\\"str\\\", \\\"num_unique\\\": 1, \\\"num_missing\\\": 0, \\\"categorical\\\": [{\\\"label\\\": \\\"\\\", \\\"label_idx\\\": 0, \\\"count\\\": 2557779, \\\"percentage\\\": \\\"100%\\\"}], \\\"numeric\\\": []}, {\\\"a\\\": 2, \\\"title\\\": \\\"Education_03_Rev\\\", \\\"num_row\\\": 2557779, \\\"type\\\": \\\"integer\\\", \\\"num_unique\\\": 9, \\\"num_missing\\\": 0, \\\"mean\\\": 3.630453, \\\"min\\\": 1.0, \\\"max\\\": 9.0, \\\"median\\\": 2.0, \\\"stdev\\\": 1.775579, \\\"numeric\\\": [{\\\"left\\\": -4, \\\"right\\\": -3, \\\"count\\\": 0}, {\\\"left\\\": -3, \\\"right\\\": -2, \\\"count\\\": 0}, {\\\"left\\\": -2, \\\"right\\\": -1, \\\"count\\\": 0}, {\\\"left\\\": -1, \\\"right\\\": 0, \\\"count\\\": 0}, {\\\"left\\\": 0, \\\"right\\\": 1, \\\"count\\\": 0}, {\\\"left\\\": 1, \\\"right\\\": 2, \\\"count\\\": 242958}, {\\\"left\\\": 2, \\\"right\\\": 3, \\\"count\\\": 268240}, {\\\"left\\\": 3, \\\"right\\\": 4, \\\"count\\\": 1106446}, {\\\"left\\\": 4, \\\"right\\\": 5, \\\"count\\\": 312158}, {\\\"left\\\": 5, \\\"right\\\": 6, \\\"count\\\": 162757}, {\\\"left\\\": 6, \\\"right\\\": 7, \\\"count\\\": 265411}, {\\\"left\\\": 7, \\\"right\\\": 8, \\\"count\\\": 110947}, {\\\"left\\\": 8, \\\"right\\\": 9, \\\"count\\\": 44149}, {\\\"left\\\": 9, \\\"right\\\": 10, \\\"count\\\": 44713}, {\\\"left\\\": 10, \\\"right\\\": 11, \\\"count\\\": 0}, {\\\"left\\\": 11, \\\"right\\\": 12, \\\"count\\\": 0}, {\\\"left\\\": 12, \\\"right\\\": 13, \\\"count\\\": 0}, {\\\"left\\\": 13, \\\"right\\\": 14, \\\"count\\\": 0}, {\\\"left\\\": 14, \\\"right\\\": 15, \\\"count\\\": 0}, {\\\"left\\\": 15, \\\"right\\\": 16, \\\"count\\\": 0}, {\\\"start\\\": -4, \\\"stop\\\": 16, \\\"step\\\": 1}], \\\"categorical\\\": []}, {\\\"a\\\": 3, \\\"title\\\": \\\"Education_Rep_Flag\\\", \\\"num_row\\\": 2557779, \\\"type\\\": \\\"integer\\\", \\\"num_unique\\\": 1, \\\"num_missing\\\": 0, \\\"mean\\\": 1.0, \\\"min\\\": 1.0, \\\"max\\\": 1.0, \\\"median\\\": 1.0, \\\"stdev\\\": 0.0, \\\"numeric\\\": [{\\\"left\\\": -8, \\\"right\\\": -7, \\\"count\\\": 0}, {\\\"left\\\": -7, \\\"right\\\": -6, \\\"count\\\": 0}, {\\\"left\\\": -6, \\\"right\\\": -5, \\\"count\\\": 0}, {\\\"left\\\": -5, \\\"right\\\": -4, \\\"count\\\": 0}, {\\\"left\\\": -4, \\\"right\\\": -3, \\\"count\\\": 0}, {\\\"left\\\": -3, \\\"right\\\": -2, \\\"count\\\": 0}, {\\\"left\\\": -2, \\\"right\\\": -1, \\\"count\\\": 0}, {\\\"left\\\": -1, \\\"right\\\": 0, \\\"count\\\": 0}, {\\\"left\\\": 0, \\\"right\\\": 1, \\\"count\\\": 0}, {\\\"left\\\": 1, \\\"right\\\": 2, \\\"count\\\": 2557779}, {\\\"left\\\": 2, \\\"right\\\": 3, \\\"count\\\": 0}, {\\\"left\\\": 3, \\\"right\\\": 4, \\\"count\\\": 0}, {\\\"left\\\": 4, \\\"right\\\": 5, \\\"count\\\": 0}, {\\\"left\\\": 5, \\\"right\\\": 6, \\\"count\\\": 0}, {\\\"left\\\": 6, \\\"right\\\": 7, \\\"count\\\": 0}, {\\\"left\\\": 7, \\\"right\\\": 8, \\\"count\\\": 0}, {\\\"left\\\": 8, \\\"right\\\": 9, \\\"count\\\": 0}, {\\\"left\\\": 9, \\\"right\\\": 10, \\\"count\\\": 0}, {\\\"left\\\": 10, \\\"right\\\": 11, \\\"count\\\": 0}, {\\\"left\\\": 11, \\\"right\\\": 12, \\\"count\\\": 0}, {\\\"start\\\": -8, \\\"stop\\\": 12, \\\"step\\\": 1}], \\\"categorical\\\": []}, {\\\"a\\\": 4, \\\"title\\\": \\\"Month_Of_Death\\\", \\\"num_row\\\": 2557779, \\\"type\\\": \\\"integer\\\", \\\"num_unique\\\": 12, \\\"num_missing\\\": 0, \\\"mean\\\": 6.397761, \\\"min\\\": 1.0, \\\"max\\\": 12.0, \\\"median\\\": 4.0, \\\"stdev\\\": 3.536879, \\\"numeric\\\": [{\\\"left\\\": -3, \\\"right\\\": -2, \\\"count\\\": 0}, {\\\"left\\\": -2, \\\"right\\\": -1, \\\"count\\\": 0}, {\\\"left\\\": -1, \\\"right\\\": 0, \\\"count\\\": 0}, {\\\"left\\\": 0, \\\"right\\\": 1, \\\"count\\\": 0}, {\\\"left\\\": 1, \\\"right\\\": 2, \\\"count\\\": 256596}, {\\\"left\\\": 2, \\\"right\\\": 3, \\\"count\\\": 213165}, {\\\"left\\\": 3, \\\"right\\\": 4, \\\"count\\\": 222776}, {\\\"left\\\": 4, \\\"right\\\": 5, \\\"count\\\": 210033}, {\\\"left\\\": 5, \\\"right\\\": 6, \\\"count\\\": 206248}, {\\\"left\\\": 6, \\\"right\\\": 7, \\\"count\\\": 198666}, {\\\"left\\\": 7, \\\"right\\\": 8, \\\"count\\\": 203476}, {\\\"left\\\": 8, \\\"right\\\": 9, \\\"count\\\": 202559}, {\\\"left\\\": 9, \\\"right\\\": 10, \\\"count\\\": 197595}, {\\\"left\\\": 10, \\\"right\\\": 11, \\\"count\\\": 211534}, {\\\"left\\\": 11, \\\"right\\\": 12, \\\"count\\\": 210635}, {\\\"left\\\": 12, \\\"right\\\": 13, \\\"count\\\": 224496}, {\\\"left\\\": 13, \\\"right\\\": 14, \\\"count\\\": 0}, {\\\"left\\\": 14, \\\"right\\\": 15, \\\"count\\\": 0}, {\\\"left\\\": 15, \\\"right\\\": 16, \\\"count\\\": 0}, {\\\"left\\\": 16, \\\"right\\\": 17, \\\"count\\\": 0}, {\\\"start\\\": -3, \\\"stop\\\": 17, \\\"step\\\": 1}], \\\"categorical\\\": []}, {\\\"a\\\": 5, \\\"title\\\": \\\"Sex\\\", \\\"num_row\\\": 2557779, \\\"type\\\": \\\"str\\\", \\\"num_unique\\\": 2, \\\"num_missing\\\": 0, \\\"categorical\\\": [{\\\"label\\\": \\\"M\\\", \\\"label_idx\\\": 0, \\\"count\\\": 1321798, \\\"percentage\\\": \\\"51.6776%\\\"}, {\\\"label\\\": \\\"F\\\", \\\"label_idx\\\": 1, \\\"count\\\": 1235981, \\\"percentage\\\": \\\"48.3224%\\\"}], \\\"numeric\\\": []}, {\\\"a\\\": 6, \\\"title\\\": \\\"Age_Key\\\", \\\"num_row\\\": 2557779, \\\"type\\\": \\\"integer\\\", \\\"num_unique\\\": 6, \\\"num_missing\\\": 0, \\\"mean\\\": 1.022505, \\\"min\\\": 1.0, \\\"max\\\": 9.0, \\\"median\\\": 1.0, \\\"stdev\\\": 0.289444, \\\"numeric\\\": [{\\\"left\\\": -4, \\\"right\\\": -3, \\\"count\\\": 0}, {\\\"left\\\": -3, \\\"right\\\": -2, \\\"count\\\": 0}, {\\\"left\\\": -2, \\\"right\\\": -1, \\\"count\\\": 0}, {\\\"left\\\": -1, \\\"right\\\": 0, \\\"count\\\": 0}, {\\\"left\\\": 0, \\\"right\\\": 1, \\\"count\\\": 0}, {\\\"left\\\": 1, \\\"right\\\": 2, \\\"count\\\": 2537859}, {\\\"left\\\": 2, \\\"right\\\": 3, \\\"count\\\": 6861}, {\\\"left\\\": 3, \\\"right\\\": 4, \\\"count\\\": 0}, {\\\"left\\\": 4, \\\"right\\\": 5, \\\"count\\\": 5226}, {\\\"left\\\": 5, \\\"right\\\": 6, \\\"count\\\": 4920}, {\\\"left\\\": 6, \\\"right\\\": 7, \\\"count\\\": 2653}, {\\\"left\\\": 7, \\\"right\\\": 8, \\\"count\\\": 0}, {\\\"left\\\": 8, \\\"right\\\": 9, \\\"count\\\": 0}, {\\\"left\\\": 9, \\\"right\\\": 10, \\\"count\\\": 260}, {\\\"left\\\": 10, \\\"right\\\": 11, \\\"count\\\": 0}, {\\\"left\\\": 11, \\\"right\\\": 12, \\\"count\\\": 0}, {\\\"left\\\": 12, \\\"right\\\": 13, \\\"count\\\": 0}, {\\\"left\\\": 13, \\\"right\\\": 14, \\\"count\\\": 0}, {\\\"left\\\": 14, \\\"right\\\": 15, \\\"count\\\": 0}, {\\\"left\\\": 15, \\\"right\\\": 16, \\\"count\\\": 0}, {\\\"start\\\": -4, \\\"stop\\\": 16, \\\"step\\\": 1}], \\\"categorical\\\": []}, {\\\"a\\\": 7, \\\"title\\\": \\\"Age_Value\\\", \\\"num_row\\\": 2557779, \\\"type\\\": \\\"integer\\\", \\\"num_unique\\\": 115, \\\"num_missing\\\": 0, \\\"mean\\\": 73.041182, \\\"min\\\": 1.0, \\\"max\\\": 999.0, \\\"median\\\": 73.0, \\\"stdev\\\": 21.634062, \\\"numeric\\\": [{\\\"left\\\": 1, \\\"right\\\": 51, \\\"count\\\": 267242}, {\\\"left\\\": 51, \\\"right\\\": 101, \\\"count\\\": 2273510}, {\\\"left\\\": 101, \\\"right\\\": 151, \\\"count\\\": 16612}, {\\\"left\\\": 151, \\\"right\\\": 201, \\\"count\\\": 0}, {\\\"left\\\": 201, \\\"right\\\": 251, \\\"count\\\": 0}, {\\\"left\\\": 251, \\\"right\\\": 301, \\\"count\\\": 0}, {\\\"left\\\": 301, \\\"right\\\": 351, \\\"count\\\": 0}, {\\\"left\\\": 351, \\\"right\\\": 401, \\\"count\\\": 0}, {\\\"left\\\": 401, \\\"right\\\": 451, \\\"count\\\": 0}, {\\\"left\\\": 451, \\\"right\\\": 501, \\\"count\\\": 0}, {\\\"left\\\": 501, \\\"right\\\": 551, \\\"count\\\": 0}, {\\\"left\\\": 551, \\\"right\\\": 601, \\\"count\\\": 0}, {\\\"left\\\": 601, \\\"right\\\": 651, \\\"count\\\": 0}, {\\\"left\\\": 651, \\\"right\\\": 701, \\\"count\\\": 0}, {\\\"left\\\": 701, \\\"right\\\": 751, \\\"count\\\": 0}, {\\\"left\\\": 751, \\\"right\\\": 801, \\\"count\\\": 0}, {\\\"left\\\": 801, \\\"right\\\": 851, \\\"count\\\": 0}, {\\\"left\\\": 851, \\\"right\\\": 901, \\\"count\\\": 0}, {\\\"left\\\": 901, \\\"right\\\": 951, \\\"count\\\": 0}, {\\\"left\\\": 951, \\\"right\\\": 1001, \\\"count\\\": 415}, {\\\"start\\\": 1, \\\"stop\\\": 1001, \\\"step\\\": 50}], \\\"categorical\\\": []}, {\\\"a\\\": 8, \\\"title\\\": \\\"Age_Sub_Flag\\\", \\\"num_row\\\": 2557779, \\\"type\\\": \\\"str\\\", \\\"num_unique\\\": 2, \\\"num_missing\\\": 0, \\\"categorical\\\": [{\\\"label\\\": \\\"\\\", \\\"label_idx\\\": 0, \\\"count\\\": 2557777, \\\"percentage\\\": \\\"99.9999%\\\"}, {\\\"label\\\": \\\"1\\\", \\\"label_idx\\\": 1, \\\"count\\\": 2, \\\"percentage\\\": \\\"7.81928e-05%\\\"}], \\\"numeric\\\": []}, {\\\"a\\\": 9, \\\"title\\\": \\\"Age_Recode_52\\\", \\\"num_row\\\": 2557779, \\\"type\\\": \\\"integer\\\", \\\"num_unique\\\": 50, \\\"num_missing\\\": 0, \\\"mean\\\": 40.028762, \\\"min\\\": 1.0, \\\"max\\\": 52.0, \\\"median\\\": 39.0, \\\"stdev\\\": 4.515553, \\\"numeric\\\": [{\\\"left\\\": -3, \\\"right\\\": 0, \\\"count\\\": 0}, {\\\"left\\\": 0, \\\"right\\\": 3, \\\"count\\\": 7573}, {\\\"left\\\": 3, \\\"right\\\": 6, \\\"count\\\": 1952}, {\\\"left\\\": 6, \\\"right\\\": 9, \\\"count\\\": 773}, {\\\"left\\\": 9, \\\"right\\\": 12, \\\"count\\\": 2501}, {\\\"left\\\": 12, \\\"right\\\": 15, \\\"count\\\": 3940}, {\\\"left\\\": 15, \\\"right\\\": 18, \\\"count\\\": 1742}, {\\\"left\\\": 18, \\\"right\\\": 21, \\\"count\\\": 842}, {\\\"left\\\": 21, \\\"right\\\": 24, \\\"count\\\": 1719}, {\\\"left\\\": 24, \\\"right\\\": 27, \\\"count\\\": 2291}, {\\\"left\\\": 27, \\\"right\\\": 30, \\\"count\\\": 15338}, {\\\"left\\\": 30, \\\"right\\\": 33, \\\"count\\\": 76981}, {\\\"left\\\": 33, \\\"right\\\": 36, \\\"count\\\": 137233}, {\\\"left\\\": 36, \\\"right\\\": 39, \\\"count\\\": 435517}, {\\\"left\\\": 39, \\\"right\\\": 42, \\\"count\\\": 780386}, {\\\"left\\\": 42, \\\"right\\\": 45, \\\"count\\\": 937159}, {\\\"left\\\": 45, \\\"right\\\": 48, \\\"count\\\": 151464}, {\\\"left\\\": 48, \\\"right\\\": 51, \\\"count\\\": 73}, {\\\"left\\\": 51, \\\"right\\\": 54, \\\"count\\\": 295}, {\\\"left\\\": 54, \\\"right\\\": 57, \\\"count\\\": 0}, {\\\"start\\\": -3, \\\"stop\\\": 57, \\\"step\\\": 3}], \\\"categorical\\\": []}, {\\\"a\\\": 10, \\\"title\\\": \\\"Age_Recode_27\\\", \\\"num_row\\\": 2557779, \\\"type\\\": \\\"integer\\\", \\\"num_unique\\\": 27, \\\"num_missing\\\": 0, \\\"mean\\\": 20.132622, \\\"min\\\": 1.0, \\\"max\\\": 27.0, \\\"median\\\": 19.0, \\\"stdev\\\": 3.834773, \\\"numeric\\\": [{\\\"left\\\": -5, \\\"right\\\": -3, \\\"count\\\": 0}, {\\\"left\\\": -3, \\\"right\\\": -1, \\\"count\\\": 0}, {\\\"left\\\": -1, \\\"right\\\": 1, \\\"count\\\": 0}, {\\\"left\\\": 1, \\\"right\\\": 3, \\\"count\\\": 19660}, {\\\"left\\\": 3, \\\"right\\\": 5, \\\"count\\\": 2391}, {\\\"left\\\": 5, \\\"right\\\": 7, \\\"count\\\": 1282}, {\\\"left\\\": 7, \\\"right\\\": 9, \\\"count\\\": 5170}, {\\\"left\\\": 9, \\\"right\\\": 11, \\\"count\\\": 29692}, {\\\"left\\\": 11, \\\"right\\\": 13, \\\"count\\\": 57457}, {\\\"left\\\": 13, \\\"right\\\": 15, \\\"count\\\": 76538}, {\\\"left\\\": 15, \\\"right\\\": 17, \\\"count\\\": 153250}, {\\\"left\\\": 17, \\\"right\\\": 19, \\\"count\\\": 342962}, {\\\"left\\\": 19, \\\"right\\\": 21, \\\"count\\\": 491279}, {\\\"left\\\": 21, \\\"right\\\": 23, \\\"count\\\": 603996}, {\\\"left\\\": 23, \\\"right\\\": 25, \\\"count\\\": 622270}, {\\\"left\\\": 25, \\\"right\\\": 27, \\\"count\\\": 151537}, {\\\"left\\\": 27, \\\"right\\\": 29, \\\"count\\\": 295}, {\\\"left\\\": 29, \\\"right\\\": 31, \\\"count\\\": 0}, {\\\"left\\\": 31, \\\"right\\\": 33, \\\"count\\\": 0}, {\\\"left\\\": 33, \\\"right\\\": 35, \\\"count\\\": 0}, {\\\"start\\\": -5, \\\"stop\\\": 35, \\\"step\\\": 2}], \\\"categorical\\\": []}, {\\\"a\\\": 11, \\\"title\\\": \\\"Age_Recode_12\\\", \\\"num_row\\\": 2557779, \\\"type\\\": \\\"integer\\\", \\\"num_unique\\\": 12, \\\"num_missing\\\": 0, \\\"mean\\\": 9.266294, \\\"min\\\": 1.0, \\\"max\\\": 12.0, \\\"median\\\": 8.0, \\\"stdev\\\": 1.817729, \\\"numeric\\\": [{\\\"left\\\": -3, \\\"right\\\": -2, \\\"count\\\": 0}, {\\\"left\\\": -2, \\\"right\\\": -1, \\\"count\\\": 0}, {\\\"left\\\": -1, \\\"right\\\": 0, \\\"count\\\": 0}, {\\\"left\\\": 0, \\\"right\\\": 1, \\\"count\\\": 0}, {\\\"left\\\": 1, \\\"right\\\": 2, \\\"count\\\": 19660}, {\\\"left\\\": 2, \\\"right\\\": 3, \\\"count\\\": 3673}, {\\\"left\\\": 3, \\\"right\\\": 4, \\\"count\\\": 5170}, {\\\"left\\\": 4, \\\"right\\\": 5, \\\"count\\\": 29692}, {\\\"left\\\": 5, \\\"right\\\": 6, \\\"count\\\": 57457}, {\\\"left\\\": 6, \\\"right\\\": 7, \\\"count\\\": 76538}, {\\\"left\\\": 7, \\\"right\\\": 8, \\\"count\\\": 153250}, {\\\"left\\\": 8, \\\"right\\\": 9, \\\"count\\\": 342962}, {\\\"left\\\": 9, \\\"right\\\": 10, \\\"count\\\": 491279}, {\\\"left\\\": 10, \\\"right\\\": 11, \\\"count\\\": 603996}, {\\\"left\\\": 11, \\\"right\\\": 12, \\\"count\\\": 773807}, {\\\"left\\\": 12, \\\"right\\\": 13, \\\"count\\\": 295}, {\\\"left\\\": 13, \\\"right\\\": 14, \\\"count\\\": 0}, {\\\"left\\\": 14, \\\"right\\\": 15, \\\"count\\\": 0}, {\\\"left\\\": 15, \\\"right\\\": 16, \\\"count\\\": 0}, {\\\"left\\\": 16, \\\"right\\\": 17, \\\"count\\\": 0}, {\\\"start\\\": -3, \\\"stop\\\": 17, \\\"step\\\": 1}], \\\"categorical\\\": []}, {\\\"a\\\": 12, \\\"title\\\": \\\"Infant_Age_Recode_22\\\", \\\"num_row\\\": 2557779, \\\"type\\\": \\\"str\\\", \\\"num_unique\\\": 23, \\\"num_missing\\\": 0, \\\"categorical\\\": [{\\\"label\\\": \\\"\\\", \\\"label_idx\\\": 0, \\\"count\\\": 2538119, \\\"percentage\\\": \\\"99.2314%\\\"}, {\\\"label\\\": \\\"Other (22 labels)\\\", \\\"label_idx\\\": 1, \\\"count\\\": 19660, \\\"percentage\\\": \\\"0.768636%\\\"}], \\\"numeric\\\": []}, {\\\"a\\\": 13, \\\"title\\\": \\\"Place_Of_Death\\\", \\\"num_row\\\": 2557779, \\\"type\\\": \\\"integer\\\", \\\"num_unique\\\": 8, \\\"num_missing\\\": 0, \\\"mean\\\": 3.677, \\\"min\\\": 1.0, \\\"max\\\": 9.0, \\\"median\\\": 1.0, \\\"stdev\\\": 2.033672, \\\"numeric\\\": [{\\\"left\\\": -4, \\\"right\\\": -3, \\\"count\\\": 0}, {\\\"left\\\": -3, \\\"right\\\": -2, \\\"count\\\": 0}, {\\\"left\\\": -2, \\\"right\\\": -1, \\\"count\\\": 0}, {\\\"left\\\": -1, \\\"right\\\": 0, \\\"count\\\": 0}, {\\\"left\\\": 0, \\\"right\\\": 1, \\\"count\\\": 0}, {\\\"left\\\": 1, \\\"right\\\": 2, \\\"count\\\": 724742}, {\\\"left\\\": 2, \\\"right\\\": 3, \\\"count\\\": 163539}, {\\\"left\\\": 3, \\\"right\\\": 4, \\\"count\\\": 9862}, {\\\"left\\\": 4, \\\"right\\\": 5, \\\"count\\\": 793597}, {\\\"left\\\": 5, \\\"right\\\": 6, \\\"count\\\": 213371}, {\\\"left\\\": 6, \\\"right\\\": 7, \\\"count\\\": 487419}, {\\\"left\\\": 7, \\\"right\\\": 8, \\\"count\\\": 164725}, {\\\"left\\\": 8, \\\"right\\\": 9, \\\"count\\\": 0}, {\\\"left\\\": 9, \\\"right\\\": 10, \\\"count\\\": 524}, {\\\"left\\\": 10, \\\"right\\\": 11, \\\"count\\\": 0}, {\\\"left\\\": 11, \\\"right\\\": 12, \\\"count\\\": 0}, {\\\"left\\\": 12, \\\"right\\\": 13, \\\"count\\\": 0}, {\\\"left\\\": 13, \\\"right\\\": 14, \\\"count\\\": 0}, {\\\"left\\\": 14, \\\"right\\\": 15, \\\"count\\\": 0}, {\\\"left\\\": 15, \\\"right\\\": 16, \\\"count\\\": 0}, {\\\"start\\\": -4, \\\"stop\\\": 16, \\\"step\\\": 1}], \\\"categorical\\\": []}, {\\\"a\\\": 14, \\\"title\\\": \\\"Marital_Status\\\", \\\"num_row\\\": 2557779, \\\"type\\\": \\\"str\\\", \\\"num_unique\\\": 5, \\\"num_missing\\\": 0, \\\"categorical\\\": [{\\\"label\\\": \\\"M\\\", \\\"label_idx\\\": 0, \\\"count\\\": 926611, \\\"percentage\\\": \\\"36.2272%\\\"}, {\\\"label\\\": \\\"W\\\", \\\"label_idx\\\": 1, \\\"count\\\": 825861, \\\"percentage\\\": \\\"32.2882%\\\"}, {\\\"label\\\": \\\"D\\\", \\\"label_idx\\\": 2, \\\"count\\\": 422871, \\\"percentage\\\": \\\"16.5327%\\\"}, {\\\"label\\\": \\\"S\\\", \\\"label_idx\\\": 3, \\\"count\\\": 362650, \\\"percentage\\\": \\\"14.1783%\\\"}, {\\\"label\\\": \\\"U\\\", \\\"label_idx\\\": 4, \\\"count\\\": 19786, \\\"percentage\\\": \\\"0.773562%\\\"}], \\\"numeric\\\": []}, {\\\"a\\\": 15, \\\"title\\\": \\\"DOW_of_Death\\\", \\\"num_row\\\": 2557779, \\\"type\\\": \\\"integer\\\", \\\"num_unique\\\": 8, \\\"num_missing\\\": 0, \\\"mean\\\": 4.006441, \\\"min\\\": 1.0, \\\"max\\\": 9.0, \\\"median\\\": 2.0, \\\"stdev\\\": 2.000672, \\\"numeric\\\": [{\\\"left\\\": -4, \\\"right\\\": -3, \\\"count\\\": 0}, {\\\"left\\\": -3, \\\"right\\\": -2, \\\"count\\\": 0}, {\\\"left\\\": -2, \\\"right\\\": -1, \\\"count\\\": 0}, {\\\"left\\\": -1, \\\"right\\\": 0, \\\"count\\\": 0}, {\\\"left\\\": 0, \\\"right\\\": 1, \\\"count\\\": 0}, {\\\"left\\\": 1, \\\"right\\\": 2, \\\"count\\\": 360697}, {\\\"left\\\": 2, \\\"right\\\": 3, \\\"count\\\": 371261}, {\\\"left\\\": 3, \\\"right\\\": 4, \\\"count\\\": 362337}, {\\\"left\\\": 4, \\\"right\\\": 5, \\\"count\\\": 363272}, {\\\"left\\\": 5, \\\"right\\\": 6, \\\"count\\\": 363806}, {\\\"left\\\": 6, \\\"right\\\": 7, \\\"count\\\": 369927}, {\\\"left\\\": 7, \\\"right\\\": 8, \\\"count\\\": 366315}, {\\\"left\\\": 8, \\\"right\\\": 9, \\\"count\\\": 0}, {\\\"left\\\": 9, \\\"right\\\": 10, \\\"count\\\": 164}, {\\\"left\\\": 10, \\\"right\\\": 11, \\\"count\\\": 0}, {\\\"left\\\": 11, \\\"right\\\": 12, \\\"count\\\": 0}, {\\\"left\\\": 12, \\\"right\\\": 13, \\\"count\\\": 0}, {\\\"left\\\": 13, \\\"right\\\": 14, \\\"count\\\": 0}, {\\\"left\\\": 14, \\\"right\\\": 15, \\\"count\\\": 0}, {\\\"left\\\": 15, \\\"right\\\": 16, \\\"count\\\": 0}, {\\\"start\\\": -4, \\\"stop\\\": 16, \\\"step\\\": 1}], \\\"categorical\\\": []}, {\\\"a\\\": 16, \\\"title\\\": \\\"Current_Data_Year\\\", \\\"num_row\\\": 2557779, \\\"type\\\": \\\"integer\\\", \\\"num_unique\\\": 1, \\\"num_missing\\\": 0, \\\"mean\\\": 2018.0, \\\"min\\\": 2018.0, \\\"max\\\": 2018.0, \\\"median\\\": 2018.0, \\\"stdev\\\": 0.0, \\\"numeric\\\": [{\\\"left\\\": 1989, \\\"right\\\": 1992, \\\"count\\\": 0}, {\\\"left\\\": 1992, \\\"right\\\": 1995, \\\"count\\\": 0}, {\\\"left\\\": 1995, \\\"right\\\": 1998, \\\"count\\\": 0}, {\\\"left\\\": 1998, \\\"right\\\": 2001, \\\"count\\\": 0}, {\\\"left\\\": 2001, \\\"right\\\": 2004, \\\"count\\\": 0}, {\\\"left\\\": 2004, \\\"right\\\": 2007, \\\"count\\\": 0}, {\\\"left\\\": 2007, \\\"right\\\": 2010, \\\"count\\\": 0}, {\\\"left\\\": 2010, \\\"right\\\": 2013, \\\"count\\\": 0}, {\\\"left\\\": 2013, \\\"right\\\": 2016, \\\"count\\\": 0}, {\\\"left\\\": 2016, \\\"right\\\": 2019, \\\"count\\\": 2557779}, {\\\"left\\\": 2019, \\\"right\\\": 2022, \\\"count\\\": 0}, {\\\"left\\\": 2022, \\\"right\\\": 2025, \\\"count\\\": 0}, {\\\"left\\\": 2025, \\\"right\\\": 2028, \\\"count\\\": 0}, {\\\"left\\\": 2028, \\\"right\\\": 2031, \\\"count\\\": 0}, {\\\"left\\\": 2031, \\\"right\\\": 2034, \\\"count\\\": 0}, {\\\"left\\\": 2034, \\\"right\\\": 2037, \\\"count\\\": 0}, {\\\"left\\\": 2037, \\\"right\\\": 2040, \\\"count\\\": 0}, {\\\"left\\\": 2040, \\\"right\\\": 2043, \\\"count\\\": 0}, {\\\"left\\\": 2043, \\\"right\\\": 2046, \\\"count\\\": 0}, {\\\"left\\\": 2046, \\\"right\\\": 2049, \\\"count\\\": 0}, {\\\"start\\\": 1989, \\\"stop\\\": 2049, \\\"step\\\": 3}], \\\"categorical\\\": []}, {\\\"a\\\": 17, \\\"title\\\": \\\"Injured_At_Work\\\", \\\"num_row\\\": 2557779, \\\"type\\\": \\\"str\\\", \\\"num_unique\\\": 4, \\\"num_missing\\\": 0, \\\"categorical\\\": [{\\\"label\\\": \\\"U\\\", \\\"label_idx\\\": 0, \\\"count\\\": 2262461, \\\"percentage\\\": \\\"88.4541%\\\"}, {\\\"label\\\": \\\"N\\\", \\\"label_idx\\\": 1, \\\"count\\\": 290695, \\\"percentage\\\": \\\"11.3651%\\\"}, {\\\"label\\\": \\\"Y\\\", \\\"label_idx\\\": 2, \\\"count\\\": 4619, \\\"percentage\\\": \\\"0.180586%\\\"}, {\\\"label\\\": \\\"n\\\", \\\"label_idx\\\": 3, \\\"count\\\": 4, \\\"percentage\\\": \\\"0.000156386%\\\"}], \\\"numeric\\\": []}, {\\\"a\\\": 18, \\\"title\\\": \\\"Manner_Of_Death\\\", \\\"num_row\\\": 2557779, \\\"type\\\": \\\"integer\\\", \\\"num_unique\\\": 6, \\\"num_missing\\\": 0, \\\"mean\\\": 6.466931, \\\"min\\\": 1.0, \\\"max\\\": 7.0, \\\"median\\\": 5.0, \\\"stdev\\\": 1.644744, \\\"numeric\\\": [{\\\"left\\\": -5, \\\"right\\\": -4, \\\"count\\\": 0}, {\\\"left\\\": -4, \\\"right\\\": -3, \\\"count\\\": 0}, {\\\"left\\\": -3, \\\"right\\\": -2, \\\"count\\\": 0}, {\\\"left\\\": -2, \\\"right\\\": -1, \\\"count\\\": 0}, {\\\"left\\\": -1, \\\"right\\\": 0, \\\"count\\\": 0}, {\\\"left\\\": 0, \\\"right\\\": 1, \\\"count\\\": 0}, {\\\"left\\\": 1, \\\"right\\\": 2, \\\"count\\\": 167450}, {\\\"left\\\": 2, \\\"right\\\": 3, \\\"count\\\": 48553}, {\\\"left\\\": 3, \\\"right\\\": 4, \\\"count\\\": 19993}, {\\\"left\\\": 4, \\\"right\\\": 5, \\\"count\\\": 4032}, {\\\"left\\\": 5, \\\"right\\\": 6, \\\"count\\\": 11970}, {\\\"left\\\": 6, \\\"right\\\": 7, \\\"count\\\": 0}, {\\\"left\\\": 7, \\\"right\\\": 8, \\\"count\\\": 2305781}, {\\\"left\\\": 8, \\\"right\\\": 9, \\\"count\\\": 0}, {\\\"left\\\": 9, \\\"right\\\": 10, \\\"count\\\": 0}, {\\\"left\\\": 10, \\\"right\\\": 11, \\\"count\\\": 0}, {\\\"left\\\": 11, \\\"right\\\": 12, \\\"count\\\": 0}, {\\\"left\\\": 12, \\\"right\\\": 13, \\\"count\\\": 0}, {\\\"left\\\": 13, \\\"right\\\": 14, \\\"count\\\": 0}, {\\\"left\\\": 14, \\\"right\\\": 15, \\\"count\\\": 0}, {\\\"start\\\": -5, \\\"stop\\\": 15, \\\"step\\\": 1}], \\\"categorical\\\": []}, {\\\"a\\\": 19, \\\"title\\\": \\\"Method_Of_Disposition\\\", \\\"num_row\\\": 2557779, \\\"type\\\": \\\"str\\\", \\\"num_unique\\\": 7, \\\"num_missing\\\": 0, \\\"categorical\\\": [{\\\"label\\\": \\\"C\\\", \\\"label_idx\\\": 0, \\\"count\\\": 1330586, \\\"percentage\\\": \\\"52.0211%\\\"}, {\\\"label\\\": \\\"B\\\", \\\"label_idx\\\": 1, \\\"count\\\": 1071543, \\\"percentage\\\": \\\"41.8935%\\\"}, {\\\"label\\\": \\\"R\\\", \\\"label_idx\\\": 2, \\\"count\\\": 71181, \\\"percentage\\\": \\\"2.78292%\\\"}, {\\\"label\\\": \\\"E\\\", \\\"label_idx\\\": 3, \\\"count\\\": 41397, \\\"percentage\\\": \\\"1.61847%\\\"}, {\\\"label\\\": \\\"D\\\", \\\"label_idx\\\": 4, \\\"count\\\": 28237, \\\"percentage\\\": \\\"1.10397%\\\"}, {\\\"label\\\": \\\"O\\\", \\\"label_idx\\\": 5, \\\"count\\\": 14228, \\\"percentage\\\": \\\"0.556264%\\\"}, {\\\"label\\\": \\\"U\\\", \\\"label_idx\\\": 6, \\\"count\\\": 607, \\\"percentage\\\": \\\"0.0237315%\\\"}], \\\"numeric\\\": []}, {\\\"a\\\": 20, \\\"title\\\": \\\"Autopsy\\\", \\\"num_row\\\": 2557779, \\\"type\\\": \\\"str\\\", \\\"num_unique\\\": 5, \\\"num_missing\\\": 0, \\\"categorical\\\": [{\\\"label\\\": \\\"N\\\", \\\"label_idx\\\": 0, \\\"count\\\": 2249815, \\\"percentage\\\": \\\"87.9597%\\\"}, {\\\"label\\\": \\\"Y\\\", \\\"label_idx\\\": 1, \\\"count\\\": 223193, \\\"percentage\\\": \\\"8.72605%\\\"}, {\\\"label\\\": \\\"U\\\", \\\"label_idx\\\": 2, \\\"count\\\": 84765, \\\"percentage\\\": \\\"3.31401%\\\"}, {\\\"label\\\": \\\"n\\\", \\\"label_idx\\\": 3, \\\"count\\\": 5, \\\"percentage\\\": \\\"0.000195482%\\\"}, {\\\"label\\\": \\\"y\\\", \\\"label_idx\\\": 4, \\\"count\\\": 1, \\\"percentage\\\": \\\"3.90964e-05%\\\"}], \\\"numeric\\\": []}, {\\\"a\\\": 21, \\\"title\\\": \\\"Activity_Code\\\", \\\"num_row\\\": 2557779, \\\"type\\\": \\\"integer\\\", \\\"num_unique\\\": 8, \\\"num_missing\\\": 2317688, \\\"mean\\\": 8.982548, \\\"min\\\": 0.0, \\\"max\\\": 9.0, \\\"median\\\": 9.0, \\\"stdev\\\": 0.33148, \\\"numeric\\\": [{\\\"left\\\": -5, \\\"right\\\": -4, \\\"count\\\": 0}, {\\\"left\\\": -4, \\\"right\\\": -3, \\\"count\\\": 0}, {\\\"left\\\": -3, \\\"right\\\": -2, \\\"count\\\": 0}, {\\\"left\\\": -2, \\\"right\\\": -1, \\\"count\\\": 0}, {\\\"left\\\": -1, \\\"right\\\": 0, \\\"count\\\": 0}, {\\\"left\\\": 0, \\\"right\\\": 1, \\\"count\\\": 38}, {\\\"left\\\": 1, \\\"right\\\": 2, \\\"count\\\": 176}, {\\\"left\\\": 2, \\\"right\\\": 3, \\\"count\\\": 56}, {\\\"left\\\": 3, \\\"right\\\": 4, \\\"count\\\": 20}, {\\\"left\\\": 4, \\\"right\\\": 5, \\\"count\\\": 336}, {\\\"left\\\": 5, \\\"right\\\": 6, \\\"count\\\": 0}, {\\\"left\\\": 6, \\\"right\\\": 7, \\\"count\\\": 0}, {\\\"left\\\": 7, \\\"right\\\": 8, \\\"count\\\": 0}, {\\\"left\\\": 8, \\\"right\\\": 9, \\\"count\\\": 248}, {\\\"left\\\": 9, \\\"right\\\": 10, \\\"count\\\": 239217}, {\\\"left\\\": 10, \\\"right\\\": 11, \\\"count\\\": 0}, {\\\"left\\\": 11, \\\"right\\\": 12, \\\"count\\\": 0}, {\\\"left\\\": 12, \\\"right\\\": 13, \\\"count\\\": 0}, {\\\"left\\\": 13, \\\"right\\\": 14, \\\"count\\\": 0}, {\\\"left\\\": 14, \\\"right\\\": 15, \\\"count\\\": 0}, {\\\"missing\\\": true, \\\"count\\\": 2317688}, {\\\"start\\\": -5, \\\"stop\\\": 15, \\\"step\\\": 1}], \\\"categorical\\\": []}, {\\\"a\\\": 22, \\\"title\\\": \\\"Place_Of_Causal_Injury\\\", \\\"num_row\\\": 2557779, \\\"type\\\": \\\"integer\\\", \\\"num_unique\\\": 11, \\\"num_missing\\\": 2325134, \\\"mean\\\": 3.405137, \\\"min\\\": 0.0, \\\"max\\\": 9.0, \\\"median\\\": 0.0, \\\"stdev\\\": 4.023471, \\\"numeric\\\": [{\\\"left\\\": -5, \\\"right\\\": -4, \\\"count\\\": 0}, {\\\"left\\\": -4, \\\"right\\\": -3, \\\"count\\\": 0}, {\\\"left\\\": -3, \\\"right\\\": -2, \\\"count\\\": 0}, {\\\"left\\\": -2, \\\"right\\\": -1, \\\"count\\\": 0}, {\\\"left\\\": -1, \\\"right\\\": 0, \\\"count\\\": 0}, {\\\"left\\\": 0, \\\"right\\\": 1, \\\"count\\\": 120889}, {\\\"left\\\": 1, \\\"right\\\": 2, \\\"count\\\": 11562}, {\\\"left\\\": 2, \\\"right\\\": 3, \\\"count\\\": 2186}, {\\\"left\\\": 3, \\\"right\\\": 4, \\\"count\\\": 367}, {\\\"left\\\": 4, \\\"right\\\": 5, \\\"count\\\": 9292}, {\\\"left\\\": 5, \\\"right\\\": 6, \\\"count\\\": 8156}, {\\\"left\\\": 6, \\\"right\\\": 7, \\\"count\\\": 1257}, {\\\"left\\\": 7, \\\"right\\\": 8, \\\"count\\\": 664}, {\\\"left\\\": 8, \\\"right\\\": 9, \\\"count\\\": 19433}, {\\\"left\\\": 9, \\\"right\\\": 10, \\\"count\\\": 58839}, {\\\"left\\\": 10, \\\"right\\\": 11, \\\"count\\\": 0}, {\\\"left\\\": 11, \\\"right\\\": 12, \\\"count\\\": 0}, {\\\"left\\\": 12, \\\"right\\\": 13, \\\"count\\\": 0}, {\\\"left\\\": 13, \\\"right\\\": 14, \\\"count\\\": 0}, {\\\"left\\\": 14, \\\"right\\\": 15, \\\"count\\\": 0}, {\\\"missing\\\": true, \\\"count\\\": 2325134}, {\\\"start\\\": -5, \\\"stop\\\": 15, \\\"step\\\": 1}], \\\"categorical\\\": []}, {\\\"a\\\": 23, \\\"title\\\": \\\"Cause_Recode_358\\\", \\\"num_row\\\": 2557779, \\\"type\\\": \\\"integer\\\", \\\"num_unique\\\": 345, \\\"num_missing\\\": 0, \\\"mean\\\": 216.568144, \\\"min\\\": 3.0, \\\"max\\\": 456.0, \\\"median\\\": 209.0, \\\"stdev\\\": 96.348865, \\\"numeric\\\": [{\\\"left\\\": 0, \\\"right\\\": 23, \\\"count\\\": 7473}, {\\\"left\\\": 23, \\\"right\\\": 46, \\\"count\\\": 41489}, {\\\"left\\\": 46, \\\"right\\\": 69, \\\"count\\\": 13065}, {\\\"left\\\": 69, \\\"right\\\": 92, \\\"count\\\": 148568}, {\\\"left\\\": 92, \\\"right\\\": 115, \\\"count\\\": 244417}, {\\\"left\\\": 115, \\\"right\\\": 138, \\\"count\\\": 134351}, {\\\"left\\\": 138, \\\"right\\\": 161, \\\"count\\\": 100383}, {\\\"left\\\": 161, \\\"right\\\": 184, \\\"count\\\": 166539}, {\\\"left\\\": 184, \\\"right\\\": 207, \\\"count\\\": 217968}, {\\\"left\\\": 207, \\\"right\\\": 230, \\\"count\\\": 506796}, {\\\"left\\\": 230, \\\"right\\\": 253, \\\"count\\\": 248304}, {\\\"left\\\": 253, \\\"right\\\": 276, \\\"count\\\": 212577}, {\\\"left\\\": 276, \\\"right\\\": 299, \\\"count\\\": 89870}, {\\\"left\\\": 299, \\\"right\\\": 322, \\\"count\\\": 64119}, {\\\"left\\\": 322, \\\"right\\\": 345, \\\"count\\\": 65079}, {\\\"left\\\": 345, \\\"right\\\": 368, \\\"count\\\": 10836}, {\\\"left\\\": 368, \\\"right\\\": 391, \\\"count\\\": 49231}, {\\\"left\\\": 391, \\\"right\\\": 414, \\\"count\\\": 82245}, {\\\"left\\\": 414, \\\"right\\\": 437, \\\"count\\\": 141289}, {\\\"left\\\": 437, \\\"right\\\": 460, \\\"count\\\": 13180}, {\\\"start\\\": 0, \\\"stop\\\": 460, \\\"step\\\": 23}], \\\"categorical\\\": []}, {\\\"a\\\": 24, \\\"title\\\": \\\"Cause_Recode_113\\\", \\\"num_row\\\": 2557779, \\\"type\\\": \\\"integer\\\", \\\"num_unique\\\": 110, \\\"num_missing\\\": 0, \\\"mean\\\": 70.199825, \\\"min\\\": 1.0, \\\"max\\\": 135.0, \\\"median\\\": 62.0, \\\"stdev\\\": 31.920789, \\\"numeric\\\": [{\\\"left\\\": -1, \\\"right\\\": 6, \\\"count\\\": 7263}, {\\\"left\\\": 6, \\\"right\\\": 13, \\\"count\\\": 38469}, {\\\"left\\\": 13, \\\"right\\\": 20, \\\"count\\\": 16295}, {\\\"left\\\": 20, \\\"right\\\": 27, \\\"count\\\": 144837}, {\\\"left\\\": 27, \\\"right\\\": 34, \\\"count\\\": 225088}, {\\\"left\\\": 34, \\\"right\\\": 41, \\\"count\\\": 81197}, {\\\"left\\\": 41, \\\"right\\\": 48, \\\"count\\\": 169308}, {\\\"left\\\": 48, \\\"right\\\": 55, \\\"count\\\": 142005}, {\\\"left\\\": 55, \\\"right\\\": 62, \\\"count\\\": 158744}, {\\\"left\\\": 62, \\\"right\\\": 69, \\\"count\\\": 432673}, {\\\"left\\\": 69, \\\"right\\\": 76, \\\"count\\\": 185418}, {\\\"left\\\": 76, \\\"right\\\": 83, \\\"count\\\": 51214}, {\\\"left\\\": 83, \\\"right\\\": 90, \\\"count\\\": 200571}, {\\\"left\\\": 90, \\\"right\\\": 97, \\\"count\\\": 45927}, {\\\"left\\\": 97, \\\"right\\\": 104, \\\"count\\\": 47449}, {\\\"left\\\": 104, \\\"right\\\": 111, \\\"count\\\": 51283}, {\\\"left\\\": 111, \\\"right\\\": 118, \\\"count\\\": 356886}, {\\\"left\\\": 118, \\\"right\\\": 125, \\\"count\\\": 125135}, {\\\"left\\\": 125, \\\"right\\\": 132, \\\"count\\\": 68036}, {\\\"left\\\": 132, \\\"right\\\": 139, \\\"count\\\": 9981}, {\\\"start\\\": -1, \\\"stop\\\": 139, \\\"step\\\": 7}], \\\"categorical\\\": []}, {\\\"a\\\": 25, \\\"title\\\": \\\"Infant_Cause_Recode_130\\\", \\\"num_row\\\": 2557779, \\\"type\\\": \\\"str\\\", \\\"num_unique\\\": 114, \\\"num_missing\\\": 0, \\\"categorical\\\": [{\\\"label\\\": \\\"\\\", \\\"label_idx\\\": 0, \\\"count\\\": 2538119, \\\"percentage\\\": \\\"99.2314%\\\"}, {\\\"label\\\": \\\"Other (113 labels)\\\", \\\"label_idx\\\": 1, \\\"count\\\": 19660, \\\"percentage\\\": \\\"0.768636%\\\"}], \\\"numeric\\\": []}, {\\\"a\\\": 26, \\\"title\\\": \\\"Cause_Recode_39\\\", \\\"num_row\\\": 2557779, \\\"type\\\": \\\"integer\\\", \\\"num_unique\\\": 39, \\\"num_missing\\\": 0, \\\"mean\\\": 24.773142, \\\"min\\\": 1.0, \\\"max\\\": 42.0, \\\"median\\\": 21.0, \\\"stdev\\\": 10.284931, \\\"numeric\\\": [{\\\"left\\\": -8, \\\"right\\\": -5, \\\"count\\\": 0}, {\\\"left\\\": -5, \\\"right\\\": -2, \\\"count\\\": 0}, {\\\"left\\\": -2, \\\"right\\\": 1, \\\"count\\\": 0}, {\\\"left\\\": 1, \\\"right\\\": 4, \\\"count\\\": 5232}, {\\\"left\\\": 4, \\\"right\\\": 7, \\\"count\\\": 55782}, {\\\"left\\\": 7, \\\"right\\\": 10, \\\"count\\\": 204835}, {\\\"left\\\": 10, \\\"right\\\": 13, \\\"count\\\": 80324}, {\\\"left\\\": 13, \\\"right\\\": 16, \\\"count\\\": 186395}, {\\\"left\\\": 16, \\\"right\\\": 19, \\\"count\\\": 177139}, {\\\"left\\\": 19, \\\"right\\\": 22, \\\"count\\\": 384995}, {\\\"left\\\": 22, \\\"right\\\": 25, \\\"count\\\": 364954}, {\\\"left\\\": 25, \\\"right\\\": 28, \\\"count\\\": 73312}, {\\\"left\\\": 28, \\\"right\\\": 31, \\\"count\\\": 183223}, {\\\"left\\\": 31, \\\"right\\\": 34, \\\"count\\\": 56684}, {\\\"left\\\": 34, \\\"right\\\": 37, \\\"count\\\": 40641}, {\\\"left\\\": 37, \\\"right\\\": 40, \\\"count\\\": 670510}, {\\\"left\\\": 40, \\\"right\\\": 43, \\\"count\\\": 73753}, {\\\"left\\\": 43, \\\"right\\\": 46, \\\"count\\\": 0}, {\\\"left\\\": 46, \\\"right\\\": 49, \\\"count\\\": 0}, {\\\"left\\\": 49, \\\"right\\\": 52, \\\"count\\\": 0}, {\\\"start\\\": -8, \\\"stop\\\": 52, \\\"step\\\": 3}], \\\"categorical\\\": []}, {\\\"a\\\": 27, \\\"title\\\": \\\"Entity_Axis_Conditions\\\", \\\"num_row\\\": 2557779, \\\"type\\\": \\\"integer\\\", \\\"num_unique\\\": 15, \\\"num_missing\\\": 0, \\\"mean\\\": 3.217012, \\\"min\\\": 1.0, \\\"max\\\": 15.0, \\\"median\\\": 1.0, \\\"stdev\\\": 2.052732, \\\"numeric\\\": [{\\\"left\\\": -1, \\\"right\\\": 0, \\\"count\\\": 0}, {\\\"left\\\": 0, \\\"right\\\": 1, \\\"count\\\": 0}, {\\\"left\\\": 1, \\\"right\\\": 2, \\\"count\\\": 559601}, {\\\"left\\\": 2, \\\"right\\\": 3, \\\"count\\\": 552884}, {\\\"left\\\": 3, \\\"right\\\": 4, \\\"count\\\": 520441}, {\\\"left\\\": 4, \\\"right\\\": 5, \\\"count\\\": 367407}, {\\\"left\\\": 5, \\\"right\\\": 6, \\\"count\\\": 231655}, {\\\"left\\\": 6, \\\"right\\\": 7, \\\"count\\\": 138084}, {\\\"left\\\": 7, \\\"right\\\": 8, \\\"count\\\": 80890}, {\\\"left\\\": 8, \\\"right\\\": 9, \\\"count\\\": 46598}, {\\\"left\\\": 9, \\\"right\\\": 10, \\\"count\\\": 27512}, {\\\"left\\\": 10, \\\"right\\\": 11, \\\"count\\\": 15527}, {\\\"left\\\": 11, \\\"right\\\": 12, \\\"count\\\": 8374}, {\\\"left\\\": 12, \\\"right\\\": 13, \\\"count\\\": 4891}, {\\\"left\\\": 13, \\\"right\\\": 14, \\\"count\\\": 2229}, {\\\"left\\\": 14, \\\"right\\\": 15, \\\"count\\\": 1657}, {\\\"left\\\": 15, \\\"right\\\": 16, \\\"count\\\": 29}, {\\\"left\\\": 16, \\\"right\\\": 17, \\\"count\\\": 0}, {\\\"left\\\": 17, \\\"right\\\": 18, \\\"count\\\": 0}, {\\\"left\\\": 18, \\\"right\\\": 19, \\\"count\\\": 0}, {\\\"start\\\": -1, \\\"stop\\\": 19, \\\"step\\\": 1}], \\\"categorical\\\": []}, {\\\"a\\\": 28, \\\"title\\\": \\\"EAC1\\\", \\\"num_row\\\": 2557779, \\\"type\\\": \\\"str\\\", \\\"num_unique\\\": 4839, \\\"num_missing\\\": 0, \\\"categorical\\\": [{\\\"label\\\": \\\"11I469\\\", \\\"label_idx\\\": 0, \\\"count\\\": 238953, \\\"percentage\\\": \\\"9.34221%\\\"}, {\\\"label\\\": \\\"11I500\\\", \\\"label_idx\\\": 1, \\\"count\\\": 104803, \\\"percentage\\\": \\\"4.09742%\\\"}, {\\\"label\\\": \\\"11J969\\\", \\\"label_idx\\\": 2, \\\"count\\\": 98315, \\\"percentage\\\": \\\"3.84376%\\\"}, {\\\"label\\\": \\\"11C349\\\", \\\"label_idx\\\": 3, \\\"count\\\": 91424, \\\"percentage\\\": \\\"3.57435%\\\"}, {\\\"label\\\": \\\"11A419\\\", \\\"label_idx\\\": 4, \\\"count\\\": 90707, \\\"percentage\\\": \\\"3.54632%\\\"}, {\\\"label\\\": \\\"11I219\\\", \\\"label_idx\\\": 5, \\\"count\\\": 80088, \\\"percentage\\\": \\\"3.13115%\\\"}, {\\\"label\\\": \\\"11J960\\\", \\\"label_idx\\\": 6, \\\"count\\\": 75488, \\\"percentage\\\": \\\"2.95131%\\\"}, {\\\"label\\\": \\\"11G309\\\", \\\"label_idx\\\": 7, \\\"count\\\": 69935, \\\"percentage\\\": \\\"2.73421%\\\"}, {\\\"label\\\": \\\"11J449\\\", \\\"label_idx\\\": 8, \\\"count\\\": 66598, \\\"percentage\\\": \\\"2.60374%\\\"}, {\\\"label\\\": \\\"11I251\\\", \\\"label_idx\\\": 9, \\\"count\\\": 54638, \\\"percentage\\\": \\\"2.13615%\\\"}, {\\\"label\\\": \\\"Other (4829 labels)\\\", \\\"label_idx\\\": 10, \\\"count\\\": 1586830, \\\"percentage\\\": \\\"62.0394%\\\"}], \\\"numeric\\\": []}, {\\\"a\\\": 29, \\\"title\\\": \\\"EAC2\\\", \\\"num_row\\\": 2557779, \\\"type\\\": \\\"str\\\", \\\"num_unique\\\": 11000, \\\"num_missing\\\": 0, \\\"categorical\\\": [{\\\"label\\\": \\\"\\\", \\\"label_idx\\\": 0, \\\"count\\\": 559601, \\\"percentage\\\": \\\"21.8784%\\\"}, {\\\"label\\\": \\\"21I251\\\", \\\"label_idx\\\": 1, \\\"count\\\": 90680, \\\"percentage\\\": \\\"3.54526%\\\"}, {\\\"label\\\": \\\"61F179\\\", \\\"label_idx\\\": 2, \\\"count\\\": 62001, \\\"percentage\\\": \\\"2.42402%\\\"}, {\\\"label\\\": \\\"21I10\\\", \\\"label_idx\\\": 3, \\\"count\\\": 57663, \\\"percentage\\\": \\\"2.25442%\\\"}, {\\\"label\\\": \\\"21I500\\\", \\\"label_idx\\\": 4, \\\"count\\\": 50167, \\\"percentage\\\": \\\"1.96135%\\\"}, {\\\"label\\\": \\\"21J449\\\", \\\"label_idx\\\": 5, \\\"count\\\": 48390, \\\"percentage\\\": \\\"1.89188%\\\"}, {\\\"label\\\": \\\"21J189\\\", \\\"label_idx\\\": 6, \\\"count\\\": 45186, \\\"percentage\\\": \\\"1.76661%\\\"}, {\\\"label\\\": \\\"21A419\\\", \\\"label_idx\\\": 7, \\\"count\\\": 41349, \\\"percentage\\\": \\\"1.6166%\\\"}, {\\\"label\\\": \\\"61I10\\\", \\\"label_idx\\\": 8, \\\"count\\\": 34310, \\\"percentage\\\": \\\"1.3414%\\\"}, {\\\"label\\\": \\\"21F03\\\", \\\"label_idx\\\": 9, \\\"count\\\": 31872, \\\"percentage\\\": \\\"1.24608%\\\"}, {\\\"label\\\": \\\"Other (10990 labels)\\\", \\\"label_idx\\\": 10, \\\"count\\\": 1536560, \\\"percentage\\\": \\\"60.074%\\\"}], \\\"numeric\\\": []}, {\\\"a\\\": 30, \\\"title\\\": \\\"EAC3\\\", \\\"num_row\\\": 2557779, \\\"type\\\": \\\"str\\\", \\\"num_unique\\\": 15612, \\\"num_missing\\\": 0, \\\"categorical\\\": [{\\\"label\\\": \\\"\\\", \\\"label_idx\\\": 0, \\\"count\\\": 1112486, \\\"percentage\\\": \\\"43.4942%\\\"}, {\\\"label\\\": \\\"31I10\\\", \\\"label_idx\\\": 1, \\\"count\\\": 46100, \\\"percentage\\\": \\\"1.80234%\\\"}, {\\\"label\\\": \\\"61F179\\\", \\\"label_idx\\\": 2, \\\"count\\\": 41628, \\\"percentage\\\": \\\"1.62751%\\\"}, {\\\"label\\\": \\\"31I251\\\", \\\"label_idx\\\": 3, \\\"count\\\": 35499, \\\"percentage\\\": \\\"1.38788%\\\"}, {\\\"label\\\": \\\"61I10\\\", \\\"label_idx\\\": 4, \\\"count\\\": 27179, \\\"percentage\\\": \\\"1.0626%\\\"}, {\\\"label\\\": \\\"61T141\\\", \\\"label_idx\\\": 5, \\\"count\\\": 23552, \\\"percentage\\\": \\\"0.920799%\\\"}, {\\\"label\\\": \\\"62I10\\\", \\\"label_idx\\\": 6, \\\"count\\\": 22914, \\\"percentage\\\": \\\"0.895855%\\\"}, {\\\"label\\\": \\\"31J449\\\", \\\"label_idx\\\": 7, \\\"count\\\": 21268, \\\"percentage\\\": \\\"0.831503%\\\"}, {\\\"label\\\": \\\"62F179\\\", \\\"label_idx\\\": 8, \\\"count\\\": 19737, \\\"percentage\\\": \\\"0.771646%\\\"}, {\\\"label\\\": \\\"31I500\\\", \\\"label_idx\\\": 9, \\\"count\\\": 17535, \\\"percentage\\\": \\\"0.685556%\\\"}, {\\\"label\\\": \\\"Other (15602 labels)\\\", \\\"label_idx\\\": 10, \\\"count\\\": 1189881, \\\"percentage\\\": \\\"46.5201%\\\"}], \\\"numeric\\\": []}, {\\\"a\\\": 31, \\\"title\\\": \\\"EAC4\\\", \\\"num_row\\\": 2557779, \\\"type\\\": \\\"str\\\", \\\"num_unique\\\": 17878, \\\"num_missing\\\": 0, \\\"categorical\\\": [{\\\"label\\\": \\\"\\\", \\\"label_idx\\\": 0, \\\"count\\\": 1632927, \\\"percentage\\\": \\\"63.8416%\\\"}, {\\\"label\\\": \\\"61F179\\\", \\\"label_idx\\\": 1, \\\"count\\\": 32010, \\\"percentage\\\": \\\"1.25148%\\\"}, {\\\"label\\\": \\\"62F179\\\", \\\"label_idx\\\": 2, \\\"count\\\": 18040, \\\"percentage\\\": \\\"0.705299%\\\"}, {\\\"label\\\": \\\"62I10\\\", \\\"label_idx\\\": 3, \\\"count\\\": 17614, \\\"percentage\\\": \\\"0.688644%\\\"}, {\\\"label\\\": \\\"41I10\\\", \\\"label_idx\\\": 4, \\\"count\\\": 17052, \\\"percentage\\\": \\\"0.666672%\\\"}, {\\\"label\\\": \\\"61I10\\\", \\\"label_idx\\\": 5, \\\"count\\\": 15847, \\\"percentage\\\": \\\"0.619561%\\\"}, {\\\"label\\\": \\\"63F179\\\", \\\"label_idx\\\": 6, \\\"count\\\": 13975, \\\"percentage\\\": \\\"0.546372%\\\"}, {\\\"label\\\": \\\"63I10\\\", \\\"label_idx\\\": 7, \\\"count\\\": 10365, \\\"percentage\\\": \\\"0.405234%\\\"}, {\\\"label\\\": \\\"41I251\\\", \\\"label_idx\\\": 8, \\\"count\\\": 9889, \\\"percentage\\\": \\\"0.386624%\\\"}, {\\\"label\\\": \\\"61J449\\\", \\\"label_idx\\\": 9, \\\"count\\\": 9850, \\\"percentage\\\": \\\"0.3851%\\\"}, {\\\"label\\\": \\\"Other (17868 labels)\\\", \\\"label_idx\\\": 10, \\\"count\\\": 780210, \\\"percentage\\\": \\\"30.5034%\\\"}], \\\"numeric\\\": []}, {\\\"a\\\": 32, \\\"title\\\": \\\"EAC5\\\", \\\"num_row\\\": 2557779, \\\"type\\\": \\\"str\\\", \\\"num_unique\\\": 17456, \\\"num_missing\\\": 0, \\\"categorical\\\": [{\\\"label\\\": \\\"\\\", \\\"label_idx\\\": 0, \\\"count\\\": 2000330, \\\"percentage\\\": \\\"78.2057%\\\"}, {\\\"label\\\": \\\"61F179\\\", \\\"label_idx\\\": 1, \\\"count\\\": 19305, \\\"percentage\\\": \\\"0.754756%\\\"}, {\\\"label\\\": \\\"63F179\\\", \\\"label_idx\\\": 2, \\\"count\\\": 12753, \\\"percentage\\\": \\\"0.498597%\\\"}, {\\\"label\\\": \\\"62F179\\\", \\\"label_idx\\\": 3, \\\"count\\\": 12249, \\\"percentage\\\": \\\"0.478892%\\\"}, {\\\"label\\\": \\\"62I10\\\", \\\"label_idx\\\": 4, \\\"count\\\": 10238, \\\"percentage\\\": \\\"0.400269%\\\"}, {\\\"label\\\": \\\"61I10\\\", \\\"label_idx\\\": 5, \\\"count\\\": 9822, \\\"percentage\\\": \\\"0.384005%\\\"}, {\\\"label\\\": \\\"64F179\\\", \\\"label_idx\\\": 6, \\\"count\\\": 8917, \\\"percentage\\\": \\\"0.348623%\\\"}, {\\\"label\\\": \\\"63I10\\\", \\\"label_idx\\\": 7, \\\"count\\\": 8121, \\\"percentage\\\": \\\"0.317502%\\\"}, {\\\"label\\\": \\\"61J449\\\", \\\"label_idx\\\": 8, \\\"count\\\": 5533, \\\"percentage\\\": \\\"0.21632%\\\"}, {\\\"label\\\": \\\"62I48\\\", \\\"label_idx\\\": 9, \\\"count\\\": 5361, \\\"percentage\\\": \\\"0.209596%\\\"}, {\\\"label\\\": \\\"Other (17446 labels)\\\", \\\"label_idx\\\": 10, \\\"count\\\": 465150, \\\"percentage\\\": \\\"18.1857%\\\"}], \\\"numeric\\\": []}, {\\\"a\\\": 33, \\\"title\\\": \\\"EAC6\\\", \\\"num_row\\\": 2557779, \\\"type\\\": \\\"str\\\", \\\"num_unique\\\": 15108, \\\"num_missing\\\": 0, \\\"categorical\\\": [{\\\"label\\\": \\\"\\\", \\\"label_idx\\\": 0, \\\"count\\\": 2231986, \\\"percentage\\\": \\\"87.2627%\\\"}, {\\\"label\\\": \\\"63F179\\\", \\\"label_idx\\\": 1, \\\"count\\\": 8862, \\\"percentage\\\": \\\"0.346472%\\\"}, {\\\"label\\\": \\\"62F179\\\", \\\"label_idx\\\": 2, \\\"count\\\": 8650, \\\"percentage\\\": \\\"0.338184%\\\"}, {\\\"label\\\": \\\"64F179\\\", \\\"label_idx\\\": 3, \\\"count\\\": 8465, \\\"percentage\\\": \\\"0.330951%\\\"}, {\\\"label\\\": \\\"62I10\\\", \\\"label_idx\\\": 4, \\\"count\\\": 6135, \\\"percentage\\\": \\\"0.239857%\\\"}, {\\\"label\\\": \\\"61F179\\\", \\\"label_idx\\\": 5, \\\"count\\\": 5357, \\\"percentage\\\": \\\"0.20944%\\\"}, {\\\"label\\\": \\\"63I10\\\", \\\"label_idx\\\": 6, \\\"count\\\": 5004, \\\"percentage\\\": \\\"0.195638%\\\"}, {\\\"label\\\": \\\"65F179\\\", \\\"label_idx\\\": 7, \\\"count\\\": 4757, \\\"percentage\\\": \\\"0.185982%\\\"}, {\\\"label\\\": \\\"64I10\\\", \\\"label_idx\\\": 8, \\\"count\\\": 3222, \\\"percentage\\\": \\\"0.125969%\\\"}, {\\\"label\\\": \\\"62I48\\\", \\\"label_idx\\\": 9, \\\"count\\\": 3165, \\\"percentage\\\": \\\"0.12374%\\\"}, {\\\"label\\\": \\\"Other (15098 labels)\\\", \\\"label_idx\\\": 10, \\\"count\\\": 272176, \\\"percentage\\\": \\\"10.6411%\\\"}], \\\"numeric\\\": []}, {\\\"a\\\": 34, \\\"title\\\": \\\"EAC7\\\", \\\"num_row\\\": 2557779, \\\"type\\\": \\\"str\\\", \\\"num_unique\\\": 12392, \\\"num_missing\\\": 0, \\\"categorical\\\": [{\\\"label\\\": \\\"\\\", \\\"label_idx\\\": 0, \\\"count\\\": 2370072, \\\"percentage\\\": \\\"92.6613%\\\"}, {\\\"label\\\": \\\"64F179\\\", \\\"label_idx\\\": 1, \\\"count\\\": 5852, \\\"percentage\\\": \\\"0.228792%\\\"}, {\\\"label\\\": \\\"63F179\\\", \\\"label_idx\\\": 2, \\\"count\\\": 5599, \\\"percentage\\\": \\\"0.218901%\\\"}, {\\\"label\\\": \\\"65F179\\\", \\\"label_idx\\\": 3, \\\"count\\\": 4421, \\\"percentage\\\": \\\"0.172845%\\\"}, {\\\"label\\\": \\\"63I10\\\", \\\"label_idx\\\": 4, \\\"count\\\": 3321, \\\"percentage\\\": \\\"0.129839%\\\"}, {\\\"label\\\": \\\"62F179\\\", \\\"label_idx\\\": 5, \\\"count\\\": 2451, \\\"percentage\\\": \\\"0.0958253%\\\"}, {\\\"label\\\": \\\"66F179\\\", \\\"label_idx\\\": 6, \\\"count\\\": 2339, \\\"percentage\\\": \\\"0.0914465%\\\"}, {\\\"label\\\": \\\"64I10\\\", \\\"label_idx\\\": 7, \\\"count\\\": 2062, \\\"percentage\\\": \\\"0.0806168%\\\"}, {\\\"label\\\": \\\"63I48\\\", \\\"label_idx\\\": 8, \\\"count\\\": 1963, \\\"percentage\\\": \\\"0.0767463%\\\"}, {\\\"label\\\": \\\"62I10\\\", \\\"label_idx\\\": 9, \\\"count\\\": 1888, \\\"percentage\\\": \\\"0.073814%\\\"}, {\\\"label\\\": \\\"Other (12382 labels)\\\", \\\"label_idx\\\": 10, \\\"count\\\": 157811, \\\"percentage\\\": \\\"6.16985%\\\"}], \\\"numeric\\\": []}, {\\\"a\\\": 35, \\\"title\\\": \\\"EAC8\\\", \\\"num_row\\\": 2557779, \\\"type\\\": \\\"str\\\", \\\"num_unique\\\": 9841, \\\"num_missing\\\": 0, \\\"categorical\\\": [{\\\"label\\\": \\\"\\\", \\\"label_idx\\\": 0, \\\"count\\\": 2450962, \\\"percentage\\\": \\\"95.8238%\\\"}, {\\\"label\\\": \\\"Other (9840 labels)\\\", \\\"label_idx\\\": 1, \\\"count\\\": 106817, \\\"percentage\\\": \\\"4.17616%\\\"}], \\\"numeric\\\": []}, {\\\"a\\\": 36, \\\"title\\\": \\\"EAC9\\\", \\\"num_row\\\": 2557779, \\\"type\\\": \\\"str\\\", \\\"num_unique\\\": 7500, \\\"num_missing\\\": 0, \\\"categorical\\\": [{\\\"label\\\": \\\"\\\", \\\"label_idx\\\": 0, \\\"count\\\": 2497560, \\\"percentage\\\": \\\"97.6457%\\\"}, {\\\"label\\\": \\\"Other (7499 labels)\\\", \\\"label_idx\\\": 1, \\\"count\\\": 60219, \\\"percentage\\\": \\\"2.35435%\\\"}], \\\"numeric\\\": []}, {\\\"a\\\": 37, \\\"title\\\": \\\"EAC10\\\", \\\"num_row\\\": 2557779, \\\"type\\\": \\\"str\\\", \\\"num_unique\\\": 5449, \\\"num_missing\\\": 0, \\\"categorical\\\": [{\\\"label\\\": \\\"\\\", \\\"label_idx\\\": 0, \\\"count\\\": 2525072, \\\"percentage\\\": \\\"98.7213%\\\"}, {\\\"label\\\": \\\"Other (5448 labels)\\\", \\\"label_idx\\\": 1, \\\"count\\\": 32707, \\\"percentage\\\": \\\"1.27873%\\\"}], \\\"numeric\\\": []}, {\\\"a\\\": 38, \\\"title\\\": \\\"EAC11\\\", \\\"num_row\\\": 2557779, \\\"type\\\": \\\"str\\\", \\\"num_unique\\\": 3734, \\\"num_missing\\\": 0, \\\"categorical\\\": [{\\\"label\\\": \\\"\\\", \\\"label_idx\\\": 0, \\\"count\\\": 2540598, \\\"percentage\\\": \\\"99.3283%\\\"}, {\\\"label\\\": \\\"Other (3733 labels)\\\", \\\"label_idx\\\": 1, \\\"count\\\": 17181, \\\"percentage\\\": \\\"0.671716%\\\"}], \\\"numeric\\\": []}, {\\\"a\\\": 39, \\\"title\\\": \\\"EAC12\\\", \\\"num_row\\\": 2557779, \\\"type\\\": \\\"str\\\", \\\"num_unique\\\": 2566, \\\"num_missing\\\": 0, \\\"categorical\\\": [{\\\"label\\\": \\\"\\\", \\\"label_idx\\\": 0, \\\"count\\\": 2548973, \\\"percentage\\\": \\\"99.6557%\\\"}, {\\\"label\\\": \\\"Other (2565 labels)\\\", \\\"label_idx\\\": 1, \\\"count\\\": 8806, \\\"percentage\\\": \\\"0.344283%\\\"}], \\\"numeric\\\": []}, {\\\"a\\\": 40, \\\"title\\\": \\\"EAC13\\\", \\\"num_row\\\": 2557779, \\\"type\\\": \\\"str\\\", \\\"num_unique\\\": 1555, \\\"num_missing\\\": 0, \\\"categorical\\\": [{\\\"label\\\": \\\"\\\", \\\"label_idx\\\": 0, \\\"count\\\": 2553864, \\\"percentage\\\": \\\"99.8469%\\\"}, {\\\"label\\\": \\\"Other (1554 labels)\\\", \\\"label_idx\\\": 1, \\\"count\\\": 3915, \\\"percentage\\\": \\\"0.153062%\\\"}], \\\"numeric\\\": []}, {\\\"a\\\": 41, \\\"title\\\": \\\"EAC14\\\", \\\"num_row\\\": 2557779, \\\"type\\\": \\\"str\\\", \\\"num_unique\\\": 849, \\\"num_missing\\\": 0, \\\"categorical\\\": [{\\\"label\\\": \\\"\\\", \\\"label_idx\\\": 0, \\\"count\\\": 2556093, \\\"percentage\\\": \\\"99.9341%\\\"}, {\\\"label\\\": \\\"Other (848 labels)\\\", \\\"label_idx\\\": 1, \\\"count\\\": 1686, \\\"percentage\\\": \\\"0.0659166%\\\"}], \\\"numeric\\\": []}, {\\\"a\\\": 42, \\\"title\\\": \\\"EAC15\\\", \\\"num_row\\\": 2557779, \\\"type\\\": \\\"str\\\", \\\"num_unique\\\": 23, \\\"num_missing\\\": 0, \\\"categorical\\\": [{\\\"label\\\": \\\"\\\", \\\"label_idx\\\": 0, \\\"count\\\": 2557750, \\\"percentage\\\": \\\"99.9989%\\\"}, {\\\"label\\\": \\\"Other (22 labels)\\\", \\\"label_idx\\\": 1, \\\"count\\\": 29, \\\"percentage\\\": \\\"0.0011338%\\\"}], \\\"numeric\\\": []}, {\\\"a\\\": 43, \\\"title\\\": \\\"EAC16\\\", \\\"num_row\\\": 2557779, \\\"type\\\": \\\"str\\\", \\\"num_unique\\\": 1, \\\"num_missing\\\": 0, \\\"categorical\\\": [{\\\"label\\\": \\\"\\\", \\\"label_idx\\\": 0, \\\"count\\\": 2557779, \\\"percentage\\\": \\\"100%\\\"}], \\\"numeric\\\": []}, {\\\"a\\\": 44, \\\"title\\\": \\\"EAC17\\\", \\\"num_row\\\": 2557779, \\\"type\\\": \\\"str\\\", \\\"num_unique\\\": 1, \\\"num_missing\\\": 0, \\\"categorical\\\": [{\\\"label\\\": \\\"\\\", \\\"label_idx\\\": 0, \\\"count\\\": 2557779, \\\"percentage\\\": \\\"100%\\\"}], \\\"numeric\\\": []}, {\\\"a\\\": 45, \\\"title\\\": \\\"EAC18\\\", \\\"num_row\\\": 2557779, \\\"type\\\": \\\"str\\\", \\\"num_unique\\\": 1, \\\"num_missing\\\": 0, \\\"categorical\\\": [{\\\"label\\\": \\\"\\\", \\\"label_idx\\\": 0, \\\"count\\\": 2557779, \\\"percentage\\\": \\\"100%\\\"}], \\\"numeric\\\": []}, {\\\"a\\\": 46, \\\"title\\\": \\\"EAC19\\\", \\\"num_row\\\": 2557779, \\\"type\\\": \\\"str\\\", \\\"num_unique\\\": 1, \\\"num_missing\\\": 0, \\\"categorical\\\": [{\\\"label\\\": \\\"\\\", \\\"label_idx\\\": 0, \\\"count\\\": 2557779, \\\"percentage\\\": \\\"100%\\\"}], \\\"numeric\\\": []}, {\\\"a\\\": 47, \\\"title\\\": \\\"EAC20\\\", \\\"num_row\\\": 2557779, \\\"type\\\": \\\"str\\\", \\\"num_unique\\\": 1, \\\"num_missing\\\": 0, \\\"categorical\\\": [{\\\"label\\\": \\\"\\\", \\\"label_idx\\\": 0, \\\"count\\\": 2557779, \\\"percentage\\\": \\\"100%\\\"}], \\\"numeric\\\": []}, {\\\"a\\\": 48, \\\"title\\\": \\\"Num_Rec_Axis_Cond\\\", \\\"num_row\\\": 2557779, \\\"type\\\": \\\"integer\\\", \\\"num_unique\\\": 15, \\\"num_missing\\\": 0, \\\"mean\\\": 3.052868, \\\"min\\\": 1.0, \\\"max\\\": 15.0, \\\"median\\\": 1.0, \\\"stdev\\\": 1.913964, \\\"numeric\\\": [{\\\"left\\\": -1, \\\"right\\\": 0, \\\"count\\\": 0}, {\\\"left\\\": 0, \\\"right\\\": 1, \\\"count\\\": 0}, {\\\"left\\\": 1, \\\"right\\\": 2, \\\"count\\\": 593324}, {\\\"left\\\": 2, \\\"right\\\": 3, \\\"count\\\": 597359}, {\\\"left\\\": 3, \\\"right\\\": 4, \\\"count\\\": 515251}, {\\\"left\\\": 4, \\\"right\\\": 5, \\\"count\\\": 361468}, {\\\"left\\\": 5, \\\"right\\\": 6, \\\"count\\\": 218013}, {\\\"left\\\": 6, \\\"right\\\": 7, \\\"count\\\": 124374}, {\\\"left\\\": 7, \\\"right\\\": 8, \\\"count\\\": 68914}, {\\\"left\\\": 8, \\\"right\\\": 9, \\\"count\\\": 37810}, {\\\"left\\\": 9, \\\"right\\\": 10, \\\"count\\\": 20671}, {\\\"left\\\": 10, \\\"right\\\": 11, \\\"count\\\": 10869}, {\\\"left\\\": 11, \\\"right\\\": 12, \\\"count\\\": 5583}, {\\\"left\\\": 12, \\\"right\\\": 13, \\\"count\\\": 2667}, {\\\"left\\\": 13, \\\"right\\\": 14, \\\"count\\\": 1116}, {\\\"left\\\": 14, \\\"right\\\": 15, \\\"count\\\": 347}, {\\\"left\\\": 15, \\\"right\\\": 16, \\\"count\\\": 13}, {\\\"left\\\": 16, \\\"right\\\": 17, \\\"count\\\": 0}, {\\\"left\\\": 17, \\\"right\\\": 18, \\\"count\\\": 0}, {\\\"left\\\": 18, \\\"right\\\": 19, \\\"count\\\": 0}, {\\\"start\\\": -1, \\\"stop\\\": 19, \\\"step\\\": 1}], \\\"categorical\\\": []}, {\\\"a\\\": 49, \\\"title\\\": \\\"RA1\\\", \\\"num_row\\\": 2557779, \\\"type\\\": \\\"str\\\", \\\"num_unique\\\": 3767, \\\"num_missing\\\": 0, \\\"categorical\\\": [{\\\"label\\\": \\\"I251\\\", \\\"label_idx\\\": 0, \\\"count\\\": 145135, \\\"percentage\\\": \\\"5.67426%\\\"}, {\\\"label\\\": \\\"C349\\\", \\\"label_idx\\\": 1, \\\"count\\\": 125027, \\\"percentage\\\": \\\"4.88811%\\\"}, {\\\"label\\\": \\\"J449\\\", \\\"label_idx\\\": 2, \\\"count\\\": 108276, \\\"percentage\\\": \\\"4.2332%\\\"}, {\\\"label\\\": \\\"G309\\\", \\\"label_idx\\\": 3, \\\"count\\\": 98448, \\\"percentage\\\": \\\"3.84896%\\\"}, {\\\"label\\\": \\\"F03\\\", \\\"label_idx\\\": 4, \\\"count\\\": 94003, \\\"percentage\\\": \\\"3.67518%\\\"}, {\\\"label\\\": \\\"I219\\\", \\\"label_idx\\\": 5, \\\"count\\\": 89850, \\\"percentage\\\": \\\"3.51281%\\\"}, {\\\"label\\\": \\\"I250\\\", \\\"label_idx\\\": 6, \\\"count\\\": 63050, \\\"percentage\\\": \\\"2.46503%\\\"}, {\\\"label\\\": \\\"I500\\\", \\\"label_idx\\\": 7, \\\"count\\\": 56572, \\\"percentage\\\": \\\"2.21176%\\\"}, {\\\"label\\\": \\\"I64\\\", \\\"label_idx\\\": 8, \\\"count\\\": 46278, \\\"percentage\\\": \\\"1.8093%\\\"}, {\\\"label\\\": \\\"C259\\\", \\\"label_idx\\\": 9, \\\"count\\\": 38520, \\\"percentage\\\": \\\"1.50599%\\\"}, {\\\"label\\\": \\\"Other (3757 labels)\\\", \\\"label_idx\\\": 10, \\\"count\\\": 1692620, \\\"percentage\\\": \\\"66.1754%\\\"}], \\\"numeric\\\": []}, {\\\"a\\\": 50, \\\"title\\\": \\\"RA3\\\", \\\"num_row\\\": 2557779, \\\"type\\\": \\\"str\\\", \\\"num_unique\\\": 3557, \\\"num_missing\\\": 0, \\\"categorical\\\": [{\\\"label\\\": \\\"\\\", \\\"label_idx\\\": 0, \\\"count\\\": 1190681, \\\"percentage\\\": \\\"46.5514%\\\"}, {\\\"label\\\": \\\"I10\\\", \\\"label_idx\\\": 1, \\\"count\\\": 97810, \\\"percentage\\\": \\\"3.82402%\\\"}, {\\\"label\\\": \\\"I469\\\", \\\"label_idx\\\": 2, \\\"count\\\": 78286, \\\"percentage\\\": \\\"3.0607%\\\"}, {\\\"label\\\": \\\"F179\\\", \\\"label_idx\\\": 3, \\\"count\\\": 76760, \\\"percentage\\\": \\\"3.00104%\\\"}, {\\\"label\\\": \\\"I500\\\", \\\"label_idx\\\": 4, \\\"count\\\": 58543, \\\"percentage\\\": \\\"2.28882%\\\"}, {\\\"label\\\": \\\"I251\\\", \\\"label_idx\\\": 5, \\\"count\\\": 45225, \\\"percentage\\\": \\\"1.76814%\\\"}, {\\\"label\\\": \\\"J969\\\", \\\"label_idx\\\": 6, \\\"count\\\": 44918, \\\"percentage\\\": \\\"1.75613%\\\"}, {\\\"label\\\": \\\"I48\\\", \\\"label_idx\\\": 7, \\\"count\\\": 40579, \\\"percentage\\\": \\\"1.58649%\\\"}, {\\\"label\\\": \\\"J960\\\", \\\"label_idx\\\": 8, \\\"count\\\": 32842, \\\"percentage\\\": \\\"1.284%\\\"}, {\\\"label\\\": \\\"J449\\\", \\\"label_idx\\\": 9, \\\"count\\\": 31675, \\\"percentage\\\": \\\"1.23838%\\\"}, {\\\"label\\\": \\\"Other (3547 labels)\\\", \\\"label_idx\\\": 10, \\\"count\\\": 860460, \\\"percentage\\\": \\\"33.6409%\\\"}], \\\"numeric\\\": []}, {\\\"a\\\": 51, \\\"title\\\": \\\"RA4\\\", \\\"num_row\\\": 2557779, \\\"type\\\": \\\"str\\\", \\\"num_unique\\\": 3210, \\\"num_missing\\\": 0, \\\"categorical\\\": [{\\\"label\\\": \\\"\\\", \\\"label_idx\\\": 0, \\\"count\\\": 1705934, \\\"percentage\\\": \\\"66.6959%\\\"}, {\\\"label\\\": \\\"I10\\\", \\\"label_idx\\\": 1, \\\"count\\\": 51297, \\\"percentage\\\": \\\"2.00553%\\\"}, {\\\"label\\\": \\\"I500\\\", \\\"label_idx\\\": 2, \\\"count\\\": 41833, \\\"percentage\\\": \\\"1.63552%\\\"}, {\\\"label\\\": \\\"I469\\\", \\\"label_idx\\\": 3, \\\"count\\\": 37330, \\\"percentage\\\": \\\"1.45947%\\\"}, {\\\"label\\\": \\\"I48\\\", \\\"label_idx\\\": 4, \\\"count\\\": 31961, \\\"percentage\\\": \\\"1.24956%\\\"}, {\\\"label\\\": \\\"J969\\\", \\\"label_idx\\\": 5, \\\"count\\\": 30697, \\\"percentage\\\": \\\"1.20014%\\\"}, {\\\"label\\\": \\\"J449\\\", \\\"label_idx\\\": 6, \\\"count\\\": 30253, \\\"percentage\\\": \\\"1.18278%\\\"}, {\\\"label\\\": \\\"I251\\\", \\\"label_idx\\\": 7, \\\"count\\\": 29633, \\\"percentage\\\": \\\"1.15854%\\\"}, {\\\"label\\\": \\\"J960\\\", \\\"label_idx\\\": 8, \\\"count\\\": 25423, \\\"percentage\\\": \\\"0.993948%\\\"}, {\\\"label\\\": \\\"F179\\\", \\\"label_idx\\\": 9, \\\"count\\\": 24918, \\\"percentage\\\": \\\"0.974205%\\\"}, {\\\"label\\\": \\\"Other (3200 labels)\\\", \\\"label_idx\\\": 10, \\\"count\\\": 548500, \\\"percentage\\\": \\\"21.4444%\\\"}], \\\"numeric\\\": []}, {\\\"a\\\": 52, \\\"title\\\": \\\"RA5\\\", \\\"num_row\\\": 2557779, \\\"type\\\": \\\"str\\\", \\\"num_unique\\\": 2767, \\\"num_missing\\\": 0, \\\"categorical\\\": [{\\\"label\\\": \\\"\\\", \\\"label_idx\\\": 0, \\\"count\\\": 2067402, \\\"percentage\\\": \\\"80.828%\\\"}, {\\\"label\\\": \\\"I500\\\", \\\"label_idx\\\": 1, \\\"count\\\": 23442, \\\"percentage\\\": \\\"0.916498%\\\"}, {\\\"label\\\": \\\"J449\\\", \\\"label_idx\\\": 2, \\\"count\\\": 21046, \\\"percentage\\\": \\\"0.822823%\\\"}, {\\\"label\\\": \\\"I10\\\", \\\"label_idx\\\": 3, \\\"count\\\": 19858, \\\"percentage\\\": \\\"0.776377%\\\"}, {\\\"label\\\": \\\"I48\\\", \\\"label_idx\\\": 4, \\\"count\\\": 18351, \\\"percentage\\\": \\\"0.717458%\\\"}, {\\\"label\\\": \\\"J969\\\", \\\"label_idx\\\": 5, \\\"count\\\": 16924, \\\"percentage\\\": \\\"0.661668%\\\"}, {\\\"label\\\": \\\"I469\\\", \\\"label_idx\\\": 6, \\\"count\\\": 16569, \\\"percentage\\\": \\\"0.647789%\\\"}, {\\\"label\\\": \\\"J960\\\", \\\"label_idx\\\": 7, \\\"count\\\": 15052, \\\"percentage\\\": \\\"0.588479%\\\"}, {\\\"label\\\": \\\"I251\\\", \\\"label_idx\\\": 8, \\\"count\\\": 14756, \\\"percentage\\\": \\\"0.576907%\\\"}, {\\\"label\\\": \\\"N179\\\", \\\"label_idx\\\": 9, \\\"count\\\": 8119, \\\"percentage\\\": \\\"0.317424%\\\"}, {\\\"label\\\": \\\"Other (2757 labels)\\\", \\\"label_idx\\\": 10, \\\"count\\\": 336260, \\\"percentage\\\": \\\"13.1466%\\\"}], \\\"numeric\\\": []}, {\\\"a\\\": 53, \\\"title\\\": \\\"RA6\\\", \\\"num_row\\\": 2557779, \\\"type\\\": \\\"str\\\", \\\"num_unique\\\": 2343, \\\"num_missing\\\": 0, \\\"categorical\\\": [{\\\"label\\\": \\\"\\\", \\\"label_idx\\\": 0, \\\"count\\\": 2285415, \\\"percentage\\\": \\\"89.3515%\\\"}, {\\\"label\\\": \\\"J449\\\", \\\"label_idx\\\": 1, \\\"count\\\": 12349, \\\"percentage\\\": \\\"0.482802%\\\"}, {\\\"label\\\": \\\"I500\\\", \\\"label_idx\\\": 2, \\\"count\\\": 11650, \\\"percentage\\\": \\\"0.455473%\\\"}, {\\\"label\\\": \\\"J969\\\", \\\"label_idx\\\": 3, \\\"count\\\": 9124, \\\"percentage\\\": \\\"0.356716%\\\"}, {\\\"label\\\": \\\"I48\\\", \\\"label_idx\\\": 4, \\\"count\\\": 9035, \\\"percentage\\\": \\\"0.353236%\\\"}, {\\\"label\\\": \\\"J960\\\", \\\"label_idx\\\": 5, \\\"count\\\": 8715, \\\"percentage\\\": \\\"0.340725%\\\"}, {\\\"label\\\": \\\"I10\\\", \\\"label_idx\\\": 6, \\\"count\\\": 6692, \\\"percentage\\\": \\\"0.261633%\\\"}, {\\\"label\\\": \\\"I469\\\", \\\"label_idx\\\": 7, \\\"count\\\": 6608, \\\"percentage\\\": \\\"0.258349%\\\"}, {\\\"label\\\": \\\"I251\\\", \\\"label_idx\\\": 8, \\\"count\\\": 5894, \\\"percentage\\\": \\\"0.230434%\\\"}, {\\\"label\\\": \\\"N179\\\", \\\"label_idx\\\": 9, \\\"count\\\": 5583, \\\"percentage\\\": \\\"0.218275%\\\"}, {\\\"label\\\": \\\"Other (2333 labels)\\\", \\\"label_idx\\\": 10, \\\"count\\\": 196714, \\\"percentage\\\": \\\"7.69081%\\\"}], \\\"numeric\\\": []}, {\\\"a\\\": 54, \\\"title\\\": \\\"RA7\\\", \\\"num_row\\\": 2557779, \\\"type\\\": \\\"str\\\", \\\"num_unique\\\": 1982, \\\"num_missing\\\": 0, \\\"categorical\\\": [{\\\"label\\\": \\\"\\\", \\\"label_idx\\\": 0, \\\"count\\\": 2409789, \\\"percentage\\\": \\\"94.2141%\\\"}, {\\\"label\\\": \\\"J449\\\", \\\"label_idx\\\": 1, \\\"count\\\": 6281, \\\"percentage\\\": \\\"0.245565%\\\"}, {\\\"label\\\": \\\"I500\\\", \\\"label_idx\\\": 2, \\\"count\\\": 5178, \\\"percentage\\\": \\\"0.202441%\\\"}, {\\\"label\\\": \\\"J960\\\", \\\"label_idx\\\": 3, \\\"count\\\": 4900, \\\"percentage\\\": \\\"0.191572%\\\"}, {\\\"label\\\": \\\"J969\\\", \\\"label_idx\\\": 4, \\\"count\\\": 4750, \\\"percentage\\\": \\\"0.185708%\\\"}, {\\\"label\\\": \\\"Other (1977 labels)\\\", \\\"label_idx\\\": 5, \\\"count\\\": 126881, \\\"percentage\\\": \\\"4.96059%\\\"}], \\\"numeric\\\": []}, {\\\"a\\\": 55, \\\"title\\\": \\\"RA8\\\", \\\"num_row\\\": 2557779, \\\"type\\\": \\\"str\\\", \\\"num_unique\\\": 1612, \\\"num_missing\\\": 0, \\\"categorical\\\": [{\\\"label\\\": \\\"\\\", \\\"label_idx\\\": 0, \\\"count\\\": 2478703, \\\"percentage\\\": \\\"96.9084%\\\"}, {\\\"label\\\": \\\"Other (1611 labels)\\\", \\\"label_idx\\\": 1, \\\"count\\\": 79076, \\\"percentage\\\": \\\"3.09159%\\\"}], \\\"numeric\\\": []}, {\\\"a\\\": 56, \\\"title\\\": \\\"RA9\\\", \\\"num_row\\\": 2557779, \\\"type\\\": \\\"str\\\", \\\"num_unique\\\": 1289, \\\"num_missing\\\": 0, \\\"categorical\\\": [{\\\"label\\\": \\\"\\\", \\\"label_idx\\\": 0, \\\"count\\\": 2516513, \\\"percentage\\\": \\\"98.3866%\\\"}, {\\\"label\\\": \\\"Other (1288 labels)\\\", \\\"label_idx\\\": 1, \\\"count\\\": 41266, \\\"percentage\\\": \\\"1.61335%\\\"}], \\\"numeric\\\": []}, {\\\"a\\\": 57, \\\"title\\\": \\\"RA10\\\", \\\"num_row\\\": 2557779, \\\"type\\\": \\\"str\\\", \\\"num_unique\\\": 999, \\\"num_missing\\\": 0, \\\"categorical\\\": [{\\\"label\\\": \\\"\\\", \\\"label_idx\\\": 0, \\\"count\\\": 2537184, \\\"percentage\\\": \\\"99.1948%\\\"}, {\\\"label\\\": \\\"Other (998 labels)\\\", \\\"label_idx\\\": 1, \\\"count\\\": 20595, \\\"percentage\\\": \\\"0.805191%\\\"}], \\\"numeric\\\": []}, {\\\"a\\\": 58, \\\"title\\\": \\\"RA11\\\", \\\"num_row\\\": 2557779, \\\"type\\\": \\\"str\\\", \\\"num_unique\\\": 736, \\\"num_missing\\\": 0, \\\"categorical\\\": [{\\\"label\\\": \\\"\\\", \\\"label_idx\\\": 0, \\\"count\\\": 2548053, \\\"percentage\\\": \\\"99.6197%\\\"}, {\\\"label\\\": \\\"Other (735 labels)\\\", \\\"label_idx\\\": 1, \\\"count\\\": 9726, \\\"percentage\\\": \\\"0.380252%\\\"}], \\\"numeric\\\": []}, {\\\"a\\\": 59, \\\"title\\\": \\\"RA12\\\", \\\"num_row\\\": 2557779, \\\"type\\\": \\\"str\\\", \\\"num_unique\\\": 492, \\\"num_missing\\\": 0, \\\"categorical\\\": [{\\\"label\\\": \\\"\\\", \\\"label_idx\\\": 0, \\\"count\\\": 2553636, \\\"percentage\\\": \\\"99.838%\\\"}, {\\\"label\\\": \\\"Other (491 labels)\\\", \\\"label_idx\\\": 1, \\\"count\\\": 4143, \\\"percentage\\\": \\\"0.161976%\\\"}], \\\"numeric\\\": []}, {\\\"a\\\": 60, \\\"title\\\": \\\"RA13\\\", \\\"num_row\\\": 2557779, \\\"type\\\": \\\"str\\\", \\\"num_unique\\\": 285, \\\"num_missing\\\": 0, \\\"categorical\\\": [{\\\"label\\\": \\\"\\\", \\\"label_idx\\\": 0, \\\"count\\\": 2556303, \\\"percentage\\\": \\\"99.9423%\\\"}, {\\\"label\\\": \\\"Other (284 labels)\\\", \\\"label_idx\\\": 1, \\\"count\\\": 1476, \\\"percentage\\\": \\\"0.0577063%\\\"}], \\\"numeric\\\": []}, {\\\"a\\\": 61, \\\"title\\\": \\\"RA14\\\", \\\"num_row\\\": 2557779, \\\"type\\\": \\\"str\\\", \\\"num_unique\\\": 119, \\\"num_missing\\\": 0, \\\"categorical\\\": [{\\\"label\\\": \\\"\\\", \\\"label_idx\\\": 0, \\\"count\\\": 2557419, \\\"percentage\\\": \\\"99.9859%\\\"}, {\\\"label\\\": \\\"Other (118 labels)\\\", \\\"label_idx\\\": 1, \\\"count\\\": 360, \\\"percentage\\\": \\\"0.0140747%\\\"}], \\\"numeric\\\": []}, {\\\"a\\\": 62, \\\"title\\\": \\\"RA15\\\", \\\"num_row\\\": 2557779, \\\"type\\\": \\\"str\\\", \\\"num_unique\\\": 12, \\\"num_missing\\\": 0, \\\"categorical\\\": [{\\\"label\\\": \\\"\\\", \\\"label_idx\\\": 0, \\\"count\\\": 2557766, \\\"percentage\\\": \\\"99.9995%\\\"}, {\\\"label\\\": \\\"Other (11 labels)\\\", \\\"label_idx\\\": 1, \\\"count\\\": 13, \\\"percentage\\\": \\\"0.000508253%\\\"}], \\\"numeric\\\": []}, {\\\"a\\\": 63, \\\"title\\\": \\\"RA16\\\", \\\"num_row\\\": 2557779, \\\"type\\\": \\\"str\\\", \\\"num_unique\\\": 1, \\\"num_missing\\\": 0, \\\"categorical\\\": [{\\\"label\\\": \\\"\\\", \\\"label_idx\\\": 0, \\\"count\\\": 2557779, \\\"percentage\\\": \\\"100%\\\"}], \\\"numeric\\\": []}, {\\\"a\\\": 64, \\\"title\\\": \\\"RA17\\\", \\\"num_row\\\": 2557779, \\\"type\\\": \\\"str\\\", \\\"num_unique\\\": 1, \\\"num_missing\\\": 0, \\\"categorical\\\": [{\\\"label\\\": \\\"\\\", \\\"label_idx\\\": 0, \\\"count\\\": 2557779, \\\"percentage\\\": \\\"100%\\\"}], \\\"numeric\\\": []}, {\\\"a\\\": 65, \\\"title\\\": \\\"RA18\\\", \\\"num_row\\\": 2557779, \\\"type\\\": \\\"str\\\", \\\"num_unique\\\": 1, \\\"num_missing\\\": 0, \\\"categorical\\\": [{\\\"label\\\": \\\"\\\", \\\"label_idx\\\": 0, \\\"count\\\": 2557779, \\\"percentage\\\": \\\"100%\\\"}], \\\"numeric\\\": []}, {\\\"a\\\": 66, \\\"title\\\": \\\"RA19\\\", \\\"num_row\\\": 2557779, \\\"type\\\": \\\"str\\\", \\\"num_unique\\\": 1, \\\"num_missing\\\": 0, \\\"categorical\\\": [{\\\"label\\\": \\\"\\\", \\\"label_idx\\\": 0, \\\"count\\\": 2557779, \\\"percentage\\\": \\\"100%\\\"}], \\\"numeric\\\": []}, {\\\"a\\\": 67, \\\"title\\\": \\\"RA20\\\", \\\"num_row\\\": 2557779, \\\"type\\\": \\\"str\\\", \\\"num_unique\\\": 1, \\\"num_missing\\\": 0, \\\"categorical\\\": [{\\\"label\\\": \\\"\\\", \\\"label_idx\\\": 0, \\\"count\\\": 2557779, \\\"percentage\\\": \\\"100%\\\"}], \\\"numeric\\\": []}, {\\\"a\\\": 68, \\\"title\\\": \\\"Bridged_Race\\\", \\\"num_row\\\": 2557779, \\\"type\\\": \\\"integer\\\", \\\"num_unique\\\": 14, \\\"num_missing\\\": 0, \\\"mean\\\": 1.655286, \\\"min\\\": 1.0, \\\"max\\\": 78.0, \\\"median\\\": 1.0, \\\"stdev\\\": 5.145639, \\\"numeric\\\": [{\\\"left\\\": 0, \\\"right\\\": 4, \\\"count\\\": 2507077}, {\\\"left\\\": 4, \\\"right\\\": 8, \\\"count\\\": 22844}, {\\\"left\\\": 8, \\\"right\\\": 12, \\\"count\\\": 0}, {\\\"left\\\": 12, \\\"right\\\": 16, \\\"count\\\": 0}, {\\\"left\\\": 16, \\\"right\\\": 20, \\\"count\\\": 8176}, {\\\"left\\\": 20, \\\"right\\\": 24, \\\"count\\\": 0}, {\\\"left\\\": 24, \\\"right\\\": 28, \\\"count\\\": 0}, {\\\"left\\\": 28, \\\"right\\\": 32, \\\"count\\\": 4121}, {\\\"left\\\": 32, \\\"right\\\": 36, \\\"count\\\": 0}, {\\\"left\\\": 36, \\\"right\\\": 40, \\\"count\\\": 569}, {\\\"left\\\": 40, \\\"right\\\": 44, \\\"count\\\": 0}, {\\\"left\\\": 44, \\\"right\\\": 48, \\\"count\\\": 0}, {\\\"left\\\": 48, \\\"right\\\": 52, \\\"count\\\": 4203}, {\\\"left\\\": 52, \\\"right\\\": 56, \\\"count\\\": 0}, {\\\"left\\\": 56, \\\"right\\\": 60, \\\"count\\\": 331}, {\\\"left\\\": 60, \\\"right\\\": 64, \\\"count\\\": 0}, {\\\"left\\\": 64, \\\"right\\\": 68, \\\"count\\\": 0}, {\\\"left\\\": 68, \\\"right\\\": 72, \\\"count\\\": 7317}, {\\\"left\\\": 72, \\\"right\\\": 76, \\\"count\\\": 0}, {\\\"left\\\": 76, \\\"right\\\": 80, \\\"count\\\": 3141}, {\\\"start\\\": 0, \\\"stop\\\": 80, \\\"step\\\": 4}], \\\"categorical\\\": []}, {\\\"a\\\": 69, \\\"title\\\": \\\"Bridged_Race_Flag\\\", \\\"num_row\\\": 2557779, \\\"type\\\": \\\"integer\\\", \\\"num_unique\\\": 2, \\\"num_missing\\\": 2545861, \\\"mean\\\": 1.0, \\\"min\\\": 1.0, \\\"max\\\": 1.0, \\\"median\\\": 1.0, \\\"stdev\\\": 0.0, \\\"numeric\\\": [{\\\"left\\\": -9, \\\"right\\\": -8, \\\"count\\\": 0}, {\\\"left\\\": -8, \\\"right\\\": -7, \\\"count\\\": 0}, {\\\"left\\\": -7, \\\"right\\\": -6, \\\"count\\\": 0}, {\\\"left\\\": -6, \\\"right\\\": -5, \\\"count\\\": 0}, {\\\"left\\\": -5, \\\"right\\\": -4, \\\"count\\\": 0}, {\\\"left\\\": -4, \\\"right\\\": -3, \\\"count\\\": 0}, {\\\"left\\\": -3, \\\"right\\\": -2, \\\"count\\\": 0}, {\\\"left\\\": -2, \\\"right\\\": -1, \\\"count\\\": 0}, {\\\"left\\\": -1, \\\"right\\\": 0, \\\"count\\\": 0}, {\\\"left\\\": 0, \\\"right\\\": 1, \\\"count\\\": 0}, {\\\"left\\\": 1, \\\"right\\\": 2, \\\"count\\\": 11918}, {\\\"left\\\": 2, \\\"right\\\": 3, \\\"count\\\": 0}, {\\\"left\\\": 3, \\\"right\\\": 4, \\\"count\\\": 0}, {\\\"left\\\": 4, \\\"right\\\": 5, \\\"count\\\": 0}, {\\\"left\\\": 5, \\\"right\\\": 6, \\\"count\\\": 0}, {\\\"left\\\": 6, \\\"right\\\": 7, \\\"count\\\": 0}, {\\\"left\\\": 7, \\\"right\\\": 8, \\\"count\\\": 0}, {\\\"left\\\": 8, \\\"right\\\": 9, \\\"count\\\": 0}, {\\\"left\\\": 9, \\\"right\\\": 10, \\\"count\\\": 0}, {\\\"left\\\": 10, \\\"right\\\": 11, \\\"count\\\": 0}, {\\\"missing\\\": true, \\\"count\\\": 2545861}, {\\\"start\\\": -9, \\\"stop\\\": 11, \\\"step\\\": 1}], \\\"categorical\\\": []}, {\\\"a\\\": 70, \\\"title\\\": \\\"Race_Imput_Flag\\\", \\\"num_row\\\": 2557779, \\\"type\\\": \\\"str\\\", \\\"num_unique\\\": 3, \\\"num_missing\\\": 0, \\\"categorical\\\": [{\\\"label\\\": \\\"\\\", \\\"label_idx\\\": 0, \\\"count\\\": 2529284, \\\"percentage\\\": \\\"98.8859%\\\"}, {\\\"label\\\": \\\"2\\\", \\\"label_idx\\\": 1, \\\"count\\\": 21079, \\\"percentage\\\": \\\"0.824113%\\\"}, {\\\"label\\\": \\\"1\\\", \\\"label_idx\\\": 2, \\\"count\\\": 7416, \\\"percentage\\\": \\\"0.289939%\\\"}], \\\"numeric\\\": []}, {\\\"a\\\": 71, \\\"title\\\": \\\"Race_Recode_3\\\", \\\"num_row\\\": 2557779, \\\"type\\\": \\\"integer\\\", \\\"num_unique\\\": 3, \\\"num_missing\\\": 0, \\\"mean\\\": 1.27822, \\\"min\\\": 1.0, \\\"max\\\": 3.0, \\\"median\\\": 1.0, \\\"stdev\\\": 0.672115, \\\"numeric\\\": [{\\\"left\\\": -7, \\\"right\\\": -6, \\\"count\\\": 0}, {\\\"left\\\": -6, \\\"right\\\": -5, \\\"count\\\": 0}, {\\\"left\\\": -5, \\\"right\\\": -4, \\\"count\\\": 0}, {\\\"left\\\": -4, \\\"right\\\": -3, \\\"count\\\": 0}, {\\\"left\\\": -3, \\\"right\\\": -2, \\\"count\\\": 0}, {\\\"left\\\": -2, \\\"right\\\": -1, \\\"count\\\": 0}, {\\\"left\\\": -1, \\\"right\\\": 0, \\\"count\\\": 0}, {\\\"left\\\": 0, \\\"right\\\": 1, \\\"count\\\": 0}, {\\\"left\\\": 1, \\\"right\\\": 2, \\\"count\\\": 2167059}, {\\\"left\\\": 2, \\\"right\\\": 3, \\\"count\\\": 69815}, {\\\"left\\\": 3, \\\"right\\\": 4, \\\"count\\\": 320905}, {\\\"left\\\": 4, \\\"right\\\": 5, \\\"count\\\": 0}, {\\\"left\\\": 5, \\\"right\\\": 6, \\\"count\\\": 0}, {\\\"left\\\": 6, \\\"right\\\": 7, \\\"count\\\": 0}, {\\\"left\\\": 7, \\\"right\\\": 8, \\\"count\\\": 0}, {\\\"left\\\": 8, \\\"right\\\": 9, \\\"count\\\": 0}, {\\\"left\\\": 9, \\\"right\\\": 10, \\\"count\\\": 0}, {\\\"left\\\": 10, \\\"right\\\": 11, \\\"count\\\": 0}, {\\\"left\\\": 11, \\\"right\\\": 12, \\\"count\\\": 0}, {\\\"left\\\": 12, \\\"right\\\": 13, \\\"count\\\": 0}, {\\\"start\\\": -7, \\\"stop\\\": 13, \\\"step\\\": 1}], \\\"categorical\\\": []}, {\\\"a\\\": 72, \\\"title\\\": \\\"Race_Recode_5\\\", \\\"num_row\\\": 2557779, \\\"type\\\": \\\"integer\\\", \\\"num_unique\\\": 4, \\\"num_missing\\\": 0, \\\"mean\\\": 1.199875, \\\"min\\\": 1.0, \\\"max\\\": 4.0, \\\"median\\\": 1.0, \\\"stdev\\\": 0.542039, \\\"numeric\\\": [{\\\"left\\\": -7, \\\"right\\\": -6, \\\"count\\\": 0}, {\\\"left\\\": -6, \\\"right\\\": -5, \\\"count\\\": 0}, {\\\"left\\\": -5, \\\"right\\\": -4, \\\"count\\\": 0}, {\\\"left\\\": -4, \\\"right\\\": -3, \\\"count\\\": 0}, {\\\"left\\\": -3, \\\"right\\\": -2, \\\"count\\\": 0}, {\\\"left\\\": -2, \\\"right\\\": -1, \\\"count\\\": 0}, {\\\"left\\\": -1, \\\"right\\\": 0, \\\"count\\\": 0}, {\\\"left\\\": 0, \\\"right\\\": 1, \\\"count\\\": 0}, {\\\"left\\\": 1, \\\"right\\\": 2, \\\"count\\\": 2167059}, {\\\"left\\\": 2, \\\"right\\\": 3, \\\"count\\\": 320905}, {\\\"left\\\": 3, \\\"right\\\": 4, \\\"count\\\": 19113}, {\\\"left\\\": 4, \\\"right\\\": 5, \\\"count\\\": 50702}, {\\\"left\\\": 5, \\\"right\\\": 6, \\\"count\\\": 0}, {\\\"left\\\": 6, \\\"right\\\": 7, \\\"count\\\": 0}, {\\\"left\\\": 7, \\\"right\\\": 8, \\\"count\\\": 0}, {\\\"left\\\": 8, \\\"right\\\": 9, \\\"count\\\": 0}, {\\\"left\\\": 9, \\\"right\\\": 10, \\\"count\\\": 0}, {\\\"left\\\": 10, \\\"right\\\": 11, \\\"count\\\": 0}, {\\\"left\\\": 11, \\\"right\\\": 12, \\\"count\\\": 0}, {\\\"left\\\": 12, \\\"right\\\": 13, \\\"count\\\": 0}, {\\\"start\\\": -7, \\\"stop\\\": 13, \\\"step\\\": 1}], \\\"categorical\\\": []}, {\\\"a\\\": 73, \\\"title\\\": \\\"Hispanic_Origin\\\", \\\"num_row\\\": 2557779, \\\"type\\\": \\\"integer\\\", \\\"num_unique\\\": 51, \\\"num_missing\\\": 0, \\\"mean\\\": 111.494657, \\\"min\\\": 100.0, \\\"max\\\": 999.0, \\\"median\\\": 100.0, \\\"stdev\\\": 60.560639, \\\"numeric\\\": [{\\\"left\\\": 90, \\\"right\\\": 136, \\\"count\\\": 2388430}, {\\\"left\\\": 136, \\\"right\\\": 182, \\\"count\\\": 0}, {\\\"left\\\": 182, \\\"right\\\": 228, \\\"count\\\": 85725}, {\\\"left\\\": 228, \\\"right\\\": 274, \\\"count\\\": 50135}, {\\\"left\\\": 274, \\\"right\\\": 320, \\\"count\\\": 25368}, {\\\"left\\\": 320, \\\"right\\\": 366, \\\"count\\\": 0}, {\\\"left\\\": 366, \\\"right\\\": 412, \\\"count\\\": 0}, {\\\"left\\\": 412, \\\"right\\\": 458, \\\"count\\\": 0}, {\\\"left\\\": 458, \\\"right\\\": 504, \\\"count\\\": 0}, {\\\"left\\\": 504, \\\"right\\\": 550, \\\"count\\\": 0}, {\\\"left\\\": 550, \\\"right\\\": 596, \\\"count\\\": 0}, {\\\"left\\\": 596, \\\"right\\\": 642, \\\"count\\\": 0}, {\\\"left\\\": 642, \\\"right\\\": 688, \\\"count\\\": 0}, {\\\"left\\\": 688, \\\"right\\\": 734, \\\"count\\\": 0}, {\\\"left\\\": 734, \\\"right\\\": 780, \\\"count\\\": 0}, {\\\"left\\\": 780, \\\"right\\\": 826, \\\"count\\\": 0}, {\\\"left\\\": 826, \\\"right\\\": 872, \\\"count\\\": 0}, {\\\"left\\\": 872, \\\"right\\\": 918, \\\"count\\\": 0}, {\\\"left\\\": 918, \\\"right\\\": 964, \\\"count\\\": 0}, {\\\"left\\\": 964, \\\"right\\\": 1010, \\\"count\\\": 8121}, {\\\"start\\\": 90, \\\"stop\\\": 1010, \\\"step\\\": 46}], \\\"categorical\\\": []}, {\\\"a\\\": 74, \\\"title\\\": \\\"Hispanic_Origin_Recode\\\", \\\"num_row\\\": 2557779, \\\"type\\\": \\\"integer\\\", \\\"num_unique\\\": 9, \\\"num_missing\\\": 0, \\\"mean\\\": 5.9535, \\\"min\\\": 1.0, \\\"max\\\": 9.0, \\\"median\\\": 5.0, \\\"stdev\\\": 1.122314, \\\"numeric\\\": [{\\\"left\\\": -4, \\\"right\\\": -3, \\\"count\\\": 0}, {\\\"left\\\": -3, \\\"right\\\": -2, \\\"count\\\": 0}, {\\\"left\\\": -2, \\\"right\\\": -1, \\\"count\\\": 0}, {\\\"left\\\": -1, \\\"right\\\": 0, \\\"count\\\": 0}, {\\\"left\\\": 0, \\\"right\\\": 1, \\\"count\\\": 0}, {\\\"left\\\": 1, \\\"right\\\": 2, \\\"count\\\": 77137}, {\\\"left\\\": 2, \\\"right\\\": 3, \\\"count\\\": 25110}, {\\\"left\\\": 3, \\\"right\\\": 4, \\\"count\\\": 16389}, {\\\"left\\\": 4, \\\"right\\\": 5, \\\"count\\\": 16078}, {\\\"left\\\": 5, \\\"right\\\": 6, \\\"count\\\": 26514}, {\\\"left\\\": 6, \\\"right\\\": 7, \\\"count\\\": 2005275}, {\\\"left\\\": 7, \\\"right\\\": 8, \\\"count\\\": 315647}, {\\\"left\\\": 8, \\\"right\\\": 9, \\\"count\\\": 67508}, {\\\"left\\\": 9, \\\"right\\\": 10, \\\"count\\\": 8121}, {\\\"left\\\": 10, \\\"right\\\": 11, \\\"count\\\": 0}, {\\\"left\\\": 11, \\\"right\\\": 12, \\\"count\\\": 0}, {\\\"left\\\": 12, \\\"right\\\": 13, \\\"count\\\": 0}, {\\\"left\\\": 13, \\\"right\\\": 14, \\\"count\\\": 0}, {\\\"left\\\": 14, \\\"right\\\": 15, \\\"count\\\": 0}, {\\\"left\\\": 15, \\\"right\\\": 16, \\\"count\\\": 0}, {\\\"start\\\": -4, \\\"stop\\\": 16, \\\"step\\\": 1}], \\\"categorical\\\": []}, {\\\"a\\\": 75, \\\"title\\\": \\\"Race_Recode_40\\\", \\\"num_row\\\": 2557779, \\\"type\\\": \\\"integer\\\", \\\"num_unique\\\": 39, \\\"num_missing\\\": 0, \\\"mean\\\": 1.338189, \\\"min\\\": 1.0, \\\"max\\\": 40.0, \\\"median\\\": 1.0, \\\"stdev\\\": 1.615382, \\\"numeric\\\": [{\\\"left\\\": 1, \\\"right\\\": 3, \\\"count\\\": 2480735}, {\\\"left\\\": 3, \\\"right\\\": 5, \\\"count\\\": 25741}, {\\\"left\\\": 5, \\\"right\\\": 7, \\\"count\\\": 16313}, {\\\"left\\\": 7, \\\"right\\\": 9, \\\"count\\\": 9884}, {\\\"left\\\": 9, \\\"right\\\": 11, \\\"count\\\": 10492}, {\\\"left\\\": 11, \\\"right\\\": 13, \\\"count\\\": 1099}, {\\\"left\\\": 13, \\\"right\\\": 15, \\\"count\\\": 1597}, {\\\"left\\\": 15, \\\"right\\\": 17, \\\"count\\\": 2612}, {\\\"left\\\": 17, \\\"right\\\": 19, \\\"count\\\": 347}, {\\\"left\\\": 19, \\\"right\\\": 21, \\\"count\\\": 4319}, {\\\"left\\\": 21, \\\"right\\\": 23, \\\"count\\\": 2100}, {\\\"left\\\": 23, \\\"right\\\": 25, \\\"count\\\": 1699}, {\\\"left\\\": 25, \\\"right\\\": 27, \\\"count\\\": 162}, {\\\"left\\\": 27, \\\"right\\\": 29, \\\"count\\\": 52}, {\\\"left\\\": 29, \\\"right\\\": 31, \\\"count\\\": 16}, {\\\"left\\\": 31, \\\"right\\\": 33, \\\"count\\\": 36}, {\\\"left\\\": 33, \\\"right\\\": 35, \\\"count\\\": 553}, {\\\"left\\\": 35, \\\"right\\\": 37, \\\"count\\\": 9}, {\\\"left\\\": 37, \\\"right\\\": 39, \\\"count\\\": 2}, {\\\"left\\\": 39, \\\"right\\\": 41, \\\"count\\\": 11}, {\\\"start\\\": 1, \\\"stop\\\": 41, \\\"step\\\": 2}], \\\"categorical\\\": []}]}, {\\\"name\\\": \\\"data_2\\\", \\\"source\\\": \\\"source_2\\\", \\\"transform\\\": [{\\\"type\\\": \\\"formula\\\", \\\"expr\\\": \\\"20\\\", \\\"as\\\": \\\"c_x_axis_back\\\"}, {\\\"type\\\": \\\"formula\\\", \\\"expr\\\": \\\"toNumber(datum[\\\\\\\"a\\\\\\\"])*300+66\\\", \\\"as\\\": \\\"c_main_background\\\"}, {\\\"type\\\": \\\"formula\\\", \\\"expr\\\": \\\"toNumber(datum[\\\\\\\"a\\\\\\\"])*300+43\\\", \\\"as\\\": \\\"c_top_bar\\\"}, {\\\"type\\\": \\\"formula\\\", \\\"expr\\\": \\\"toNumber(datum[\\\\\\\"a\\\\\\\"])*300+59\\\", \\\"as\\\": \\\"c_top_title\\\"}, {\\\"type\\\": \\\"formula\\\", \\\"expr\\\": \\\"toNumber(datum[\\\\\\\"a\\\\\\\"])*300+58\\\", \\\"as\\\": \\\"c_top_type\\\"}, {\\\"type\\\": \\\"formula\\\", \\\"expr\\\": \\\"toNumber(datum[\\\\\\\"a\\\\\\\"])*300+178\\\", \\\"as\\\": \\\"c_rule\\\"}, {\\\"type\\\": \\\"formula\\\", \\\"expr\\\": \\\"toNumber(datum[\\\\\\\"a\\\\\\\"])*300+106\\\", \\\"as\\\": \\\"c_num_rows\\\"}, {\\\"type\\\": \\\"formula\\\", \\\"expr\\\": \\\"toNumber(datum[\\\\\\\"a\\\\\\\"])*300+130\\\", \\\"as\\\": \\\"c_num_unique\\\"}, {\\\"type\\\": \\\"formula\\\", \\\"expr\\\": \\\"toNumber(datum[\\\\\\\"a\\\\\\\"])*300+154\\\", \\\"as\\\": \\\"c_missing\\\"}, {\\\"type\\\": \\\"formula\\\", \\\"expr\\\": \\\"toNumber(datum[\\\\\\\"a\\\\\\\"])*300+105\\\", \\\"as\\\": \\\"c_num_rows_val\\\"}, {\\\"type\\\": \\\"formula\\\", \\\"expr\\\": \\\"toNumber(datum[\\\\\\\"a\\\\\\\"])*300+130\\\", \\\"as\\\": \\\"c_num_unique_val\\\"}, {\\\"type\\\": \\\"formula\\\", \\\"expr\\\": \\\"toNumber(datum[\\\\\\\"a\\\\\\\"])*300+154\\\", \\\"as\\\": \\\"c_missing_val\\\"}, {\\\"type\\\": \\\"formula\\\", \\\"expr\\\": \\\"toNumber(datum[\\\\\\\"a\\\\\\\"])*300+195\\\", \\\"as\\\": \\\"c_frequent_items\\\"}, {\\\"type\\\": \\\"formula\\\", \\\"expr\\\": \\\"toNumber(datum[\\\\\\\"a\\\\\\\"])*300+218\\\", \\\"as\\\": \\\"c_first_item\\\"}, {\\\"type\\\": \\\"formula\\\", \\\"expr\\\": \\\"toNumber(datum[\\\\\\\"a\\\\\\\"])*300+235\\\", \\\"as\\\": \\\"c_second_item\\\"}, {\\\"type\\\": \\\"formula\\\", \\\"expr\\\": \\\"toNumber(datum[\\\\\\\"a\\\\\\\"])*300+252\\\", \\\"as\\\": \\\"c_third_item\\\"}, {\\\"type\\\": \\\"formula\\\", \\\"expr\\\": \\\"toNumber(datum[\\\\\\\"a\\\\\\\"])*300+269\\\", \\\"as\\\": \\\"c_fourth_item\\\"}, {\\\"type\\\": \\\"formula\\\", \\\"expr\\\": \\\"toNumber(datum[\\\\\\\"a\\\\\\\"])*300+286\\\", \\\"as\\\": \\\"c_fifth_item\\\"}, {\\\"type\\\": \\\"formula\\\", \\\"expr\\\": \\\"toNumber(datum[\\\\\\\"a\\\\\\\"])*300+200\\\", \\\"as\\\": \\\"c_mean\\\"}, {\\\"type\\\": \\\"formula\\\", \\\"expr\\\": \\\"toNumber(datum[\\\\\\\"a\\\\\\\"])*300+220\\\", \\\"as\\\": \\\"c_min\\\"}, {\\\"type\\\": \\\"formula\\\", \\\"expr\\\": \\\"toNumber(datum[\\\\\\\"a\\\\\\\"])*300+240\\\", \\\"as\\\": \\\"c_max\\\"}, {\\\"type\\\": \\\"formula\\\", \\\"expr\\\": \\\"toNumber(datum[\\\\\\\"a\\\\\\\"])*300+260\\\", \\\"as\\\": \\\"c_median\\\"}, {\\\"type\\\": \\\"formula\\\", \\\"expr\\\": \\\"toNumber(datum[\\\\\\\"a\\\\\\\"])*300+280\\\", \\\"as\\\": \\\"c_stdev\\\"}, {\\\"type\\\": \\\"formula\\\", \\\"expr\\\": \\\"toNumber(datum[\\\\\\\"a\\\\\\\"])*300+198\\\", \\\"as\\\": \\\"c_mean_val\\\"}, {\\\"type\\\": \\\"formula\\\", \\\"expr\\\": \\\"toNumber(datum[\\\\\\\"a\\\\\\\"])*300+218\\\", \\\"as\\\": \\\"c_min_val\\\"}, {\\\"type\\\": \\\"formula\\\", \\\"expr\\\": \\\"toNumber(datum[\\\\\\\"a\\\\\\\"])*300+238\\\", \\\"as\\\": \\\"c_max_val\\\"}, {\\\"type\\\": \\\"formula\\\", \\\"expr\\\": \\\"toNumber(datum[\\\\\\\"a\\\\\\\"])*300+258\\\", \\\"as\\\": \\\"c_median_val\\\"}, {\\\"type\\\": \\\"formula\\\", \\\"expr\\\": \\\"toNumber(datum[\\\\\\\"a\\\\\\\"])*300+278\\\", \\\"as\\\": \\\"c_stdev_val\\\"}, {\\\"type\\\": \\\"formula\\\", \\\"expr\\\": \\\"toNumber(datum[\\\\\\\"a\\\\\\\"])*300+106\\\", \\\"as\\\": \\\"graph_offset\\\"}, {\\\"type\\\": \\\"formula\\\", \\\"expr\\\": \\\"toNumber(datum[\\\\\\\"a\\\\\\\"])*300+132\\\", \\\"as\\\": \\\"graph_offset_categorical\\\"}, {\\\"type\\\": \\\"formula\\\", \\\"expr\\\": \\\"(toString(datum[\\\\\\\"type\\\\\\\"]) == \\\\\\\"integer\\\\\\\" || toString(datum[\\\\\\\"type\\\\\\\"]) == \\\\\\\"float\\\\\\\")?false:true\\\", \\\"as\\\": \\\"c_clip_val\\\"}, {\\\"type\\\": \\\"formula\\\", \\\"expr\\\": \\\"(toString(datum[\\\\\\\"type\\\\\\\"]) == \\\\\\\"integer\\\\\\\" || toString(datum[\\\\\\\"type\\\\\\\"]) == \\\\\\\"float\\\\\\\")?250:0\\\", \\\"as\\\": \\\"c_width_numeric_val\\\"}, {\\\"type\\\": \\\"formula\\\", \\\"expr\\\": \\\"(toString(datum[\\\\\\\"type\\\\\\\"]) == \\\\\\\"str\\\\\\\")?false:true\\\", \\\"as\\\": \\\"c_clip_val_cat\\\"}, {\\\"type\\\": \\\"formula\\\", \\\"expr\\\": \\\"(toString(datum[\\\\\\\"type\\\\\\\"]) == \\\\\\\"str\\\\\\\")?250:0\\\", \\\"as\\\": \\\"c_width_numeric_val_cat\\\"}]}], \\\"marks\\\": [{\\\"encode\\\": {\\\"enter\\\": {\\\"x\\\": {\\\"value\\\": 0}, \\\"width\\\": {\\\"value\\\": 734}, \\\"y\\\": {\\\"value\\\": 0}, \\\"height\\\": {\\\"value\\\": 366}, \\\"clip\\\": {\\\"value\\\": 0}, \\\"fill\\\": {\\\"value\\\": \\\"#ffffff\\\"}, \\\"fillOpacity\\\": {\\\"value\\\": 0}, \\\"stroke\\\": {\\\"value\\\": \\\"#000000\\\"}, \\\"strokeWidth\\\": {\\\"value\\\": 0}}}, \\\"marks\\\": [{\\\"encode\\\": {\\\"enter\\\": {\\\"x\\\": {\\\"value\\\": 0}, \\\"width\\\": {\\\"value\\\": 734}, \\\"y\\\": {\\\"value\\\": 0}, \\\"height\\\": {\\\"value\\\": 366}, \\\"clip\\\": {\\\"value\\\": 0}, \\\"fill\\\": {\\\"value\\\": \\\"#ffffff\\\"}, \\\"fillOpacity\\\": {\\\"value\\\": 0}, \\\"stroke\\\": {\\\"value\\\": \\\"#000000\\\"}, \\\"strokeWidth\\\": {\\\"value\\\": 0}}}, \\\"scales\\\": [], \\\"axes\\\": [], \\\"marks\\\": [{\\\"from\\\": {\\\"data\\\": \\\"data_2\\\"}, \\\"encode\\\": {\\\"enter\\\": {\\\"x\\\": {\\\"value\\\": 33}, \\\"width\\\": {\\\"value\\\": 700}, \\\"y\\\": {\\\"value\\\": 66}, \\\"height\\\": {\\\"value\\\": 250}, \\\"fill\\\": {\\\"value\\\": \\\"#FEFEFE\\\"}, \\\"fillOpacity\\\": {\\\"value\\\": 1}, \\\"stroke\\\": {\\\"value\\\": \\\"#DEDEDE\\\"}, \\\"strokeWidth\\\": {\\\"value\\\": 0.5}}, \\\"update\\\": {\\\"x\\\": {\\\"signal\\\": \\\"datum[\\\\\\\"c_x_axis_back\\\\\\\"]\\\"}, \\\"y\\\": {\\\"field\\\": \\\"c_main_background\\\"}}}, \\\"type\\\": \\\"rect\\\"}, {\\\"from\\\": {\\\"data\\\": \\\"data_2\\\"}, \\\"encode\\\": {\\\"enter\\\": {\\\"x\\\": {\\\"value\\\": 33}, \\\"width\\\": {\\\"value\\\": 700}, \\\"y\\\": {\\\"value\\\": 43}, \\\"height\\\": {\\\"value\\\": 30}, \\\"fill\\\": {\\\"value\\\": \\\"#F5F5F5\\\"}, \\\"fillOpacity\\\": {\\\"value\\\": 1}, \\\"stroke\\\": {\\\"value\\\": \\\"#DEDEDE\\\"}, \\\"strokeWidth\\\": {\\\"value\\\": 0.5}}, \\\"update\\\": {\\\"x\\\": {\\\"signal\\\": \\\"datum[\\\\\\\"c_x_axis_back\\\\\\\"]\\\"}, \\\"y\\\": {\\\"field\\\": \\\"c_top_bar\\\"}}}, \\\"type\\\": \\\"rect\\\"}, {\\\"from\\\": {\\\"data\\\": \\\"data_2\\\"}, \\\"encode\\\": {\\\"enter\\\": {\\\"x\\\": {\\\"value\\\": 720}, \\\"y\\\": {\\\"value\\\": 58}, \\\"text\\\": {\\\"signal\\\": \\\"&apos;&apos;+datum[\\\\\\\"type\\\\\\\"]\\\"}, \\\"align\\\": {\\\"value\\\": \\\"right\\\"}, \\\"baseline\\\": {\\\"value\\\": \\\"middle\\\"}, \\\"dx\\\": {\\\"value\\\": 0, \\\"offset\\\": 0}, \\\"dy\\\": {\\\"value\\\": 0, \\\"offset\\\": 0}, \\\"angle\\\": {\\\"value\\\": 0}, \\\"font\\\": {\\\"value\\\": \\\"AvenirNext-Medium\\\"}, \\\"fontSize\\\": {\\\"value\\\": 12}, \\\"fontWeight\\\": {\\\"value\\\": \\\"normal\\\"}, \\\"fontStyle\\\": {\\\"value\\\": \\\"normal\\\"}, \\\"fill\\\": {\\\"value\\\": \\\"#595859\\\"}}, \\\"update\\\": {\\\"x\\\": {\\\"signal\\\": \\\"datum[\\\\\\\"c_x_axis_back\\\\\\\"]+687\\\"}, \\\"y\\\": {\\\"field\\\": \\\"c_top_type\\\"}}}, \\\"type\\\": \\\"text\\\"}, {\\\"from\\\": {\\\"data\\\": \\\"data_2\\\"}, \\\"encode\\\": {\\\"enter\\\": {\\\"x\\\": {\\\"value\\\": 44}, \\\"y\\\": {\\\"value\\\": 59}, \\\"text\\\": {\\\"signal\\\": \\\"&apos;&apos;+datum[\\\\\\\"title\\\\\\\"]\\\"}, \\\"align\\\": {\\\"value\\\": \\\"left\\\"}, \\\"baseline\\\": {\\\"value\\\": \\\"middle\\\"}, \\\"dx\\\": {\\\"value\\\": 0, \\\"offset\\\": 0}, \\\"dy\\\": {\\\"value\\\": 0, \\\"offset\\\": 0}, \\\"angle\\\": {\\\"value\\\": 0}, \\\"font\\\": {\\\"value\\\": \\\"AvenirNext-Medium\\\"}, \\\"fontSize\\\": {\\\"value\\\": 15}, \\\"fontWeight\\\": {\\\"value\\\": \\\"normal\\\"}, \\\"fontStyle\\\": {\\\"value\\\": \\\"normal\\\"}, \\\"fill\\\": {\\\"value\\\": \\\"#9B9B9B\\\"}}, \\\"update\\\": {\\\"x\\\": {\\\"signal\\\": \\\"datum[\\\\\\\"c_x_axis_back\\\\\\\"]+11\\\"}, \\\"y\\\": {\\\"field\\\": \\\"c_top_title\\\"}}}, \\\"type\\\": \\\"text\\\"}, {\\\"from\\\": {\\\"data\\\": \\\"data_2\\\"}, \\\"encode\\\": {\\\"enter\\\": {\\\"x\\\": {\\\"value\\\": 500}, \\\"y\\\": {\\\"value\\\": 178}, \\\"stroke\\\": {\\\"value\\\": \\\"#EDEDEB\\\"}, \\\"strokeWidth\\\": {\\\"value\\\": 1}, \\\"strokeCap\\\": {\\\"value\\\": \\\"butt\\\"}, \\\"x2\\\": {\\\"value\\\": 720}, \\\"y2\\\": {\\\"value\\\": 178}}, \\\"update\\\": {\\\"x\\\": {\\\"signal\\\": \\\"datum[\\\\\\\"c_x_axis_back\\\\\\\"]+467\\\"}, \\\"x2\\\": {\\\"signal\\\": \\\"datum[\\\\\\\"c_x_axis_back\\\\\\\"]+687\\\"}, \\\"y\\\": {\\\"field\\\": \\\"c_rule\\\"}, \\\"y2\\\": {\\\"field\\\": \\\"c_rule\\\"}}}, \\\"type\\\": \\\"rule\\\"}, {\\\"from\\\": {\\\"data\\\": \\\"data_2\\\"}, \\\"encode\\\": {\\\"enter\\\": {\\\"x\\\": {\\\"value\\\": 500}, \\\"y\\\": {\\\"value\\\": 106}, \\\"text\\\": {\\\"value\\\": \\\"Num. Rows:\\\"}, \\\"align\\\": {\\\"value\\\": \\\"left\\\"}, \\\"baseline\\\": {\\\"value\\\": \\\"middle\\\"}, \\\"dx\\\": {\\\"value\\\": 0, \\\"offset\\\": 0}, \\\"dy\\\": {\\\"value\\\": 0, \\\"offset\\\": 0}, \\\"angle\\\": {\\\"value\\\": 0}, \\\"font\\\": {\\\"value\\\": \\\"AvenirNext-Medium\\\"}, \\\"fontSize\\\": {\\\"value\\\": 12}, \\\"fontWeight\\\": {\\\"value\\\": \\\"normal\\\"}, \\\"fontStyle\\\": {\\\"value\\\": \\\"normal\\\"}, \\\"fill\\\": {\\\"value\\\": \\\"#4A4A4A\\\"}}, \\\"update\\\": {\\\"x\\\": {\\\"signal\\\": \\\"datum[\\\\\\\"c_x_axis_back\\\\\\\"]+467\\\"}, \\\"y\\\": {\\\"field\\\": \\\"c_num_rows\\\"}}}, \\\"type\\\": \\\"text\\\"}, {\\\"from\\\": {\\\"data\\\": \\\"data_2\\\"}, \\\"encode\\\": {\\\"enter\\\": {\\\"x\\\": {\\\"value\\\": 500}, \\\"y\\\": {\\\"value\\\": 130}, \\\"text\\\": {\\\"value\\\": \\\"Num. Unique:\\\"}, \\\"align\\\": {\\\"value\\\": \\\"left\\\"}, \\\"baseline\\\": {\\\"value\\\": \\\"middle\\\"}, \\\"dx\\\": {\\\"value\\\": 0, \\\"offset\\\": 0}, \\\"dy\\\": {\\\"value\\\": 0, \\\"offset\\\": 0}, \\\"angle\\\": {\\\"value\\\": 0}, \\\"font\\\": {\\\"value\\\": \\\"AvenirNext-Medium\\\"}, \\\"fontSize\\\": {\\\"value\\\": 12}, \\\"fontWeight\\\": {\\\"value\\\": \\\"normal\\\"}, \\\"fontStyle\\\": {\\\"value\\\": \\\"normal\\\"}, \\\"fill\\\": {\\\"value\\\": \\\"#4A4A4A\\\"}}, \\\"update\\\": {\\\"x\\\": {\\\"signal\\\": \\\"datum[\\\\\\\"c_x_axis_back\\\\\\\"]+467\\\"}, \\\"y\\\": {\\\"field\\\": \\\"c_num_unique\\\"}}}, \\\"type\\\": \\\"text\\\"}, {\\\"from\\\": {\\\"data\\\": \\\"data_2\\\"}, \\\"encode\\\": {\\\"enter\\\": {\\\"x\\\": {\\\"value\\\": 500}, \\\"y\\\": {\\\"value\\\": 154}, \\\"text\\\": {\\\"value\\\": \\\"Missing:\\\"}, \\\"align\\\": {\\\"value\\\": \\\"left\\\"}, \\\"baseline\\\": {\\\"value\\\": \\\"middle\\\"}, \\\"dx\\\": {\\\"value\\\": 0, \\\"offset\\\": 0}, \\\"dy\\\": {\\\"value\\\": 0, \\\"offset\\\": 0}, \\\"angle\\\": {\\\"value\\\": 0}, \\\"font\\\": {\\\"value\\\": \\\"AvenirNext-Medium\\\"}, \\\"fontSize\\\": {\\\"value\\\": 12}, \\\"fontWeight\\\": {\\\"value\\\": \\\"normal\\\"}, \\\"fontStyle\\\": {\\\"value\\\": \\\"normal\\\"}, \\\"fill\\\": {\\\"value\\\": \\\"#4A4A4A\\\"}}, \\\"update\\\": {\\\"x\\\": {\\\"signal\\\": \\\"datum[\\\\\\\"c_x_axis_back\\\\\\\"]+467\\\"}, \\\"y\\\": {\\\"field\\\": \\\"c_missing\\\"}}}, \\\"type\\\": \\\"text\\\"}, {\\\"from\\\": {\\\"data\\\": \\\"data_2\\\"}, \\\"encode\\\": {\\\"enter\\\": {\\\"x\\\": {\\\"value\\\": 700}, \\\"y\\\": {\\\"value\\\": 105}, \\\"text\\\": {\\\"signal\\\": \\\"toString(format(datum[\\\\\\\"num_row\\\\\\\"], \\\\\\\",\\\\\\\"))\\\"}, \\\"align\\\": {\\\"value\\\": \\\"right\\\"}, \\\"baseline\\\": {\\\"value\\\": \\\"middle\\\"}, \\\"dx\\\": {\\\"value\\\": 0, \\\"offset\\\": 0}, \\\"dy\\\": {\\\"value\\\": 0, \\\"offset\\\": 0}, \\\"angle\\\": {\\\"value\\\": 0}, \\\"font\\\": {\\\"value\\\": \\\"AvenirNext-Medium\\\"}, \\\"fontSize\\\": {\\\"value\\\": 12}, \\\"fontWeight\\\": {\\\"value\\\": \\\"normal\\\"}, \\\"fontStyle\\\": {\\\"value\\\": \\\"normal\\\"}, \\\"fill\\\": {\\\"value\\\": \\\"#5A5A5A\\\"}}, \\\"update\\\": {\\\"x\\\": {\\\"signal\\\": \\\"datum[\\\\\\\"c_x_axis_back\\\\\\\"]+667\\\"}, \\\"y\\\": {\\\"field\\\": \\\"c_num_rows_val\\\"}}}, \\\"type\\\": \\\"text\\\"}, {\\\"from\\\": {\\\"data\\\": \\\"data_2\\\"}, \\\"encode\\\": {\\\"enter\\\": {\\\"x\\\": {\\\"value\\\": 700}, \\\"y\\\": {\\\"value\\\": 130}, \\\"text\\\": {\\\"signal\\\": \\\"toString(format(datum[\\\\\\\"num_unique\\\\\\\"], \\\\\\\",\\\\\\\"))\\\"}, \\\"align\\\": {\\\"value\\\": \\\"right\\\"}, \\\"baseline\\\": {\\\"value\\\": \\\"middle\\\"}, \\\"dx\\\": {\\\"value\\\": 0, \\\"offset\\\": 0}, \\\"dy\\\": {\\\"value\\\": 0, \\\"offset\\\": 0}, \\\"angle\\\": {\\\"value\\\": 0}, \\\"font\\\": {\\\"value\\\": \\\"AvenirNext-Medium\\\"}, \\\"fontSize\\\": {\\\"value\\\": 12}, \\\"fontWeight\\\": {\\\"value\\\": \\\"normal\\\"}, \\\"fontStyle\\\": {\\\"value\\\": \\\"normal\\\"}, \\\"fill\\\": {\\\"value\\\": \\\"#5A5A5A\\\"}}, \\\"update\\\": {\\\"x\\\": {\\\"signal\\\": \\\"datum[\\\\\\\"c_x_axis_back\\\\\\\"]+667\\\"}, \\\"y\\\": {\\\"field\\\": \\\"c_num_unique_val\\\"}}}, \\\"type\\\": \\\"text\\\"}, {\\\"from\\\": {\\\"data\\\": \\\"data_2\\\"}, \\\"encode\\\": {\\\"enter\\\": {\\\"x\\\": {\\\"value\\\": 700}, \\\"y\\\": {\\\"value\\\": 154}, \\\"text\\\": {\\\"signal\\\": \\\"toString(format(datum[\\\\\\\"num_missing\\\\\\\"], \\\\\\\",\\\\\\\"))\\\"}, \\\"align\\\": {\\\"value\\\": \\\"right\\\"}, \\\"baseline\\\": {\\\"value\\\": \\\"middle\\\"}, \\\"dx\\\": {\\\"value\\\": 0, \\\"offset\\\": 0}, \\\"dy\\\": {\\\"value\\\": 0, \\\"offset\\\": 0}, \\\"angle\\\": {\\\"value\\\": 0}, \\\"font\\\": {\\\"value\\\": \\\"AvenirNext-Medium\\\"}, \\\"fontSize\\\": {\\\"value\\\": 12}, \\\"fontWeight\\\": {\\\"value\\\": \\\"normal\\\"}, \\\"fontStyle\\\": {\\\"value\\\": \\\"normal\\\"}, \\\"fill\\\": {\\\"value\\\": \\\"#5A5A5A\\\"}}, \\\"update\\\": {\\\"x\\\": {\\\"signal\\\": \\\"datum[\\\\\\\"c_x_axis_back\\\\\\\"]+667\\\"}, \\\"y\\\": {\\\"field\\\": \\\"c_missing_val\\\"}}}, \\\"type\\\": \\\"text\\\"}, {\\\"from\\\": {\\\"data\\\": \\\"data_2\\\"}, \\\"encode\\\": {\\\"enter\\\": {\\\"x\\\": {\\\"value\\\": 500}, \\\"y\\\": {\\\"value\\\": 200}, \\\"text\\\": {\\\"signal\\\": \\\"(toString(datum[\\\\\\\"type\\\\\\\"]) == \\\\\\\"str\\\\\\\")? \\\\\\\"Frequent Items\\\\\\\":\\\\\\\"\\\\\\\"\\\"}, \\\"align\\\": {\\\"value\\\": \\\"left\\\"}, \\\"baseline\\\": {\\\"value\\\": \\\"middle\\\"}, \\\"dx\\\": {\\\"value\\\": 0, \\\"offset\\\": 0}, \\\"dy\\\": {\\\"value\\\": 0, \\\"offset\\\": 0}, \\\"angle\\\": {\\\"value\\\": 0}, \\\"clip\\\": {\\\"value\\\": true}, \\\"font\\\": {\\\"value\\\": \\\"AvenirNext-Medium\\\"}, \\\"fontSize\\\": {\\\"value\\\": 11}, \\\"fontWeight\\\": {\\\"value\\\": \\\"bold\\\"}, \\\"fontStyle\\\": {\\\"value\\\": \\\"normal\\\"}, \\\"fill\\\": {\\\"value\\\": \\\"#4A4A4A\\\"}}, \\\"update\\\": {\\\"x\\\": {\\\"signal\\\": \\\"datum[\\\\\\\"c_x_axis_back\\\\\\\"]+467\\\"}, \\\"y\\\": {\\\"field\\\": \\\"c_frequent_items\\\"}}}, \\\"type\\\": \\\"text\\\"}, {\\\"from\\\": {\\\"data\\\": \\\"data_2\\\"}, \\\"encode\\\": {\\\"enter\\\": {\\\"x\\\": {\\\"value\\\": 520}, \\\"y\\\": {\\\"value\\\": 200}, \\\"text\\\": {\\\"signal\\\": \\\"((datum[\\\\\\\"categorical\\\\\\\"].length >= 1) &amp;&amp; (toString(datum[\\\\\\\"type\\\\\\\"]) == \\\\\\\"str\\\\\\\"))? toString(datum[\\\\\\\"categorical\\\\\\\"][0][\\\\\\\"label\\\\\\\"]):\\\\\\\"\\\\\\\"\\\"}, \\\"align\\\": {\\\"value\\\": \\\"left\\\"}, \\\"baseline\\\": {\\\"value\\\": \\\"middle\\\"}, \\\"dx\\\": {\\\"value\\\": 0, \\\"offset\\\": 0}, \\\"dy\\\": {\\\"value\\\": 0, \\\"offset\\\": 0}, \\\"angle\\\": {\\\"value\\\": 0}, \\\"clip\\\": {\\\"value\\\": true}, \\\"font\\\": {\\\"value\\\": \\\"AvenirNext-Medium\\\"}, \\\"fontSize\\\": {\\\"value\\\": 11}, \\\"fontWeight\\\": {\\\"value\\\": \\\"normal\\\"}, \\\"fontStyle\\\": {\\\"value\\\": \\\"normal\\\"}, \\\"fill\\\": {\\\"value\\\": \\\"#4A4A4A\\\"}}, \\\"update\\\": {\\\"x\\\": {\\\"signal\\\": \\\"datum[\\\\\\\"c_x_axis_back\\\\\\\"]+487\\\"}, \\\"y\\\": {\\\"field\\\": \\\"c_first_item\\\"}}}, \\\"type\\\": \\\"text\\\"}, {\\\"from\\\": {\\\"data\\\": \\\"data_2\\\"}, \\\"encode\\\": {\\\"enter\\\": {\\\"x\\\": {\\\"value\\\": 520}, \\\"y\\\": {\\\"value\\\": 200}, \\\"text\\\": {\\\"signal\\\": \\\"((datum[\\\\\\\"categorical\\\\\\\"].length >= 2) &amp;&amp; (toString(datum[\\\\\\\"type\\\\\\\"]) == \\\\\\\"str\\\\\\\"))? toString(datum[\\\\\\\"categorical\\\\\\\"][1][\\\\\\\"label\\\\\\\"]):\\\\\\\"\\\\\\\"\\\"}, \\\"align\\\": {\\\"value\\\": \\\"left\\\"}, \\\"baseline\\\": {\\\"value\\\": \\\"middle\\\"}, \\\"dx\\\": {\\\"value\\\": 0, \\\"offset\\\": 0}, \\\"dy\\\": {\\\"value\\\": 0, \\\"offset\\\": 0}, \\\"angle\\\": {\\\"value\\\": 0}, \\\"clip\\\": {\\\"value\\\": true}, \\\"font\\\": {\\\"value\\\": \\\"AvenirNext-Medium\\\"}, \\\"fontSize\\\": {\\\"value\\\": 11}, \\\"fontWeight\\\": {\\\"value\\\": \\\"normal\\\"}, \\\"fontStyle\\\": {\\\"value\\\": \\\"normal\\\"}, \\\"fill\\\": {\\\"value\\\": \\\"#4A4A4A\\\"}}, \\\"update\\\": {\\\"x\\\": {\\\"signal\\\": \\\"datum[\\\\\\\"c_x_axis_back\\\\\\\"]+487\\\"}, \\\"y\\\": {\\\"field\\\": \\\"c_second_item\\\"}}}, \\\"type\\\": \\\"text\\\"}, {\\\"from\\\": {\\\"data\\\": \\\"data_2\\\"}, \\\"encode\\\": {\\\"enter\\\": {\\\"x\\\": {\\\"value\\\": 520}, \\\"y\\\": {\\\"value\\\": 200}, \\\"text\\\": {\\\"signal\\\": \\\"((datum[\\\\\\\"categorical\\\\\\\"].length >= 3) &amp;&amp; (toString(datum[\\\\\\\"type\\\\\\\"]) == \\\\\\\"str\\\\\\\"))? toString(datum[\\\\\\\"categorical\\\\\\\"][2][\\\\\\\"label\\\\\\\"]):\\\\\\\"\\\\\\\"\\\"}, \\\"align\\\": {\\\"value\\\": \\\"left\\\"}, \\\"baseline\\\": {\\\"value\\\": \\\"middle\\\"}, \\\"dx\\\": {\\\"value\\\": 0, \\\"offset\\\": 0}, \\\"dy\\\": {\\\"value\\\": 0, \\\"offset\\\": 0}, \\\"angle\\\": {\\\"value\\\": 0}, \\\"clip\\\": {\\\"value\\\": true}, \\\"font\\\": {\\\"value\\\": \\\"AvenirNext-Medium\\\"}, \\\"fontSize\\\": {\\\"value\\\": 11}, \\\"fontWeight\\\": {\\\"value\\\": \\\"normal\\\"}, \\\"fontStyle\\\": {\\\"value\\\": \\\"normal\\\"}, \\\"fill\\\": {\\\"value\\\": \\\"#4A4A4A\\\"}}, \\\"update\\\": {\\\"x\\\": {\\\"signal\\\": \\\"datum[\\\\\\\"c_x_axis_back\\\\\\\"]+487\\\"}, \\\"y\\\": {\\\"field\\\": \\\"c_third_item\\\"}}}, \\\"type\\\": \\\"text\\\"}, {\\\"from\\\": {\\\"data\\\": \\\"data_2\\\"}, \\\"encode\\\": {\\\"enter\\\": {\\\"x\\\": {\\\"value\\\": 520}, \\\"y\\\": {\\\"value\\\": 200}, \\\"text\\\": {\\\"signal\\\": \\\"((datum[\\\\\\\"categorical\\\\\\\"].length >= 4) &amp;&amp; (toString(datum[\\\\\\\"type\\\\\\\"]) == \\\\\\\"str\\\\\\\"))? toString(datum[\\\\\\\"categorical\\\\\\\"][3][\\\\\\\"label\\\\\\\"]):\\\\\\\"\\\\\\\"\\\"}, \\\"align\\\": {\\\"value\\\": \\\"left\\\"}, \\\"baseline\\\": {\\\"value\\\": \\\"middle\\\"}, \\\"dx\\\": {\\\"value\\\": 0, \\\"offset\\\": 0}, \\\"dy\\\": {\\\"value\\\": 0, \\\"offset\\\": 0}, \\\"angle\\\": {\\\"value\\\": 0}, \\\"clip\\\": {\\\"value\\\": true}, \\\"font\\\": {\\\"value\\\": \\\"AvenirNext-Medium\\\"}, \\\"fontSize\\\": {\\\"value\\\": 11}, \\\"fontWeight\\\": {\\\"value\\\": \\\"normal\\\"}, \\\"fontStyle\\\": {\\\"value\\\": \\\"normal\\\"}, \\\"fill\\\": {\\\"value\\\": \\\"#4A4A4A\\\"}}, \\\"update\\\": {\\\"x\\\": {\\\"signal\\\": \\\"datum[\\\\\\\"c_x_axis_back\\\\\\\"]+487\\\"}, \\\"y\\\": {\\\"field\\\": \\\"c_fourth_item\\\"}}}, \\\"type\\\": \\\"text\\\"}, {\\\"from\\\": {\\\"data\\\": \\\"data_2\\\"}, \\\"encode\\\": {\\\"enter\\\": {\\\"x\\\": {\\\"value\\\": 520}, \\\"y\\\": {\\\"value\\\": 200}, \\\"text\\\": {\\\"signal\\\": \\\"((datum[\\\\\\\"categorical\\\\\\\"].length >= 5) &amp;&amp; (toString(datum[\\\\\\\"type\\\\\\\"]) == \\\\\\\"str\\\\\\\"))? toString(datum[\\\\\\\"categorical\\\\\\\"][4][\\\\\\\"label\\\\\\\"]):\\\\\\\"\\\\\\\"\\\"}, \\\"align\\\": {\\\"value\\\": \\\"left\\\"}, \\\"baseline\\\": {\\\"value\\\": \\\"middle\\\"}, \\\"dx\\\": {\\\"value\\\": 0, \\\"offset\\\": 0}, \\\"dy\\\": {\\\"value\\\": 0, \\\"offset\\\": 0}, \\\"angle\\\": {\\\"value\\\": 0}, \\\"clip\\\": {\\\"value\\\": true}, \\\"font\\\": {\\\"value\\\": \\\"AvenirNext-Medium\\\"}, \\\"fontSize\\\": {\\\"value\\\": 11}, \\\"fontWeight\\\": {\\\"value\\\": \\\"normal\\\"}, \\\"fontStyle\\\": {\\\"value\\\": \\\"normal\\\"}, \\\"fill\\\": {\\\"value\\\": \\\"#4A4A4A\\\"}}, \\\"update\\\": {\\\"x\\\": {\\\"signal\\\": \\\"datum[\\\\\\\"c_x_axis_back\\\\\\\"]+487\\\"}, \\\"y\\\": {\\\"field\\\": \\\"c_fifth_item\\\"}}}, \\\"type\\\": \\\"text\\\"}, {\\\"from\\\": {\\\"data\\\": \\\"data_2\\\"}, \\\"encode\\\": {\\\"enter\\\": {\\\"x\\\": {\\\"value\\\": 700}, \\\"y\\\": {\\\"value\\\": 200}, \\\"text\\\": {\\\"signal\\\": \\\"((datum[\\\\\\\"categorical\\\\\\\"].length >= 1) &amp;&amp; (toString(datum[\\\\\\\"type\\\\\\\"]) == \\\\\\\"str\\\\\\\"))? toString(datum[\\\\\\\"categorical\\\\\\\"][0][\\\\\\\"count\\\\\\\"]):\\\\\\\"\\\\\\\"\\\"}, \\\"align\\\": {\\\"value\\\": \\\"right\\\"}, \\\"baseline\\\": {\\\"value\\\": \\\"middle\\\"}, \\\"dx\\\": {\\\"value\\\": 0, \\\"offset\\\": 0}, \\\"dy\\\": {\\\"value\\\": 0, \\\"offset\\\": 0}, \\\"angle\\\": {\\\"value\\\": 0}, \\\"clip\\\": {\\\"value\\\": true}, \\\"font\\\": {\\\"value\\\": \\\"AvenirNext-Medium\\\"}, \\\"fontSize\\\": {\\\"value\\\": 11}, \\\"fontWeight\\\": {\\\"value\\\": \\\"normal\\\"}, \\\"fontStyle\\\": {\\\"value\\\": \\\"normal\\\"}, \\\"fill\\\": {\\\"value\\\": \\\"#7A7A7A\\\"}}, \\\"update\\\": {\\\"x\\\": {\\\"signal\\\": \\\"datum[\\\\\\\"c_x_axis_back\\\\\\\"]+667\\\"}, \\\"y\\\": {\\\"field\\\": \\\"c_first_item\\\"}}}, \\\"type\\\": \\\"text\\\"}, {\\\"from\\\": {\\\"data\\\": \\\"data_2\\\"}, \\\"encode\\\": {\\\"enter\\\": {\\\"x\\\": {\\\"value\\\": 700}, \\\"y\\\": {\\\"value\\\": 200}, \\\"text\\\": {\\\"signal\\\": \\\"((datum[\\\\\\\"categorical\\\\\\\"].length >= 2) &amp;&amp; (toString(datum[\\\\\\\"type\\\\\\\"]) == \\\\\\\"str\\\\\\\"))? toString(datum[\\\\\\\"categorical\\\\\\\"][1][\\\\\\\"count\\\\\\\"]):\\\\\\\"\\\\\\\"\\\"}, \\\"align\\\": {\\\"value\\\": \\\"right\\\"}, \\\"baseline\\\": {\\\"value\\\": \\\"middle\\\"}, \\\"dx\\\": {\\\"value\\\": 0, \\\"offset\\\": 0}, \\\"dy\\\": {\\\"value\\\": 0, \\\"offset\\\": 0}, \\\"angle\\\": {\\\"value\\\": 0}, \\\"clip\\\": {\\\"value\\\": true}, \\\"font\\\": {\\\"value\\\": \\\"AvenirNext-Medium\\\"}, \\\"fontSize\\\": {\\\"value\\\": 10}, \\\"fontWeight\\\": {\\\"value\\\": \\\"normal\\\"}, \\\"fontStyle\\\": {\\\"value\\\": \\\"normal\\\"}, \\\"fill\\\": {\\\"value\\\": \\\"#7A7A7A\\\"}}, \\\"update\\\": {\\\"x\\\": {\\\"signal\\\": \\\"datum[\\\\\\\"c_x_axis_back\\\\\\\"]+667\\\"}, \\\"y\\\": {\\\"field\\\": \\\"c_second_item\\\"}}}, \\\"type\\\": \\\"text\\\"}, {\\\"from\\\": {\\\"data\\\": \\\"data_2\\\"}, \\\"encode\\\": {\\\"enter\\\": {\\\"x\\\": {\\\"value\\\": 700}, \\\"y\\\": {\\\"value\\\": 200}, \\\"text\\\": {\\\"signal\\\": \\\"((datum[\\\\\\\"categorical\\\\\\\"].length >= 3) &amp;&amp; (toString(datum[\\\\\\\"type\\\\\\\"]) == \\\\\\\"str\\\\\\\"))? toString(datum[\\\\\\\"categorical\\\\\\\"][2][\\\\\\\"count\\\\\\\"]):\\\\\\\"\\\\\\\"\\\"}, \\\"align\\\": {\\\"value\\\": \\\"right\\\"}, \\\"baseline\\\": {\\\"value\\\": \\\"middle\\\"}, \\\"dx\\\": {\\\"value\\\": 0, \\\"offset\\\": 0}, \\\"dy\\\": {\\\"value\\\": 0, \\\"offset\\\": 0}, \\\"angle\\\": {\\\"value\\\": 0}, \\\"clip\\\": {\\\"value\\\": true}, \\\"font\\\": {\\\"value\\\": \\\"AvenirNext-Medium\\\"}, \\\"fontSize\\\": {\\\"value\\\": 10}, \\\"fontWeight\\\": {\\\"value\\\": \\\"normal\\\"}, \\\"fontStyle\\\": {\\\"value\\\": \\\"normal\\\"}, \\\"fill\\\": {\\\"value\\\": \\\"#7A7A7A\\\"}}, \\\"update\\\": {\\\"x\\\": {\\\"signal\\\": \\\"datum[\\\\\\\"c_x_axis_back\\\\\\\"]+667\\\"}, \\\"y\\\": {\\\"field\\\": \\\"c_third_item\\\"}}}, \\\"type\\\": \\\"text\\\"}, {\\\"from\\\": {\\\"data\\\": \\\"data_2\\\"}, \\\"encode\\\": {\\\"enter\\\": {\\\"x\\\": {\\\"value\\\": 700}, \\\"y\\\": {\\\"value\\\": 200}, \\\"text\\\": {\\\"signal\\\": \\\"((datum[\\\\\\\"categorical\\\\\\\"].length >= 4) &amp;&amp; (toString(datum[\\\\\\\"type\\\\\\\"]) == \\\\\\\"str\\\\\\\"))? toString(datum[\\\\\\\"categorical\\\\\\\"][3][\\\\\\\"count\\\\\\\"]):\\\\\\\"\\\\\\\"\\\"}, \\\"align\\\": {\\\"value\\\": \\\"right\\\"}, \\\"baseline\\\": {\\\"value\\\": \\\"middle\\\"}, \\\"dx\\\": {\\\"value\\\": 0, \\\"offset\\\": 0}, \\\"dy\\\": {\\\"value\\\": 0, \\\"offset\\\": 0}, \\\"angle\\\": {\\\"value\\\": 0}, \\\"clip\\\": {\\\"value\\\": true}, \\\"font\\\": {\\\"value\\\": \\\"AvenirNext-Medium\\\"}, \\\"fontSize\\\": {\\\"value\\\": 10}, \\\"fontWeight\\\": {\\\"value\\\": \\\"normal\\\"}, \\\"fontStyle\\\": {\\\"value\\\": \\\"normal\\\"}, \\\"fill\\\": {\\\"value\\\": \\\"#7A7A7A\\\"}}, \\\"update\\\": {\\\"x\\\": {\\\"signal\\\": \\\"datum[\\\\\\\"c_x_axis_back\\\\\\\"]+667\\\"}, \\\"y\\\": {\\\"field\\\": \\\"c_fourth_item\\\"}}}, \\\"type\\\": \\\"text\\\"}, {\\\"from\\\": {\\\"data\\\": \\\"data_2\\\"}, \\\"encode\\\": {\\\"enter\\\": {\\\"x\\\": {\\\"value\\\": 700}, \\\"y\\\": {\\\"value\\\": 200}, \\\"text\\\": {\\\"signal\\\": \\\"((datum[\\\\\\\"categorical\\\\\\\"].length >= 5) &amp;&amp; (toString(datum[\\\\\\\"type\\\\\\\"]) == \\\\\\\"str\\\\\\\"))? toString(datum[\\\\\\\"categorical\\\\\\\"][4][\\\\\\\"count\\\\\\\"]):\\\\\\\"\\\\\\\"\\\"}, \\\"align\\\": {\\\"value\\\": \\\"right\\\"}, \\\"baseline\\\": {\\\"value\\\": \\\"middle\\\"}, \\\"dx\\\": {\\\"value\\\": 0, \\\"offset\\\": 0}, \\\"dy\\\": {\\\"value\\\": 0, \\\"offset\\\": 0}, \\\"angle\\\": {\\\"value\\\": 0}, \\\"clip\\\": {\\\"value\\\": true}, \\\"font\\\": {\\\"value\\\": \\\"AvenirNext-Medium\\\"}, \\\"fontSize\\\": {\\\"value\\\": 10}, \\\"fontWeight\\\": {\\\"value\\\": \\\"normal\\\"}, \\\"fontStyle\\\": {\\\"value\\\": \\\"normal\\\"}, \\\"fill\\\": {\\\"value\\\": \\\"#7A7A7A\\\"}}, \\\"update\\\": {\\\"x\\\": {\\\"signal\\\": \\\"datum[\\\\\\\"c_x_axis_back\\\\\\\"]+667\\\"}, \\\"y\\\": {\\\"field\\\": \\\"c_fifth_item\\\"}}}, \\\"type\\\": \\\"text\\\"}, {\\\"from\\\": {\\\"data\\\": \\\"data_2\\\"}, \\\"encode\\\": {\\\"enter\\\": {\\\"x\\\": {\\\"value\\\": 500}, \\\"y\\\": {\\\"value\\\": 200}, \\\"text\\\": {\\\"signal\\\": \\\"(toString(datum[\\\\\\\"type\\\\\\\"]) == \\\\\\\"integer\\\\\\\" || toString(datum[\\\\\\\"type\\\\\\\"]) == \\\\\\\"float\\\\\\\")? \\\\\\\"Mean:\\\\\\\":\\\\\\\"\\\\\\\"\\\"}, \\\"align\\\": {\\\"value\\\": \\\"left\\\"}, \\\"baseline\\\": {\\\"value\\\": \\\"middle\\\"}, \\\"dx\\\": {\\\"value\\\": 0, \\\"offset\\\": 0}, \\\"dy\\\": {\\\"value\\\": 0, \\\"offset\\\": 0}, \\\"angle\\\": {\\\"value\\\": 0}, \\\"clip\\\": {\\\"value\\\": true}, \\\"font\\\": {\\\"value\\\": \\\"AvenirNext-Medium\\\"}, \\\"fontSize\\\": {\\\"value\\\": 11}, \\\"fontWeight\\\": {\\\"value\\\": \\\"bold\\\"}, \\\"fontStyle\\\": {\\\"value\\\": \\\"normal\\\"}, \\\"fill\\\": {\\\"value\\\": \\\"#4A4A4A\\\"}}, \\\"update\\\": {\\\"x\\\": {\\\"signal\\\": \\\"datum[\\\\\\\"c_x_axis_back\\\\\\\"]+467\\\"}, \\\"y\\\": {\\\"field\\\": \\\"c_mean\\\"}}}, \\\"type\\\": \\\"text\\\"}, {\\\"from\\\": {\\\"data\\\": \\\"data_2\\\"}, \\\"encode\\\": {\\\"enter\\\": {\\\"x\\\": {\\\"value\\\": 500}, \\\"y\\\": {\\\"value\\\": 220}, \\\"text\\\": {\\\"signal\\\": \\\"(toString(datum[\\\\\\\"type\\\\\\\"]) == \\\\\\\"integer\\\\\\\" || toString(datum[\\\\\\\"type\\\\\\\"]) == \\\\\\\"float\\\\\\\")? \\\\\\\"Min:\\\\\\\":\\\\\\\"\\\\\\\"\\\"}, \\\"align\\\": {\\\"value\\\": \\\"left\\\"}, \\\"baseline\\\": {\\\"value\\\": \\\"middle\\\"}, \\\"dx\\\": {\\\"value\\\": 0, \\\"offset\\\": 0}, \\\"dy\\\": {\\\"value\\\": 0, \\\"offset\\\": 0}, \\\"angle\\\": {\\\"value\\\": 0}, \\\"font\\\": {\\\"value\\\": \\\"AvenirNext-Medium\\\"}, \\\"fontSize\\\": {\\\"value\\\": 11}, \\\"fontWeight\\\": {\\\"value\\\": \\\"bold\\\"}, \\\"fontStyle\\\": {\\\"value\\\": \\\"normal\\\"}, \\\"fill\\\": {\\\"value\\\": \\\"#4A4A4A\\\"}}, \\\"update\\\": {\\\"x\\\": {\\\"signal\\\": \\\"datum[\\\\\\\"c_x_axis_back\\\\\\\"]+467\\\"}, \\\"y\\\": {\\\"field\\\": \\\"c_min\\\"}}}, \\\"type\\\": \\\"text\\\"}, {\\\"from\\\": {\\\"data\\\": \\\"data_2\\\"}, \\\"encode\\\": {\\\"enter\\\": {\\\"x\\\": {\\\"value\\\": 500}, \\\"y\\\": {\\\"value\\\": 240}, \\\"text\\\": {\\\"signal\\\": \\\"(toString(datum[\\\\\\\"type\\\\\\\"]) == \\\\\\\"integer\\\\\\\" || toString(datum[\\\\\\\"type\\\\\\\"]) == \\\\\\\"float\\\\\\\")? \\\\\\\"Max:\\\\\\\":\\\\\\\"\\\\\\\"\\\"}, \\\"align\\\": {\\\"value\\\": \\\"left\\\"}, \\\"baseline\\\": {\\\"value\\\": \\\"middle\\\"}, \\\"dx\\\": {\\\"value\\\": 0, \\\"offset\\\": 0}, \\\"dy\\\": {\\\"value\\\": 0, \\\"offset\\\": 0}, \\\"angle\\\": {\\\"value\\\": 0}, \\\"font\\\": {\\\"value\\\": \\\"AvenirNext-Medium\\\"}, \\\"fontSize\\\": {\\\"value\\\": 11}, \\\"fontWeight\\\": {\\\"value\\\": \\\"bold\\\"}, \\\"fontStyle\\\": {\\\"value\\\": \\\"normal\\\"}, \\\"fill\\\": {\\\"value\\\": \\\"#4A4A4A\\\"}}, \\\"update\\\": {\\\"x\\\": {\\\"signal\\\": \\\"datum[\\\\\\\"c_x_axis_back\\\\\\\"]+467\\\"}, \\\"y\\\": {\\\"field\\\": \\\"c_max\\\"}}}, \\\"type\\\": \\\"text\\\"}, {\\\"from\\\": {\\\"data\\\": \\\"data_2\\\"}, \\\"encode\\\": {\\\"enter\\\": {\\\"x\\\": {\\\"value\\\": 500}, \\\"y\\\": {\\\"value\\\": 260}, \\\"text\\\": {\\\"signal\\\": \\\"(toString(datum[\\\\\\\"type\\\\\\\"]) == \\\\\\\"integer\\\\\\\" || toString(datum[\\\\\\\"type\\\\\\\"]) == \\\\\\\"float\\\\\\\")? \\\\\\\"Median:\\\\\\\":\\\\\\\"\\\\\\\"\\\"}, \\\"align\\\": {\\\"value\\\": \\\"left\\\"}, \\\"baseline\\\": {\\\"value\\\": \\\"middle\\\"}, \\\"dx\\\": {\\\"value\\\": 0, \\\"offset\\\": 0}, \\\"dy\\\": {\\\"value\\\": 0, \\\"offset\\\": 0}, \\\"angle\\\": {\\\"value\\\": 0}, \\\"font\\\": {\\\"value\\\": \\\"AvenirNext-Medium\\\"}, \\\"fontSize\\\": {\\\"value\\\": 11}, \\\"fontWeight\\\": {\\\"value\\\": \\\"bold\\\"}, \\\"fontStyle\\\": {\\\"value\\\": \\\"normal\\\"}, \\\"fill\\\": {\\\"value\\\": \\\"#4A4A4A\\\"}}, \\\"update\\\": {\\\"x\\\": {\\\"signal\\\": \\\"datum[\\\\\\\"c_x_axis_back\\\\\\\"]+467\\\"}, \\\"y\\\": {\\\"field\\\": \\\"c_median\\\"}}}, \\\"type\\\": \\\"text\\\"}, {\\\"from\\\": {\\\"data\\\": \\\"data_2\\\"}, \\\"encode\\\": {\\\"enter\\\": {\\\"x\\\": {\\\"value\\\": 500}, \\\"y\\\": {\\\"value\\\": 280}, \\\"text\\\": {\\\"signal\\\": \\\"(toString(datum[\\\\\\\"type\\\\\\\"]) == \\\\\\\"integer\\\\\\\" || toString(datum[\\\\\\\"type\\\\\\\"]) == \\\\\\\"float\\\\\\\")? \\\\\\\"St. Dev:\\\\\\\":\\\\\\\"\\\\\\\"\\\"}, \\\"align\\\": {\\\"value\\\": \\\"left\\\"}, \\\"baseline\\\": {\\\"value\\\": \\\"middle\\\"}, \\\"dx\\\": {\\\"value\\\": 0, \\\"offset\\\": 0}, \\\"dy\\\": {\\\"value\\\": 0, \\\"offset\\\": 0}, \\\"angle\\\": {\\\"value\\\": 0}, \\\"font\\\": {\\\"value\\\": \\\"AvenirNext-Medium\\\"}, \\\"fontSize\\\": {\\\"value\\\": 11}, \\\"fontWeight\\\": {\\\"value\\\": \\\"bold\\\"}, \\\"fontStyle\\\": {\\\"value\\\": \\\"normal\\\"}, \\\"fill\\\": {\\\"value\\\": \\\"#4A4A4A\\\"}}, \\\"update\\\": {\\\"x\\\": {\\\"signal\\\": \\\"datum[\\\\\\\"c_x_axis_back\\\\\\\"]+467\\\"}, \\\"y\\\": {\\\"field\\\": \\\"c_stdev\\\"}}}, \\\"type\\\": \\\"text\\\"}, {\\\"from\\\": {\\\"data\\\": \\\"data_2\\\"}, \\\"encode\\\": {\\\"enter\\\": {\\\"x\\\": {\\\"value\\\": 700}, \\\"y\\\": {\\\"value\\\": 198}, \\\"text\\\": {\\\"signal\\\": \\\"(toString(datum[\\\\\\\"type\\\\\\\"]) == \\\\\\\"integer\\\\\\\" || toString(datum[\\\\\\\"type\\\\\\\"]) == \\\\\\\"float\\\\\\\")?toString(format(datum[\\\\\\\"mean\\\\\\\"], \\\\\\\",\\\\\\\")):\\\\\\\"\\\\\\\"\\\"}, \\\"align\\\": {\\\"value\\\": \\\"right\\\"}, \\\"baseline\\\": {\\\"value\\\": \\\"middle\\\"}, \\\"dx\\\": {\\\"value\\\": 0, \\\"offset\\\": 0}, \\\"dy\\\": {\\\"value\\\": 0, \\\"offset\\\": 0}, \\\"angle\\\": {\\\"value\\\": 0}, \\\"font\\\": {\\\"value\\\": \\\"AvenirNext-Medium\\\"}, \\\"fontSize\\\": {\\\"value\\\": 10}, \\\"fontWeight\\\": {\\\"value\\\": \\\"normal\\\"}, \\\"fontStyle\\\": {\\\"value\\\": \\\"normal\\\"}, \\\"fill\\\": {\\\"value\\\": \\\"#6A6A6A\\\"}}, \\\"update\\\": {\\\"x\\\": {\\\"signal\\\": \\\"datum[\\\\\\\"c_x_axis_back\\\\\\\"]+667\\\"}, \\\"y\\\": {\\\"field\\\": \\\"c_mean_val\\\"}}}, \\\"type\\\": \\\"text\\\"}, {\\\"from\\\": {\\\"data\\\": \\\"data_2\\\"}, \\\"encode\\\": {\\\"enter\\\": {\\\"x\\\": {\\\"value\\\": 700}, \\\"y\\\": {\\\"value\\\": 218}, \\\"text\\\": {\\\"signal\\\": \\\"(toString(datum[\\\\\\\"type\\\\\\\"]) == \\\\\\\"integer\\\\\\\" || toString(datum[\\\\\\\"type\\\\\\\"]) == \\\\\\\"float\\\\\\\")?toString(format(datum[\\\\\\\"min\\\\\\\"], \\\\\\\",\\\\\\\")):\\\\\\\"\\\\\\\"\\\"}, \\\"align\\\": {\\\"value\\\": \\\"right\\\"}, \\\"baseline\\\": {\\\"value\\\": \\\"middle\\\"}, \\\"dx\\\": {\\\"value\\\": 0, \\\"offset\\\": 0}, \\\"dy\\\": {\\\"value\\\": 0, \\\"offset\\\": 0}, \\\"angle\\\": {\\\"value\\\": 0}, \\\"font\\\": {\\\"value\\\": \\\"AvenirNext-Medium\\\"}, \\\"fontSize\\\": {\\\"value\\\": 10}, \\\"fontWeight\\\": {\\\"value\\\": \\\"normal\\\"}, \\\"fontStyle\\\": {\\\"value\\\": \\\"normal\\\"}, \\\"fill\\\": {\\\"value\\\": \\\"#6A6A6A\\\"}}, \\\"update\\\": {\\\"x\\\": {\\\"signal\\\": \\\"datum[\\\\\\\"c_x_axis_back\\\\\\\"]+667\\\"}, \\\"y\\\": {\\\"field\\\": \\\"c_min_val\\\"}}}, \\\"type\\\": \\\"text\\\"}, {\\\"from\\\": {\\\"data\\\": \\\"data_2\\\"}, \\\"encode\\\": {\\\"enter\\\": {\\\"x\\\": {\\\"value\\\": 700}, \\\"y\\\": {\\\"value\\\": 238}, \\\"text\\\": {\\\"signal\\\": \\\"(toString(datum[\\\\\\\"type\\\\\\\"]) == \\\\\\\"integer\\\\\\\" || toString(datum[\\\\\\\"type\\\\\\\"]) == \\\\\\\"float\\\\\\\")?toString(format(datum[\\\\\\\"max\\\\\\\"], \\\\\\\",\\\\\\\")):\\\\\\\"\\\\\\\"\\\"}, \\\"align\\\": {\\\"value\\\": \\\"right\\\"}, \\\"baseline\\\": {\\\"value\\\": \\\"middle\\\"}, \\\"dx\\\": {\\\"value\\\": 0, \\\"offset\\\": 0}, \\\"dy\\\": {\\\"value\\\": 0, \\\"offset\\\": 0}, \\\"angle\\\": {\\\"value\\\": 0}, \\\"font\\\": {\\\"value\\\": \\\"AvenirNext-Medium\\\"}, \\\"fontSize\\\": {\\\"value\\\": 10}, \\\"fontWeight\\\": {\\\"value\\\": \\\"normal\\\"}, \\\"fontStyle\\\": {\\\"value\\\": \\\"normal\\\"}, \\\"fill\\\": {\\\"value\\\": \\\"#6A6A6A\\\"}}, \\\"update\\\": {\\\"x\\\": {\\\"signal\\\": \\\"datum[\\\\\\\"c_x_axis_back\\\\\\\"]+667\\\"}, \\\"y\\\": {\\\"field\\\": \\\"c_max_val\\\"}}}, \\\"type\\\": \\\"text\\\"}, {\\\"from\\\": {\\\"data\\\": \\\"data_2\\\"}, \\\"encode\\\": {\\\"enter\\\": {\\\"x\\\": {\\\"value\\\": 700}, \\\"y\\\": {\\\"value\\\": 258}, \\\"text\\\": {\\\"signal\\\": \\\"(toString(datum[\\\\\\\"type\\\\\\\"]) == \\\\\\\"integer\\\\\\\" || toString(datum[\\\\\\\"type\\\\\\\"]) == \\\\\\\"float\\\\\\\")?toString(format(datum[\\\\\\\"median\\\\\\\"], \\\\\\\",\\\\\\\")):\\\\\\\"\\\\\\\"\\\"}, \\\"align\\\": {\\\"value\\\": \\\"right\\\"}, \\\"baseline\\\": {\\\"value\\\": \\\"middle\\\"}, \\\"dx\\\": {\\\"value\\\": 0, \\\"offset\\\": 0}, \\\"dy\\\": {\\\"value\\\": 0, \\\"offset\\\": 0}, \\\"angle\\\": {\\\"value\\\": 0}, \\\"font\\\": {\\\"value\\\": \\\"AvenirNext-Medium\\\"}, \\\"fontSize\\\": {\\\"value\\\": 10}, \\\"fontWeight\\\": {\\\"value\\\": \\\"normal\\\"}, \\\"fontStyle\\\": {\\\"value\\\": \\\"normal\\\"}, \\\"fill\\\": {\\\"value\\\": \\\"#6A6A6A\\\"}}, \\\"update\\\": {\\\"x\\\": {\\\"signal\\\": \\\"datum[\\\\\\\"c_x_axis_back\\\\\\\"]+667\\\"}, \\\"y\\\": {\\\"field\\\": \\\"c_median_val\\\"}}}, \\\"type\\\": \\\"text\\\"}, {\\\"from\\\": {\\\"data\\\": \\\"data_2\\\"}, \\\"encode\\\": {\\\"enter\\\": {\\\"x\\\": {\\\"value\\\": 700}, \\\"y\\\": {\\\"value\\\": 278}, \\\"text\\\": {\\\"signal\\\": \\\"(toString(datum[\\\\\\\"type\\\\\\\"]) == \\\\\\\"integer\\\\\\\" || toString(datum[\\\\\\\"type\\\\\\\"]) == \\\\\\\"float\\\\\\\")?toString(format(datum[\\\\\\\"stdev\\\\\\\"], \\\\\\\",\\\\\\\")):\\\\\\\"\\\\\\\"\\\"}, \\\"align\\\": {\\\"value\\\": \\\"right\\\"}, \\\"baseline\\\": {\\\"value\\\": \\\"middle\\\"}, \\\"dx\\\": {\\\"value\\\": 0, \\\"offset\\\": 0}, \\\"dy\\\": {\\\"value\\\": 0, \\\"offset\\\": 0}, \\\"angle\\\": {\\\"value\\\": 0}, \\\"font\\\": {\\\"value\\\": \\\"AvenirNext-Medium\\\"}, \\\"fontSize\\\": {\\\"value\\\": 10}, \\\"fontWeight\\\": {\\\"value\\\": \\\"normal\\\"}, \\\"fontStyle\\\": {\\\"value\\\": \\\"normal\\\"}, \\\"fill\\\": {\\\"value\\\": \\\"#6A6A6A\\\"}}, \\\"update\\\": {\\\"x\\\": {\\\"signal\\\": \\\"datum[\\\\\\\"c_x_axis_back\\\\\\\"]+667\\\"}, \\\"y\\\": {\\\"field\\\": \\\"c_stdev_val\\\"}}}, \\\"type\\\": \\\"text\\\"}, {\\\"from\\\": {\\\"facet\\\": {\\\"name\\\": \\\"new_data\\\", \\\"data\\\": \\\"data_2\\\", \\\"field\\\": \\\"numeric\\\"}}, \\\"encode\\\": {\\\"enter\\\": {\\\"x\\\": {\\\"value\\\": 120}, \\\"width\\\": {\\\"value\\\": 250}, \\\"y\\\": {\\\"field\\\": \\\"graph_offset\\\"}, \\\"height\\\": {\\\"value\\\": 150}, \\\"fill\\\": {\\\"value\\\": \\\"#ffffff\\\"}, \\\"fillOpacity\\\": {\\\"value\\\": 0}, \\\"stroke\\\": {\\\"value\\\": \\\"#000000\\\"}, \\\"strokeWidth\\\": {\\\"value\\\": 0}}, \\\"update\\\": {\\\"x\\\": {\\\"signal\\\": \\\"datum[\\\\\\\"c_x_axis_back\\\\\\\"]+87\\\"}, \\\"clip\\\": {\\\"field\\\": \\\"c_clip_val\\\"}, \\\"width\\\": {\\\"field\\\": \\\"c_width_numeric_val\\\"}}}, \\\"type\\\": \\\"group\\\", \\\"scales\\\": [{\\\"name\\\": \\\"x\\\", \\\"type\\\": \\\"linear\\\", \\\"domain\\\": {\\\"data\\\": \\\"new_data\\\", \\\"fields\\\": [\\\"left\\\", \\\"right\\\"], \\\"sort\\\": true}, \\\"range\\\": [0, {\\\"signal\\\": \\\"width\\\"}], \\\"nice\\\": true, \\\"zero\\\": true}, {\\\"name\\\": \\\"y\\\", \\\"type\\\": \\\"linear\\\", \\\"domain\\\": {\\\"data\\\": \\\"new_data\\\", \\\"field\\\": \\\"count\\\"}, \\\"range\\\": [{\\\"signal\\\": \\\"height\\\"}, 0], \\\"nice\\\": true, \\\"zero\\\": true}], \\\"axes\\\": [{\\\"title\\\": \\\"Values\\\", \\\"scale\\\": \\\"x\\\", \\\"labelOverlap\\\": true, \\\"orient\\\": \\\"bottom\\\", \\\"tickCount\\\": {\\\"signal\\\": \\\"ceil(width/40)\\\"}, \\\"zindex\\\": 1}, {\\\"scale\\\": \\\"x\\\", \\\"domain\\\": false, \\\"grid\\\": true, \\\"labels\\\": false, \\\"maxExtent\\\": 0, \\\"minExtent\\\": 0, \\\"orient\\\": \\\"bottom\\\", \\\"tickCount\\\": {\\\"signal\\\": \\\"ceil(width/40)\\\"}, \\\"ticks\\\": false, \\\"zindex\\\": 0, \\\"gridScale\\\": \\\"y\\\"}, {\\\"title\\\": \\\"Count\\\", \\\"scale\\\": \\\"y\\\", \\\"labelOverlap\\\": true, \\\"orient\\\": \\\"left\\\", \\\"tickCount\\\": {\\\"signal\\\": \\\"ceil(height/40)\\\"}, \\\"zindex\\\": 1}, {\\\"scale\\\": \\\"y\\\", \\\"domain\\\": false, \\\"grid\\\": true, \\\"labels\\\": false, \\\"maxExtent\\\": 0, \\\"minExtent\\\": 0, \\\"orient\\\": \\\"left\\\", \\\"tickCount\\\": {\\\"signal\\\": \\\"ceil(height/40)\\\"}, \\\"ticks\\\": false, \\\"zindex\\\": 0, \\\"gridScale\\\": \\\"x\\\"}], \\\"style\\\": \\\"cell\\\", \\\"signals\\\": [{\\\"name\\\": \\\"width\\\", \\\"update\\\": \\\"250\\\"}, {\\\"name\\\": \\\"height\\\", \\\"update\\\": \\\"150\\\"}], \\\"marks\\\": [{\\\"name\\\": \\\"marks\\\", \\\"type\\\": \\\"rect\\\", \\\"style\\\": [\\\"rect\\\"], \\\"from\\\": {\\\"data\\\": \\\"new_data\\\"}, \\\"encode\\\": {\\\"hover\\\": {\\\"fill\\\": {\\\"value\\\": \\\"#7EC2F3\\\"}}, \\\"update\\\": {\\\"x\\\": {\\\"scale\\\": \\\"x\\\", \\\"field\\\": \\\"left\\\"}, \\\"x2\\\": {\\\"scale\\\": \\\"x\\\", \\\"field\\\": \\\"right\\\"}, \\\"y\\\": {\\\"scale\\\": \\\"y\\\", \\\"field\\\": \\\"count\\\"}, \\\"y2\\\": {\\\"scale\\\": \\\"y\\\", \\\"value\\\": 0}, \\\"fill\\\": {\\\"value\\\": \\\"#108EE9\\\"}}}}]}, {\\\"from\\\": {\\\"facet\\\": {\\\"name\\\": \\\"data_5\\\", \\\"data\\\": \\\"data_2\\\", \\\"field\\\": \\\"categorical\\\"}}, \\\"encode\\\": {\\\"enter\\\": {\\\"x\\\": {\\\"value\\\": 170}, \\\"width\\\": {\\\"value\\\": 250}, \\\"y\\\": {\\\"field\\\": \\\"graph_offset_categorical\\\"}, \\\"height\\\": {\\\"value\\\": 150}, \\\"fill\\\": {\\\"value\\\": \\\"#ffffff\\\"}, \\\"fillOpacity\\\": {\\\"value\\\": 0}, \\\"stroke\\\": {\\\"value\\\": \\\"#000000\\\"}, \\\"strokeWidth\\\": {\\\"value\\\": 0}}, \\\"update\\\": {\\\"x\\\": {\\\"signal\\\": \\\"datum[\\\\\\\"c_x_axis_back\\\\\\\"]+137\\\"}, \\\"clip\\\": {\\\"field\\\": \\\"c_clip_val_cat\\\"}, \\\"width\\\": {\\\"field\\\": \\\"c_width_numeric_val_cat\\\"}}}, \\\"type\\\": \\\"group\\\", \\\"style\\\": \\\"cell\\\", \\\"signals\\\": [{\\\"name\\\": \\\"unit\\\", \\\"value\\\": {}, \\\"on\\\": [{\\\"events\\\": \\\"mousemove\\\", \\\"update\\\": \\\"isTuple(group()) ? group() : unit\\\"}]}, {\\\"name\\\": \\\"pts\\\", \\\"update\\\": \\\"data(\\\\\\\"pts_store\\\\\\\").length &amp;&amp; {count: data(\\\\\\\"pts_store\\\\\\\")[0].values[0]}\\\"}, {\\\"name\\\": \\\"pts_tuple\\\", \\\"value\\\": {}, \\\"on\\\": [{\\\"events\\\": [{\\\"source\\\": \\\"scope\\\", \\\"type\\\": \\\"click\\\"}], \\\"update\\\": \\\"datum &amp;&amp; item().mark.marktype !== &apos;group&apos; ? {unit: \\\\\\\"\\\\\\\", encodings: [\\\\\\\"x\\\\\\\"], fields: [\\\\\\\"count\\\\\\\"], values: [datum[\\\\\\\"count\\\\\\\"]]} : null\\\", \\\"force\\\": true}]}, {\\\"name\\\": \\\"pts_modify\\\", \\\"on\\\": [{\\\"events\\\": {\\\"signal\\\": \\\"pts_tuple\\\"}, \\\"update\\\": \\\"modify(\\\\\\\"pts_store\\\\\\\", pts_tuple, true)\\\"}]}], \\\"marks\\\": [{\\\"name\\\": \\\"marks\\\", \\\"type\\\": \\\"rect\\\", \\\"style\\\": [\\\"bar\\\"], \\\"from\\\": {\\\"data\\\": \\\"data_5\\\"}, \\\"encode\\\": {\\\"hover\\\": {\\\"fill\\\": {\\\"value\\\": \\\"#7EC2F3\\\"}}, \\\"update\\\": {\\\"x\\\": {\\\"scale\\\": \\\"x\\\", \\\"field\\\": \\\"count\\\"}, \\\"x2\\\": {\\\"scale\\\": \\\"x\\\", \\\"value\\\": 0}, \\\"y\\\": {\\\"scale\\\": \\\"y\\\", \\\"field\\\": \\\"label\\\"}, \\\"height\\\": {\\\"scale\\\": \\\"y\\\", \\\"band\\\": true}, \\\"fill\\\": {\\\"value\\\": \\\"#108EE9\\\"}}}}], \\\"scales\\\": [{\\\"name\\\": \\\"x\\\", \\\"type\\\": \\\"linear\\\", \\\"domain\\\": {\\\"data\\\": \\\"data_5\\\", \\\"field\\\": \\\"count\\\"}, \\\"range\\\": [0, 250], \\\"nice\\\": true, \\\"zero\\\": true}, {\\\"name\\\": \\\"y\\\", \\\"type\\\": \\\"band\\\", \\\"domain\\\": {\\\"data\\\": \\\"data_5\\\", \\\"field\\\": \\\"label\\\", \\\"sort\\\": {\\\"op\\\": \\\"mean\\\", \\\"field\\\": \\\"label_idx\\\", \\\"order\\\": \\\"descending\\\"}}, \\\"range\\\": [150, 0], \\\"paddingInner\\\": 0.1, \\\"paddingOuter\\\": 0.05}], \\\"axes\\\": [{\\\"orient\\\": \\\"top\\\", \\\"scale\\\": \\\"x\\\", \\\"labelOverlap\\\": true, \\\"tickCount\\\": {\\\"signal\\\": \\\"ceil(width/40)\\\"}, \\\"title\\\": \\\"Count\\\", \\\"zindex\\\": 1}, {\\\"orient\\\": \\\"top\\\", \\\"scale\\\": \\\"x\\\", \\\"domain\\\": false, \\\"grid\\\": true, \\\"labels\\\": false, \\\"maxExtent\\\": 0, \\\"minExtent\\\": 0, \\\"tickCount\\\": {\\\"signal\\\": \\\"ceil(width/40)\\\"}, \\\"ticks\\\": false, \\\"zindex\\\": 0, \\\"gridScale\\\": \\\"y\\\"}, {\\\"scale\\\": \\\"y\\\", \\\"labelOverlap\\\": true, \\\"orient\\\": \\\"left\\\", \\\"title\\\": \\\"Label\\\", \\\"zindex\\\": 1}]}], \\\"type\\\": \\\"group\\\"}], \\\"type\\\": \\\"group\\\"}], \\\"config\\\": {\\\"axis\\\": {\\\"labelFont\\\": \\\"HelveticaNeue-Light, Arial\\\", \\\"labelFontSize\\\": 7, \\\"labelPadding\\\": 10, \\\"labelColor\\\": \\\"#595959\\\", \\\"titleFont\\\": \\\"HelveticaNeue-Light, Arial\\\", \\\"titleFontWeight\\\": \\\"normal\\\", \\\"titlePadding\\\": 9, \\\"titleFontSize\\\": 12, \\\"titleColor\\\": \\\"#595959\\\"}, \\\"axisY\\\": {\\\"minExtent\\\": 30}, \\\"style\\\": {\\\"rect\\\": {\\\"stroke\\\": \\\"rgba(200, 200, 200, 0.5)\\\"}, \\\"group-title\\\": {\\\"fontSize\\\": 20, \\\"font\\\": \\\"HelveticaNeue-Light, Arial\\\", \\\"fontWeight\\\": \\\"normal\\\", \\\"fill\\\": \\\"#595959\\\"}}}}\";                                 var vega_json_parsed = JSON.parse(vega_json);                                 var toolTipOpts = {                                     showAllFields: true                                 };                                 if(vega_json_parsed[\"metadata\"] != null){                                     if(vega_json_parsed[\"metadata\"][\"bubbleOpts\"] != null){                                         toolTipOpts = vega_json_parsed[\"metadata\"][\"bubbleOpts\"];                                     };                                 };                                 vegaEmbed(\"#vis\", vega_json_parsed).then(function (result) {                                     vegaTooltip.vega(result.view, toolTipOpts);                                  });                             </script>                         </body>                     </html>' src=\"demo_iframe_srcdoc.htm\">                         <p>Your browser does not support iframes.</p>                     </iframe>                 </body>             </html>"
      ],
      "text/plain": [
       "<IPython.core.display.HTML object>"
      ]
     },
     "metadata": {},
     "output_type": "display_data"
    }
   ],
   "source": [
    "data.show()"
   ]
  },
  {
   "cell_type": "markdown",
   "metadata": {},
   "source": [
    "### Train-test split"
   ]
  },
  {
   "cell_type": "code",
   "execution_count": 9,
   "metadata": {},
   "outputs": [],
   "source": [
    "train, test = data.random_split(0.7)"
   ]
  },
  {
   "cell_type": "markdown",
   "metadata": {},
   "source": [
    "### Train model\n",
    "In this case, Random Forest Classifier, where we are attempting to predict/differentiate between causes of death, again, given each case description and associated biographical information features"
   ]
  },
  {
   "cell_type": "code",
   "execution_count": 10,
   "metadata": {},
   "outputs": [
    {
     "name": "stdout",
     "output_type": "stream",
     "text": [
      "PROGRESS: Creating a validation set from 5 percent of training data. This may take a while.\n",
      "          You can set ``validation_set=None`` to disable validation tracking.\n",
      "\n"
     ]
    },
    {
     "data": {
      "text/html": [
       "<pre>Random forest classifier:</pre>"
      ],
      "text/plain": [
       "Random forest classifier:"
      ]
     },
     "metadata": {},
     "output_type": "display_data"
    },
    {
     "data": {
      "text/html": [
       "<pre>--------------------------------------------------------</pre>"
      ],
      "text/plain": [
       "--------------------------------------------------------"
      ]
     },
     "metadata": {},
     "output_type": "display_data"
    },
    {
     "data": {
      "text/html": [
       "<pre>Number of examples          : 1701363</pre>"
      ],
      "text/plain": [
       "Number of examples          : 1701363"
      ]
     },
     "metadata": {},
     "output_type": "display_data"
    },
    {
     "data": {
      "text/html": [
       "<pre>Number of classes           : 6</pre>"
      ],
      "text/plain": [
       "Number of classes           : 6"
      ]
     },
     "metadata": {},
     "output_type": "display_data"
    },
    {
     "data": {
      "text/html": [
       "<pre>Number of feature columns   : 76</pre>"
      ],
      "text/plain": [
       "Number of feature columns   : 76"
      ]
     },
     "metadata": {},
     "output_type": "display_data"
    },
    {
     "data": {
      "text/html": [
       "<pre>Number of unpacked features : 76</pre>"
      ],
      "text/plain": [
       "Number of unpacked features : 76"
      ]
     },
     "metadata": {},
     "output_type": "display_data"
    },
    {
     "data": {
      "text/html": [
       "<pre>+-----------+--------------+-------------------+---------------------+-------------------+---------------------+</pre>"
      ],
      "text/plain": [
       "+-----------+--------------+-------------------+---------------------+-------------------+---------------------+"
      ]
     },
     "metadata": {},
     "output_type": "display_data"
    },
    {
     "data": {
      "text/html": [
       "<pre>| Iteration | Elapsed Time | Training Accuracy | Validation Accuracy | Training Log Loss | Validation Log Loss |</pre>"
      ],
      "text/plain": [
       "| Iteration | Elapsed Time | Training Accuracy | Validation Accuracy | Training Log Loss | Validation Log Loss |"
      ]
     },
     "metadata": {},
     "output_type": "display_data"
    },
    {
     "data": {
      "text/html": [
       "<pre>+-----------+--------------+-------------------+---------------------+-------------------+---------------------+</pre>"
      ],
      "text/plain": [
       "+-----------+--------------+-------------------+---------------------+-------------------+---------------------+"
      ]
     },
     "metadata": {},
     "output_type": "display_data"
    },
    {
     "data": {
      "text/html": [
       "<pre>| 1         | 26.856014    | 0.994246          | 0.994439            | 0.147654          | 0.147421            |</pre>"
      ],
      "text/plain": [
       "| 1         | 26.856014    | 0.994246          | 0.994439            | 0.147654          | 0.147421            |"
      ]
     },
     "metadata": {},
     "output_type": "display_data"
    },
    {
     "data": {
      "text/html": [
       "<pre>| 2         | 48.968264    | 0.994259          | 0.994494            | 0.147090          | 0.146827            |</pre>"
      ],
      "text/plain": [
       "| 2         | 48.968264    | 0.994259          | 0.994494            | 0.147090          | 0.146827            |"
      ]
     },
     "metadata": {},
     "output_type": "display_data"
    },
    {
     "data": {
      "text/html": [
       "<pre>| 3         | 71.721601    | 0.994461          | 0.994606            | 0.146320          | 0.145983            |</pre>"
      ],
      "text/plain": [
       "| 3         | 71.721601    | 0.994461          | 0.994606            | 0.146320          | 0.145983            |"
      ]
     },
     "metadata": {},
     "output_type": "display_data"
    },
    {
     "data": {
      "text/html": [
       "<pre>| 4         | 92.673887    | 0.994484          | 0.994550            | 0.146347          | 0.146025            |</pre>"
      ],
      "text/plain": [
       "| 4         | 92.673887    | 0.994484          | 0.994550            | 0.146347          | 0.146025            |"
      ]
     },
     "metadata": {},
     "output_type": "display_data"
    },
    {
     "data": {
      "text/html": [
       "<pre>| 5         | 113.296970   | 0.994497          | 0.994561            | 0.146377          | 0.146045            |</pre>"
      ],
      "text/plain": [
       "| 5         | 113.296970   | 0.994497          | 0.994561            | 0.146377          | 0.146045            |"
      ]
     },
     "metadata": {},
     "output_type": "display_data"
    },
    {
     "data": {
      "text/html": [
       "<pre>| 7         | 155.729083   | 0.994497          | 0.994584            | 0.146020          | 0.145659            |</pre>"
      ],
      "text/plain": [
       "| 7         | 155.729083   | 0.994497          | 0.994584            | 0.146020          | 0.145659            |"
      ]
     },
     "metadata": {},
     "output_type": "display_data"
    },
    {
     "data": {
      "text/html": [
       "<pre>| 8         | 177.150986   | 0.994476          | 0.994539            | 0.146039          | 0.145657            |</pre>"
      ],
      "text/plain": [
       "| 8         | 177.150986   | 0.994476          | 0.994539            | 0.146039          | 0.145657            |"
      ]
     },
     "metadata": {},
     "output_type": "display_data"
    },
    {
     "data": {
      "text/html": [
       "<pre>| 9         | 197.570217   | 0.994499          | 0.994528            | 0.146132          | 0.145781            |</pre>"
      ],
      "text/plain": [
       "| 9         | 197.570217   | 0.994499          | 0.994528            | 0.146132          | 0.145781            |"
      ]
     },
     "metadata": {},
     "output_type": "display_data"
    },
    {
     "data": {
      "text/html": [
       "<pre>| 10        | 218.400468   | 0.994506          | 0.994517            | 0.145991          | 0.145627            |</pre>"
      ],
      "text/plain": [
       "| 10        | 218.400468   | 0.994506          | 0.994517            | 0.145991          | 0.145627            |"
      ]
     },
     "metadata": {},
     "output_type": "display_data"
    },
    {
     "data": {
      "text/html": [
       "<pre>+-----------+--------------+-------------------+---------------------+-------------------+---------------------+</pre>"
      ],
      "text/plain": [
       "+-----------+--------------+-------------------+---------------------+-------------------+---------------------+"
      ]
     },
     "metadata": {},
     "output_type": "display_data"
    }
   ],
   "source": [
    "rand_model = tc.random_forest_classifier.create(train, target='Manner_Of_Death', row_subsample=0.3)"
   ]
  },
  {
   "cell_type": "markdown",
   "metadata": {},
   "source": [
    "### Evaluate"
   ]
  },
  {
   "cell_type": "code",
   "execution_count": 11,
   "metadata": {},
   "outputs": [
    {
     "data": {
      "text/plain": [
       "{'accuracy': 0.99453492769309,\n",
       " 'auc': 0.9863796253930529,\n",
       " 'confusion_matrix': Columns:\n",
       " \ttarget_label\tint\n",
       " \tpredicted_label\tint\n",
       " \tcount\tint\n",
       " \n",
       " Rows: 32\n",
       " \n",
       " Data:\n",
       " +--------------+-----------------+--------+\n",
       " | target_label | predicted_label | count  |\n",
       " +--------------+-----------------+--------+\n",
       " |      4       |        1        |   89   |\n",
       " |      7       |        4        |  134   |\n",
       " |      5       |        7        |  668   |\n",
       " |      5       |        4        |  394   |\n",
       " |      3       |        7        |   26   |\n",
       " |      1       |        5        |   18   |\n",
       " |      7       |        7        | 690543 |\n",
       " |      1       |        3        |   3    |\n",
       " |      7       |        5        |   87   |\n",
       " |      3       |        1        |  111   |\n",
       " +--------------+-----------------+--------+\n",
       " [32 rows x 3 columns]\n",
       " Note: Only the head of the SFrame is printed.\n",
       " You can use print_rows(num_rows=m, num_columns=n) to print more rows and columns.,\n",
       " 'f1_score': 0.8913058756838216,\n",
       " 'log_loss': 0.14585615528438295,\n",
       " 'precision': 0.9121047789610853,\n",
       " 'recall': 0.8764964168823125,\n",
       " 'roc_curve': Columns:\n",
       " \tthreshold\tfloat\n",
       " \tfpr\tfloat\n",
       " \ttpr\tfloat\n",
       " \tp\tint\n",
       " \tn\tint\n",
       " \tclass\tint\n",
       " \n",
       " Rows: 600006\n",
       " \n",
       " Data:\n",
       " +-----------+-----+-----+-------+--------+-------+\n",
       " | threshold | fpr | tpr |   p   |   n    | class |\n",
       " +-----------+-----+-----+-------+--------+-------+\n",
       " |    0.0    | 1.0 | 1.0 | 50256 | 716614 |   0   |\n",
       " |   1e-05   | 1.0 | 1.0 | 50256 | 716614 |   0   |\n",
       " |   2e-05   | 1.0 | 1.0 | 50256 | 716614 |   0   |\n",
       " |   3e-05   | 1.0 | 1.0 | 50256 | 716614 |   0   |\n",
       " |   4e-05   | 1.0 | 1.0 | 50256 | 716614 |   0   |\n",
       " |   5e-05   | 1.0 | 1.0 | 50256 | 716614 |   0   |\n",
       " |   6e-05   | 1.0 | 1.0 | 50256 | 716614 |   0   |\n",
       " |   7e-05   | 1.0 | 1.0 | 50256 | 716614 |   0   |\n",
       " |   8e-05   | 1.0 | 1.0 | 50256 | 716614 |   0   |\n",
       " |   9e-05   | 1.0 | 1.0 | 50256 | 716614 |   0   |\n",
       " +-----------+-----+-----+-------+--------+-------+\n",
       " [600006 rows x 6 columns]\n",
       " Note: Only the head of the SFrame is printed.\n",
       " You can use print_rows(num_rows=m, num_columns=n) to print more rows and columns.}"
      ]
     },
     "execution_count": 11,
     "metadata": {},
     "output_type": "execute_result"
    }
   ],
   "source": [
    "rand_results = rand_model.evaluate(test)\n",
    "rand_results"
   ]
  },
  {
   "cell_type": "code",
   "execution_count": null,
   "metadata": {},
   "outputs": [],
   "source": []
  }
 ],
 "metadata": {
  "kernelspec": {
   "display_name": "Python 3",
   "language": "python",
   "name": "python3"
  },
  "language_info": {
   "codemirror_mode": {
    "name": "ipython",
    "version": 3
   },
   "file_extension": ".py",
   "mimetype": "text/x-python",
   "name": "python",
   "nbconvert_exporter": "python",
   "pygments_lexer": "ipython3",
   "version": "3.7.3"
  }
 },
 "nbformat": 4,
 "nbformat_minor": 2
}
